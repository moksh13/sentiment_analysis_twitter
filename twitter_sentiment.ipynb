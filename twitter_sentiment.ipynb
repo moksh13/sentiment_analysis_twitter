{
  "nbformat": 4,
  "nbformat_minor": 0,
  "metadata": {
    "kernelspec": {
      "display_name": "Python 3",
      "language": "python",
      "name": "python3"
    },
    "language_info": {
      "name": "python",
      "version": "3.6.6",
      "mimetype": "text/x-python",
      "codemirror_mode": {
        "name": "ipython",
        "version": 3
      },
      "pygments_lexer": "ipython3",
      "nbconvert_exporter": "python",
      "file_extension": ".py"
    },
    "colab": {
      "name": "twitter-sentiment.ipynb",
      "provenance": []
    },
    "accelerator": "GPU"
  },
  "cells": [
    {
      "cell_type": "markdown",
      "metadata": {
        "_uuid": "92b885dd147dac19bd0a33db3cd0da100bd5bc23",
        "id": "POtjANoAn6Dk",
        "colab_type": "text"
      },
      "source": [
        "# Twitter Sentiment Analysis"
      ]
    },
    {
      "cell_type": "code",
      "metadata": {
        "trusted": true,
        "_uuid": "70282bce8b42a51e4d44f2c7d85c4ca9567b0fd4",
        "id": "WCkb_BY6n6Do",
        "colab_type": "code",
        "colab": {
          "base_uri": "https://localhost:8080/",
          "height": 694
        },
        "outputId": "aae6bc66-82e3-4429-9d53-20d76b143a11"
      },
      "source": [
        "!pip install gensim --upgrade\n",
        "!pip install keras --upgrade\n",
        "!pip install pandas --upgrade"
      ],
      "execution_count": null,
      "outputs": [
        {
          "output_type": "stream",
          "text": [
            "Collecting gensim\n",
            "\u001b[?25l  Downloading https://files.pythonhosted.org/packages/2b/e0/fa6326251692056dc880a64eb22117e03269906ba55a6864864d24ec8b4e/gensim-3.8.3-cp36-cp36m-manylinux1_x86_64.whl (24.2MB)\n",
            "\u001b[K     |████████████████████████████████| 24.2MB 128kB/s \n",
            "\u001b[?25hRequirement already satisfied, skipping upgrade: numpy>=1.11.3 in /usr/local/lib/python3.6/dist-packages (from gensim) (1.18.5)\n",
            "Requirement already satisfied, skipping upgrade: scipy>=0.18.1 in /usr/local/lib/python3.6/dist-packages (from gensim) (1.4.1)\n",
            "Requirement already satisfied, skipping upgrade: smart-open>=1.8.1 in /usr/local/lib/python3.6/dist-packages (from gensim) (2.0.0)\n",
            "Requirement already satisfied, skipping upgrade: six>=1.5.0 in /usr/local/lib/python3.6/dist-packages (from gensim) (1.12.0)\n",
            "Requirement already satisfied, skipping upgrade: boto in /usr/local/lib/python3.6/dist-packages (from smart-open>=1.8.1->gensim) (2.49.0)\n",
            "Requirement already satisfied, skipping upgrade: requests in /usr/local/lib/python3.6/dist-packages (from smart-open>=1.8.1->gensim) (2.23.0)\n",
            "Requirement already satisfied, skipping upgrade: boto3 in /usr/local/lib/python3.6/dist-packages (from smart-open>=1.8.1->gensim) (1.13.23)\n",
            "Requirement already satisfied, skipping upgrade: urllib3!=1.25.0,!=1.25.1,<1.26,>=1.21.1 in /usr/local/lib/python3.6/dist-packages (from requests->smart-open>=1.8.1->gensim) (1.24.3)\n",
            "Requirement already satisfied, skipping upgrade: certifi>=2017.4.17 in /usr/local/lib/python3.6/dist-packages (from requests->smart-open>=1.8.1->gensim) (2020.4.5.1)\n",
            "Requirement already satisfied, skipping upgrade: chardet<4,>=3.0.2 in /usr/local/lib/python3.6/dist-packages (from requests->smart-open>=1.8.1->gensim) (3.0.4)\n",
            "Requirement already satisfied, skipping upgrade: idna<3,>=2.5 in /usr/local/lib/python3.6/dist-packages (from requests->smart-open>=1.8.1->gensim) (2.9)\n",
            "Requirement already satisfied, skipping upgrade: s3transfer<0.4.0,>=0.3.0 in /usr/local/lib/python3.6/dist-packages (from boto3->smart-open>=1.8.1->gensim) (0.3.3)\n",
            "Requirement already satisfied, skipping upgrade: botocore<1.17.0,>=1.16.23 in /usr/local/lib/python3.6/dist-packages (from boto3->smart-open>=1.8.1->gensim) (1.16.23)\n",
            "Requirement already satisfied, skipping upgrade: jmespath<1.0.0,>=0.7.1 in /usr/local/lib/python3.6/dist-packages (from boto3->smart-open>=1.8.1->gensim) (0.10.0)\n",
            "Requirement already satisfied, skipping upgrade: docutils<0.16,>=0.10 in /usr/local/lib/python3.6/dist-packages (from botocore<1.17.0,>=1.16.23->boto3->smart-open>=1.8.1->gensim) (0.15.2)\n",
            "Requirement already satisfied, skipping upgrade: python-dateutil<3.0.0,>=2.1 in /usr/local/lib/python3.6/dist-packages (from botocore<1.17.0,>=1.16.23->boto3->smart-open>=1.8.1->gensim) (2.8.1)\n",
            "Installing collected packages: gensim\n",
            "  Found existing installation: gensim 3.6.0\n",
            "    Uninstalling gensim-3.6.0:\n",
            "      Successfully uninstalled gensim-3.6.0\n",
            "Successfully installed gensim-3.8.3\n",
            "Requirement already up-to-date: keras in /usr/local/lib/python3.6/dist-packages (2.3.1)\n",
            "Requirement already satisfied, skipping upgrade: six>=1.9.0 in /usr/local/lib/python3.6/dist-packages (from keras) (1.12.0)\n",
            "Requirement already satisfied, skipping upgrade: h5py in /usr/local/lib/python3.6/dist-packages (from keras) (2.10.0)\n",
            "Requirement already satisfied, skipping upgrade: numpy>=1.9.1 in /usr/local/lib/python3.6/dist-packages (from keras) (1.18.5)\n",
            "Requirement already satisfied, skipping upgrade: scipy>=0.14 in /usr/local/lib/python3.6/dist-packages (from keras) (1.4.1)\n",
            "Requirement already satisfied, skipping upgrade: keras-applications>=1.0.6 in /usr/local/lib/python3.6/dist-packages (from keras) (1.0.8)\n",
            "Requirement already satisfied, skipping upgrade: pyyaml in /usr/local/lib/python3.6/dist-packages (from keras) (3.13)\n",
            "Requirement already satisfied, skipping upgrade: keras-preprocessing>=1.0.5 in /usr/local/lib/python3.6/dist-packages (from keras) (1.1.2)\n",
            "Requirement already up-to-date: pandas in /usr/local/lib/python3.6/dist-packages (1.0.4)\n",
            "Requirement already satisfied, skipping upgrade: numpy>=1.13.3 in /usr/local/lib/python3.6/dist-packages (from pandas) (1.18.5)\n",
            "Requirement already satisfied, skipping upgrade: pytz>=2017.2 in /usr/local/lib/python3.6/dist-packages (from pandas) (2018.9)\n",
            "Requirement already satisfied, skipping upgrade: python-dateutil>=2.6.1 in /usr/local/lib/python3.6/dist-packages (from pandas) (2.8.1)\n",
            "Requirement already satisfied, skipping upgrade: six>=1.5 in /usr/local/lib/python3.6/dist-packages (from python-dateutil>=2.6.1->pandas) (1.12.0)\n"
          ],
          "name": "stdout"
        }
      ]
    },
    {
      "cell_type": "code",
      "metadata": {
        "trusted": true,
        "_uuid": "303e72966af732ddef0bd8108a321095314e44af",
        "id": "QbihWokzn6Dy",
        "colab_type": "code",
        "colab": {
          "base_uri": "https://localhost:8080/",
          "height": 34
        },
        "outputId": "49a80444-118a-4c73-87e3-bae2e58dc8e6"
      },
      "source": [
        "# DataFrame\n",
        "import pandas as pd\n",
        "\n",
        "# Matplot\n",
        "import matplotlib.pyplot as plt\n",
        "%matplotlib inline\n",
        "\n",
        "# Scikit-learn\n",
        "from sklearn.model_selection import train_test_split\n",
        "from sklearn.preprocessing import LabelEncoder\n",
        "from sklearn.metrics import confusion_matrix, classification_report, accuracy_score\n",
        "from sklearn.manifold import TSNE\n",
        "from sklearn.feature_extraction.text import TfidfVectorizer\n",
        "\n",
        "# Keras\n",
        "from keras.preprocessing.text import Tokenizer\n",
        "from keras.preprocessing.sequence import pad_sequences\n",
        "from keras.models import Sequential\n",
        "from keras.layers import Activation, Dense, Dropout, Embedding, Flatten, Conv1D, MaxPooling1D, LSTM\n",
        "from keras import utils\n",
        "from keras.callbacks import ReduceLROnPlateau, EarlyStopping\n",
        "\n",
        "# nltk\n",
        "import nltk\n",
        "from nltk.corpus import stopwords\n",
        "from  nltk.stem import SnowballStemmer\n",
        "\n",
        "# Word2vec\n",
        "import gensim\n",
        "\n",
        "# Utility\n",
        "import re\n",
        "import numpy as np\n",
        "import os\n",
        "from collections import Counter\n",
        "import logging\n",
        "import time\n",
        "import pickle\n",
        "import itertools\n",
        "\n",
        "# Set log\n",
        "logging.basicConfig(format='%(asctime)s : %(levelname)s : %(message)s', level=logging.INFO)"
      ],
      "execution_count": null,
      "outputs": [
        {
          "output_type": "stream",
          "text": [
            "Using TensorFlow backend.\n"
          ],
          "name": "stderr"
        }
      ]
    },
    {
      "cell_type": "code",
      "metadata": {
        "trusted": true,
        "_uuid": "35e1a89dead5fd160e4c9a024a21d2e569fc89ff",
        "id": "G80TkOAdn6D5",
        "colab_type": "code",
        "colab": {
          "base_uri": "https://localhost:8080/",
          "height": 70
        },
        "outputId": "c07cc63a-478c-4c91-aed9-c0465d60c1c8"
      },
      "source": [
        "nltk.download('stopwords')"
      ],
      "execution_count": null,
      "outputs": [
        {
          "output_type": "stream",
          "text": [
            "[nltk_data] Downloading package stopwords to /root/nltk_data...\n",
            "[nltk_data]   Unzipping corpora/stopwords.zip.\n"
          ],
          "name": "stdout"
        },
        {
          "output_type": "execute_result",
          "data": {
            "text/plain": [
              "True"
            ]
          },
          "metadata": {
            "tags": []
          },
          "execution_count": 3
        }
      ]
    },
    {
      "cell_type": "markdown",
      "metadata": {
        "_uuid": "e8b01a07df001e4abcc745900336c4db06e455f3",
        "id": "ZhHZg8Gpn6EC",
        "colab_type": "text"
      },
      "source": [
        "### Settings"
      ]
    },
    {
      "cell_type": "code",
      "metadata": {
        "trusted": true,
        "_uuid": "180f0dd2a95419e4602b5c0229822b0111c826f6",
        "id": "PacFk-OSn6ED",
        "colab_type": "code",
        "colab": {}
      },
      "source": [
        "# DATASET\n",
        "DATASET_COLUMNS = [\"target\", \"ids\", \"date\", \"flag\", \"user\", \"text\"]\n",
        "DATASET_ENCODING = \"ISO-8859-1\"\n",
        "TRAIN_SIZE = 0.8\n",
        "\n",
        "# TEXT CLENAING\n",
        "TEXT_CLEANING_RE = \"@\\S+|https?:\\S+|http?:\\S|[^A-Za-z0-9]+\"\n",
        "\n",
        "# WORD2VEC \n",
        "W2V_SIZE = 300\n",
        "W2V_WINDOW = 7\n",
        "W2V_EPOCH = 32\n",
        "W2V_MIN_COUNT = 10\n",
        "\n",
        "# KERAS\n",
        "SEQUENCE_LENGTH = 300\n",
        "EPOCHS = 8\n",
        "BATCH_SIZE = 1024\n",
        "\n",
        "# SENTIMENT\n",
        "POSITIVE = \"POSITIVE\"\n",
        "NEGATIVE = \"NEGATIVE\"\n",
        "NEUTRAL = \"NEUTRAL\"\n",
        "SENTIMENT_THRESHOLDS = (0.4, 0.7)\n",
        "\n",
        "# EXPORT\n",
        "KERAS_MODEL = \"model.h5\""
      ],
      "execution_count": null,
      "outputs": []
    },
    {
      "cell_type": "markdown",
      "metadata": {
        "id": "KiYRZ3GxoveI",
        "colab_type": "text"
      },
      "source": [
        "## Mount data\n"
      ]
    },
    {
      "cell_type": "code",
      "metadata": {
        "id": "EyjmHfnNGwMH",
        "colab_type": "code",
        "colab": {
          "base_uri": "https://localhost:8080/",
          "height": 122
        },
        "outputId": "6fa16191-27db-42f0-9c75-ea8043b489f6"
      },
      "source": [
        "from google.colab import drive\n",
        "drive.mount('/content/drive')"
      ],
      "execution_count": null,
      "outputs": [
        {
          "output_type": "stream",
          "text": [
            "Go to this URL in a browser: https://accounts.google.com/o/oauth2/auth?client_id=947318989803-6bn6qk8qdgf4n4g3pfee6491hc0brc4i.apps.googleusercontent.com&redirect_uri=urn%3aietf%3awg%3aoauth%3a2.0%3aoob&response_type=code&scope=email%20https%3a%2f%2fwww.googleapis.com%2fauth%2fdocs.test%20https%3a%2f%2fwww.googleapis.com%2fauth%2fdrive%20https%3a%2f%2fwww.googleapis.com%2fauth%2fdrive.photos.readonly%20https%3a%2f%2fwww.googleapis.com%2fauth%2fpeopleapi.readonly\n",
            "\n",
            "Enter your authorization code:\n",
            "··········\n",
            "Mounted at /content/drive\n"
          ],
          "name": "stdout"
        }
      ]
    },
    {
      "cell_type": "markdown",
      "metadata": {
        "_uuid": "1c3beecc618be68480b3d4f0de08d9d863da1dc1",
        "id": "uiK5V1Q-n6EM",
        "colab_type": "text"
      },
      "source": [
        "### Read Dataset"
      ]
    },
    {
      "cell_type": "markdown",
      "metadata": {
        "_uuid": "563b3c44f1092dba0b853747b098e00509098cca",
        "id": "HdSNvcMsn6EO",
        "colab_type": "text"
      },
      "source": [
        "### Dataset details\n",
        "* **target**: the polarity of the tweet (0 = negative, 2 = neutral, 4 = positive)\n",
        "* **ids**: The id of the tweet ( 2087)\n",
        "* **date**: the date of the tweet (Sat May 16 23:58:44 UTC 2009)\n",
        "* **flag**: The query (lyx). If there is no query, then this value is NO_QUERY.\n",
        "* **user**: the user that tweeted (robotickilldozr)\n",
        "* **text**: the text of the tweet (Lyx is cool)"
      ]
    },
    {
      "cell_type": "code",
      "metadata": {
        "trusted": true,
        "_uuid": "bba8f91cd70de4f5ea0fb0870ae2029b6e3dcc24",
        "id": "gPYoIYkIn6EQ",
        "colab_type": "code",
        "colab": {}
      },
      "source": [
        "df = pd.read_csv('/content/drive/My Drive/data.csv', encoding =DATASET_ENCODING , names=DATASET_COLUMNS)"
      ],
      "execution_count": null,
      "outputs": []
    },
    {
      "cell_type": "code",
      "metadata": {
        "trusted": true,
        "_uuid": "936d499c00c4f1648bc16ca9d283c3b39be7fb10",
        "id": "mbGYhZSsn6EY",
        "colab_type": "code",
        "colab": {
          "base_uri": "https://localhost:8080/",
          "height": 34
        },
        "outputId": "fb7bc877-699c-496d-bbe7-fef6e917fde6"
      },
      "source": [
        "print(\"Dataset size:\", len(df))"
      ],
      "execution_count": null,
      "outputs": [
        {
          "output_type": "stream",
          "text": [
            "Dataset size: 1600000\n"
          ],
          "name": "stdout"
        }
      ]
    },
    {
      "cell_type": "code",
      "metadata": {
        "trusted": true,
        "_uuid": "7486ed895b813c5246f97b31b6162b0f65ff763b",
        "id": "zIlWyr3gn6Eh",
        "colab_type": "code",
        "colab": {
          "base_uri": "https://localhost:8080/",
          "height": 204
        },
        "outputId": "73095025-d57b-4033-f12e-c3973481541d"
      },
      "source": [
        "df.head(5)"
      ],
      "execution_count": null,
      "outputs": [
        {
          "output_type": "execute_result",
          "data": {
            "text/html": [
              "<div>\n",
              "<style scoped>\n",
              "    .dataframe tbody tr th:only-of-type {\n",
              "        vertical-align: middle;\n",
              "    }\n",
              "\n",
              "    .dataframe tbody tr th {\n",
              "        vertical-align: top;\n",
              "    }\n",
              "\n",
              "    .dataframe thead th {\n",
              "        text-align: right;\n",
              "    }\n",
              "</style>\n",
              "<table border=\"1\" class=\"dataframe\">\n",
              "  <thead>\n",
              "    <tr style=\"text-align: right;\">\n",
              "      <th></th>\n",
              "      <th>target</th>\n",
              "      <th>ids</th>\n",
              "      <th>date</th>\n",
              "      <th>flag</th>\n",
              "      <th>user</th>\n",
              "      <th>text</th>\n",
              "    </tr>\n",
              "  </thead>\n",
              "  <tbody>\n",
              "    <tr>\n",
              "      <th>0</th>\n",
              "      <td>0</td>\n",
              "      <td>1467810369</td>\n",
              "      <td>Mon Apr 06 22:19:45 PDT 2009</td>\n",
              "      <td>NO_QUERY</td>\n",
              "      <td>_TheSpecialOne_</td>\n",
              "      <td>@switchfoot http://twitpic.com/2y1zl - Awww, t...</td>\n",
              "    </tr>\n",
              "    <tr>\n",
              "      <th>1</th>\n",
              "      <td>0</td>\n",
              "      <td>1467810672</td>\n",
              "      <td>Mon Apr 06 22:19:49 PDT 2009</td>\n",
              "      <td>NO_QUERY</td>\n",
              "      <td>scotthamilton</td>\n",
              "      <td>is upset that he can't update his Facebook by ...</td>\n",
              "    </tr>\n",
              "    <tr>\n",
              "      <th>2</th>\n",
              "      <td>0</td>\n",
              "      <td>1467810917</td>\n",
              "      <td>Mon Apr 06 22:19:53 PDT 2009</td>\n",
              "      <td>NO_QUERY</td>\n",
              "      <td>mattycus</td>\n",
              "      <td>@Kenichan I dived many times for the ball. Man...</td>\n",
              "    </tr>\n",
              "    <tr>\n",
              "      <th>3</th>\n",
              "      <td>0</td>\n",
              "      <td>1467811184</td>\n",
              "      <td>Mon Apr 06 22:19:57 PDT 2009</td>\n",
              "      <td>NO_QUERY</td>\n",
              "      <td>ElleCTF</td>\n",
              "      <td>my whole body feels itchy and like its on fire</td>\n",
              "    </tr>\n",
              "    <tr>\n",
              "      <th>4</th>\n",
              "      <td>0</td>\n",
              "      <td>1467811193</td>\n",
              "      <td>Mon Apr 06 22:19:57 PDT 2009</td>\n",
              "      <td>NO_QUERY</td>\n",
              "      <td>Karoli</td>\n",
              "      <td>@nationwideclass no, it's not behaving at all....</td>\n",
              "    </tr>\n",
              "  </tbody>\n",
              "</table>\n",
              "</div>"
            ],
            "text/plain": [
              "   target  ...                                               text\n",
              "0       0  ...  @switchfoot http://twitpic.com/2y1zl - Awww, t...\n",
              "1       0  ...  is upset that he can't update his Facebook by ...\n",
              "2       0  ...  @Kenichan I dived many times for the ball. Man...\n",
              "3       0  ...    my whole body feels itchy and like its on fire \n",
              "4       0  ...  @nationwideclass no, it's not behaving at all....\n",
              "\n",
              "[5 rows x 6 columns]"
            ]
          },
          "metadata": {
            "tags": []
          },
          "execution_count": 8
        }
      ]
    },
    {
      "cell_type": "markdown",
      "metadata": {
        "_uuid": "3f9a7bb129e184967b13261fb5d253af451c75c5",
        "id": "i_LaiUcbn6Ep",
        "colab_type": "text"
      },
      "source": [
        "### Map target label to String\n",
        "* **0** -> **NEGATIVE**\n",
        "* **2** -> **NEUTRAL**\n",
        "* **4** -> **POSITIVE**"
      ]
    },
    {
      "cell_type": "code",
      "metadata": {
        "trusted": true,
        "_uuid": "14074b59106cb9550440839e48b832223fc9502f",
        "id": "6APra-qGn6Er",
        "colab_type": "code",
        "colab": {}
      },
      "source": [
        "decode_map = {0: \"NEGATIVE\", 2: \"NEUTRAL\", 4: \"POSITIVE\"}\n",
        "def decode_sentiment(label):\n",
        "    return decode_map[int(label)]"
      ],
      "execution_count": null,
      "outputs": []
    },
    {
      "cell_type": "code",
      "metadata": {
        "trusted": true,
        "_uuid": "4449d473187f647a195a6ac6986b009da32a7f4b",
        "id": "P5YpC5mjn6Ex",
        "colab_type": "code",
        "colab": {
          "base_uri": "https://localhost:8080/",
          "height": 51
        },
        "outputId": "c051c60c-50c9-4bb8-f360-a62e2d57600a"
      },
      "source": [
        "%%time\n",
        "df.target = df.target.apply(lambda x: decode_sentiment(x))"
      ],
      "execution_count": null,
      "outputs": [
        {
          "output_type": "stream",
          "text": [
            "CPU times: user 585 ms, sys: 841 µs, total: 585 ms\n",
            "Wall time: 588 ms\n"
          ],
          "name": "stdout"
        }
      ]
    },
    {
      "cell_type": "code",
      "metadata": {
        "trusted": true,
        "_uuid": "19eb327803192f31cce3512aacb232f4d6b38715",
        "id": "NBQGImGFn6E4",
        "colab_type": "code",
        "colab": {
          "base_uri": "https://localhost:8080/",
          "height": 516
        },
        "outputId": "51616e9f-522e-4166-ebe6-43bae41faee3"
      },
      "source": [
        "target_cnt = Counter(df.target)\n",
        "\n",
        "plt.figure(figsize=(16,8))\n",
        "plt.bar(target_cnt.keys(), target_cnt.values())\n",
        "plt.title(\"Dataset labels distribuition\")"
      ],
      "execution_count": null,
      "outputs": [
        {
          "output_type": "execute_result",
          "data": {
            "text/plain": [
              "Text(0.5, 1.0, 'Dataset labels distribuition')"
            ]
          },
          "metadata": {
            "tags": []
          },
          "execution_count": 11
        },
        {
          "output_type": "display_data",
          "data": {
            "image/png": "[encoded data removed]",
            "text/plain": [
              "<Figure size 1152x576 with 1 Axes>"
            ]
          },
          "metadata": {
            "tags": [],
            "needs_background": "light"
          }
        }
      ]
    },
    {
      "cell_type": "markdown",
      "metadata": {
        "_uuid": "4329b1573518b03e497213efa7676220734ebb4b",
        "id": "fv6hWWPin6E-",
        "colab_type": "text"
      },
      "source": [
        "### Pre-Process dataset"
      ]
    },
    {
      "cell_type": "code",
      "metadata": {
        "trusted": true,
        "_uuid": "8aeee8b7b9ea11b749c7f91cd4787a7b50ed1a91",
        "id": "Dp-isE0Cn6E_",
        "colab_type": "code",
        "colab": {}
      },
      "source": [
        "stop_words = stopwords.words(\"english\")\n",
        "stemmer = SnowballStemmer(\"english\")"
      ],
      "execution_count": null,
      "outputs": []
    },
    {
      "cell_type": "code",
      "metadata": {
        "trusted": true,
        "_uuid": "649ebcb97969b9ac4301138783704bb3d7846a49",
        "id": "z2yih8Hnn6FF",
        "colab_type": "code",
        "colab": {}
      },
      "source": [
        "def preprocess(text, stem=False):\n",
        "    # Remove link,user and special characters\n",
        "    text = re.sub(TEXT_CLEANING_RE, ' ', str(text).lower()).strip()\n",
        "    tokens = []\n",
        "    for token in text.split():\n",
        "        if token not in stop_words:\n",
        "            if stem:\n",
        "                tokens.append(stemmer.stem(token))\n",
        "            else:\n",
        "                tokens.append(token)\n",
        "    return \" \".join(tokens)"
      ],
      "execution_count": null,
      "outputs": []
    },
    {
      "cell_type": "code",
      "metadata": {
        "trusted": true,
        "_uuid": "f7f3e77ab9291d14687c49e71ba9b2b1e3323432",
        "id": "-Bu6ZjxDn6FJ",
        "colab_type": "code",
        "colab": {
          "base_uri": "https://localhost:8080/",
          "height": 51
        },
        "outputId": "57cdd593-d7e4-4a92-a838-06062abf8013"
      },
      "source": [
        "%%time\n",
        "df.text = df.text.apply(lambda x: preprocess(x))"
      ],
      "execution_count": null,
      "outputs": [
        {
          "output_type": "stream",
          "text": [
            "CPU times: user 44.4 s, sys: 214 ms, total: 44.6 s\n",
            "Wall time: 44.7 s\n"
          ],
          "name": "stdout"
        }
      ]
    },
    {
      "cell_type": "markdown",
      "metadata": {
        "trusted": true,
        "_uuid": "f5f9714a8507409bbe780eebf2855a33e8e6ba37",
        "id": "xft9rKUSn6FN",
        "colab_type": "text"
      },
      "source": [
        "### Split train and test"
      ]
    },
    {
      "cell_type": "code",
      "metadata": {
        "trusted": true,
        "_uuid": "d2b1179c968e3f3910c790ecf0c5b2cbb34b0e68",
        "id": "fFWcnMwon6FO",
        "colab_type": "code",
        "colab": {
          "base_uri": "https://localhost:8080/",
          "height": 52
        },
        "outputId": "0a36e7ee-a2c3-4617-eabd-afede345f601"
      },
      "source": [
        "df_train, df_test = train_test_split(df, test_size=1-TRAIN_SIZE, random_state=42)\n",
        "print(\"TRAIN size:\", len(df_train))\n",
        "print(\"TEST size:\", len(df_test))"
      ],
      "execution_count": null,
      "outputs": [
        {
          "output_type": "stream",
          "text": [
            "TRAIN size: 1280000\n",
            "TEST size: 320000\n"
          ],
          "name": "stdout"
        }
      ]
    },
    {
      "cell_type": "markdown",
      "metadata": {
        "_uuid": "f08a28aab2c3d16d8b9681a7d5d07587153a1cd6",
        "id": "4G78Qo7bn6FU",
        "colab_type": "text"
      },
      "source": [
        "### Word2Vec "
      ]
    },
    {
      "cell_type": "code",
      "metadata": {
        "trusted": true,
        "_uuid": "2461bf564de1b4414841933d0c1d1bee5f5cc5a6",
        "id": "NBlB72iHn6FW",
        "colab_type": "code",
        "colab": {
          "base_uri": "https://localhost:8080/",
          "height": 51
        },
        "outputId": "e024cc7a-2f5e-48ec-9e74-fc1c445aafa2"
      },
      "source": [
        "%%time\n",
        "documents = [_text.split() for _text in df_train.text] "
      ],
      "execution_count": null,
      "outputs": [
        {
          "output_type": "stream",
          "text": [
            "CPU times: user 3.02 s, sys: 286 ms, total: 3.31 s\n",
            "Wall time: 3.31 s\n"
          ],
          "name": "stdout"
        }
      ]
    },
    {
      "cell_type": "code",
      "metadata": {
        "trusted": true,
        "_uuid": "8e19b9f25801ba86420decc266d2b3e6fb44f1ea",
        "id": "VDwgtS5Zn6Fc",
        "colab_type": "code",
        "colab": {}
      },
      "source": [
        "w2v_model = gensim.models.word2vec.Word2Vec(size=W2V_SIZE, \n",
        "                                            window=W2V_WINDOW, \n",
        "                                            min_count=W2V_MIN_COUNT, \n",
        "                                            workers=8)"
      ],
      "execution_count": null,
      "outputs": []
    },
    {
      "cell_type": "code",
      "metadata": {
        "trusted": true,
        "_uuid": "58d655af07653c594bec6bebcfb302a973b0ad9c",
        "id": "JaiqbZkZn6Fi",
        "colab_type": "code",
        "colab": {
          "base_uri": "https://localhost:8080/",
          "height": 1000
        },
        "outputId": "5ce3ed8b-3289-423a-dff9-85668bf401e9"
      },
      "source": [
        "w2v_model.build_vocab(documents)"
      ],
      "execution_count": null,
      "outputs": [
        {
          "output_type": "stream",
          "text": [
            "2020-06-17 06:47:45,977 : INFO : collecting all words and their counts\n",
            "2020-06-17 06:47:45,978 : INFO : PROGRESS: at sentence #0, processed 0 words, keeping 0 word types\n",
            "2020-06-17 06:47:46,021 : INFO : PROGRESS: at sentence #10000, processed 72565 words, keeping 14005 word types\n",
            "2020-06-17 06:47:46,046 : INFO : PROGRESS: at sentence #20000, processed 144393 words, keeping 21587 word types\n",
            "2020-06-17 06:47:46,069 : INFO : PROGRESS: at sentence #30000, processed 215826 words, keeping 27541 word types\n",
            "2020-06-17 06:47:46,093 : INFO : PROGRESS: at sentence #40000, processed 288271 words, keeping 32764 word types\n",
            "2020-06-17 06:47:46,116 : INFO : PROGRESS: at sentence #50000, processed 359772 words, keeping 37587 word types\n",
            "2020-06-17 06:47:46,140 : INFO : PROGRESS: at sentence #60000, processed 431431 words, keeping 42198 word types\n",
            "2020-06-17 06:47:46,165 : INFO : PROGRESS: at sentence #70000, processed 503103 words, keeping 46458 word types\n",
            "2020-06-17 06:47:46,188 : INFO : PROGRESS: at sentence #80000, processed 575709 words, keeping 50476 word types\n",
            "2020-06-17 06:47:46,212 : INFO : PROGRESS: at sentence #90000, processed 647100 words, keeping 54140 word types\n",
            "2020-06-17 06:47:46,235 : INFO : PROGRESS: at sentence #100000, processed 718681 words, keeping 57777 word types\n",
            "2020-06-17 06:47:46,259 : INFO : PROGRESS: at sentence #110000, processed 790696 words, keeping 61207 word types\n",
            "2020-06-17 06:47:46,284 : INFO : PROGRESS: at sentence #120000, processed 863134 words, keeping 64583 word types\n",
            "2020-06-17 06:47:46,307 : INFO : PROGRESS: at sentence #130000, processed 935111 words, keeping 67865 word types\n",
            "2020-06-17 06:47:46,329 : INFO : PROGRESS: at sentence #140000, processed 1006668 words, keeping 70966 word types\n",
            "2020-06-17 06:47:46,356 : INFO : PROGRESS: at sentence #150000, processed 1078512 words, keeping 74119 word types\n",
            "2020-06-17 06:47:46,380 : INFO : PROGRESS: at sentence #160000, processed 1149914 words, keeping 77187 word types\n",
            "2020-06-17 06:47:46,404 : INFO : PROGRESS: at sentence #170000, processed 1222145 words, keeping 80267 word types\n",
            "2020-06-17 06:47:46,428 : INFO : PROGRESS: at sentence #180000, processed 1294708 words, keeping 83393 word types\n",
            "2020-06-17 06:47:46,452 : INFO : PROGRESS: at sentence #190000, processed 1367608 words, keeping 86329 word types\n",
            "2020-06-17 06:47:46,479 : INFO : PROGRESS: at sentence #200000, processed 1439469 words, keeping 89103 word types\n",
            "2020-06-17 06:47:46,503 : INFO : PROGRESS: at sentence #210000, processed 1512099 words, keeping 91840 word types\n",
            "2020-06-17 06:47:46,527 : INFO : PROGRESS: at sentence #220000, processed 1584149 words, keeping 94636 word types\n",
            "2020-06-17 06:47:46,554 : INFO : PROGRESS: at sentence #230000, processed 1656354 words, keeping 97353 word types\n",
            "2020-06-17 06:47:46,578 : INFO : PROGRESS: at sentence #240000, processed 1728573 words, keeping 99975 word types\n",
            "2020-06-17 06:47:46,606 : INFO : PROGRESS: at sentence #250000, processed 1801102 words, keeping 102594 word types\n",
            "2020-06-17 06:47:46,630 : INFO : PROGRESS: at sentence #260000, processed 1873103 words, keeping 105162 word types\n",
            "2020-06-17 06:47:46,656 : INFO : PROGRESS: at sentence #270000, processed 1945245 words, keeping 107626 word types\n",
            "2020-06-17 06:47:46,681 : INFO : PROGRESS: at sentence #280000, processed 2017163 words, keeping 110141 word types\n",
            "2020-06-17 06:47:46,707 : INFO : PROGRESS: at sentence #290000, processed 2089574 words, keeping 112539 word types\n",
            "2020-06-17 06:47:46,732 : INFO : PROGRESS: at sentence #300000, processed 2160996 words, keeping 114893 word types\n",
            "2020-06-17 06:47:46,756 : INFO : PROGRESS: at sentence #310000, processed 2232913 words, keeping 117298 word types\n",
            "2020-06-17 06:47:46,785 : INFO : PROGRESS: at sentence #320000, processed 2305039 words, keeping 119693 word types\n",
            "2020-06-17 06:47:46,811 : INFO : PROGRESS: at sentence #330000, processed 2377119 words, keeping 122131 word types\n",
            "2020-06-17 06:47:46,836 : INFO : PROGRESS: at sentence #340000, processed 2449370 words, keeping 124416 word types\n",
            "2020-06-17 06:47:46,861 : INFO : PROGRESS: at sentence #350000, processed 2521564 words, keeping 126669 word types\n",
            "2020-06-17 06:47:46,887 : INFO : PROGRESS: at sentence #360000, processed 2593681 words, keeping 128912 word types\n",
            "2020-06-17 06:47:46,912 : INFO : PROGRESS: at sentence #370000, processed 2665692 words, keeping 131135 word types\n",
            "2020-06-17 06:47:46,936 : INFO : PROGRESS: at sentence #380000, processed 2737859 words, keeping 133403 word types\n",
            "2020-06-17 06:47:46,962 : INFO : PROGRESS: at sentence #390000, processed 2809848 words, keeping 135551 word types\n",
            "2020-06-17 06:47:46,988 : INFO : PROGRESS: at sentence #400000, processed 2882438 words, keeping 137742 word types\n",
            "2020-06-17 06:47:47,013 : INFO : PROGRESS: at sentence #410000, processed 2954075 words, keeping 139909 word types\n",
            "2020-06-17 06:47:47,050 : INFO : PROGRESS: at sentence #420000, processed 3026247 words, keeping 142144 word types\n",
            "2020-06-17 06:47:47,076 : INFO : PROGRESS: at sentence #430000, processed 3098659 words, keeping 144364 word types\n",
            "2020-06-17 06:47:47,100 : INFO : PROGRESS: at sentence #440000, processed 3170663 words, keeping 146439 word types\n",
            "2020-06-17 06:47:47,132 : INFO : PROGRESS: at sentence #450000, processed 3243344 words, keeping 148526 word types\n",
            "2020-06-17 06:47:47,162 : INFO : PROGRESS: at sentence #460000, processed 3315466 words, keeping 150610 word types\n",
            "2020-06-17 06:47:47,187 : INFO : PROGRESS: at sentence #470000, processed 3388295 words, keeping 152737 word types\n",
            "2020-06-17 06:47:47,217 : INFO : PROGRESS: at sentence #480000, processed 3460120 words, keeping 154757 word types\n",
            "2020-06-17 06:47:47,242 : INFO : PROGRESS: at sentence #490000, processed 3531883 words, keeping 156825 word types\n",
            "2020-06-17 06:47:47,272 : INFO : PROGRESS: at sentence #500000, processed 3604217 words, keeping 158859 word types\n",
            "2020-06-17 06:47:47,299 : INFO : PROGRESS: at sentence #510000, processed 3676427 words, keeping 160852 word types\n",
            "2020-06-17 06:47:47,324 : INFO : PROGRESS: at sentence #520000, processed 3749045 words, keeping 162863 word types\n",
            "2020-06-17 06:47:47,351 : INFO : PROGRESS: at sentence #530000, processed 3821622 words, keeping 164929 word types\n",
            "2020-06-17 06:47:47,375 : INFO : PROGRESS: at sentence #540000, processed 3893627 words, keeping 166840 word types\n",
            "2020-06-17 06:47:47,403 : INFO : PROGRESS: at sentence #550000, processed 3965477 words, keeping 168799 word types\n",
            "2020-06-17 06:47:47,428 : INFO : PROGRESS: at sentence #560000, processed 4038050 words, keeping 170802 word types\n",
            "2020-06-17 06:47:47,453 : INFO : PROGRESS: at sentence #570000, processed 4110296 words, keeping 172760 word types\n",
            "2020-06-17 06:47:47,477 : INFO : PROGRESS: at sentence #580000, processed 4182385 words, keeping 174635 word types\n",
            "2020-06-17 06:47:47,509 : INFO : PROGRESS: at sentence #590000, processed 4254632 words, keeping 176470 word types\n",
            "2020-06-17 06:47:47,535 : INFO : PROGRESS: at sentence #600000, processed 4326859 words, keeping 178350 word types\n",
            "2020-06-17 06:47:47,559 : INFO : PROGRESS: at sentence #610000, processed 4399183 words, keeping 180290 word types\n",
            "2020-06-17 06:47:47,585 : INFO : PROGRESS: at sentence #620000, processed 4471343 words, keeping 182129 word types\n",
            "2020-06-17 06:47:47,609 : INFO : PROGRESS: at sentence #630000, processed 4543286 words, keeping 184005 word types\n",
            "2020-06-17 06:47:47,634 : INFO : PROGRESS: at sentence #640000, processed 4615780 words, keeping 185835 word types\n",
            "2020-06-17 06:47:47,659 : INFO : PROGRESS: at sentence #650000, processed 4688481 words, keeping 187705 word types\n",
            "2020-06-17 06:47:47,685 : INFO : PROGRESS: at sentence #660000, processed 4760481 words, keeping 189439 word types\n",
            "2020-06-17 06:47:47,712 : INFO : PROGRESS: at sentence #670000, processed 4833024 words, keeping 191232 word types\n",
            "2020-06-17 06:47:47,740 : INFO : PROGRESS: at sentence #680000, processed 4904516 words, keeping 193177 word types\n",
            "2020-06-17 06:47:47,765 : INFO : PROGRESS: at sentence #690000, processed 4976968 words, keeping 194960 word types\n",
            "2020-06-17 06:47:47,791 : INFO : PROGRESS: at sentence #700000, processed 5049412 words, keeping 196725 word types\n",
            "2020-06-17 06:47:47,817 : INFO : PROGRESS: at sentence #710000, processed 5121976 words, keeping 198516 word types\n",
            "2020-06-17 06:47:47,848 : INFO : PROGRESS: at sentence #720000, processed 5193881 words, keeping 200325 word types\n",
            "2020-06-17 06:47:47,874 : INFO : PROGRESS: at sentence #730000, processed 5265467 words, keeping 202133 word types\n",
            "2020-06-17 06:47:47,900 : INFO : PROGRESS: at sentence #740000, processed 5337518 words, keeping 203818 word types\n",
            "2020-06-17 06:47:47,924 : INFO : PROGRESS: at sentence #750000, processed 5409321 words, keeping 205535 word types\n",
            "2020-06-17 06:47:47,950 : INFO : PROGRESS: at sentence #760000, processed 5481512 words, keeping 207282 word types\n",
            "2020-06-17 06:47:47,978 : INFO : PROGRESS: at sentence #770000, processed 5554093 words, keeping 209076 word types\n",
            "2020-06-17 06:47:48,005 : INFO : PROGRESS: at sentence #780000, processed 5625382 words, keeping 210805 word types\n",
            "2020-06-17 06:47:48,031 : INFO : PROGRESS: at sentence #790000, processed 5698066 words, keeping 212618 word types\n",
            "2020-06-17 06:47:48,065 : INFO : PROGRESS: at sentence #800000, processed 5770880 words, keeping 214374 word types\n",
            "2020-06-17 06:47:48,094 : INFO : PROGRESS: at sentence #810000, processed 5843418 words, keeping 216009 word types\n",
            "2020-06-17 06:47:48,120 : INFO : PROGRESS: at sentence #820000, processed 5915628 words, keeping 217804 word types\n",
            "2020-06-17 06:47:48,146 : INFO : PROGRESS: at sentence #830000, processed 5987499 words, keeping 219585 word types\n",
            "2020-06-17 06:47:48,171 : INFO : PROGRESS: at sentence #840000, processed 6058973 words, keeping 221344 word types\n",
            "2020-06-17 06:47:48,198 : INFO : PROGRESS: at sentence #850000, processed 6131125 words, keeping 223002 word types\n",
            "2020-06-17 06:47:48,221 : INFO : PROGRESS: at sentence #860000, processed 6202951 words, keeping 224643 word types\n",
            "2020-06-17 06:47:48,255 : INFO : PROGRESS: at sentence #870000, processed 6275461 words, keeping 226362 word types\n",
            "2020-06-17 06:47:48,281 : INFO : PROGRESS: at sentence #880000, processed 6347661 words, keeping 227986 word types\n",
            "2020-06-17 06:47:48,306 : INFO : PROGRESS: at sentence #890000, processed 6419806 words, keeping 229634 word types\n",
            "2020-06-17 06:47:48,334 : INFO : PROGRESS: at sentence #900000, processed 6491644 words, keeping 231389 word types\n",
            "2020-06-17 06:47:48,360 : INFO : PROGRESS: at sentence #910000, processed 6564022 words, keeping 233050 word types\n",
            "2020-06-17 06:47:48,387 : INFO : PROGRESS: at sentence #920000, processed 6636228 words, keeping 234686 word types\n",
            "2020-06-17 06:47:48,412 : INFO : PROGRESS: at sentence #930000, processed 6708573 words, keeping 236393 word types\n",
            "2020-06-17 06:47:48,439 : INFO : PROGRESS: at sentence #940000, processed 6779956 words, keeping 238052 word types\n",
            "2020-06-17 06:47:48,464 : INFO : PROGRESS: at sentence #950000, processed 6852599 words, keeping 239716 word types\n",
            "2020-06-17 06:47:48,491 : INFO : PROGRESS: at sentence #960000, processed 6924717 words, keeping 241354 word types\n",
            "2020-06-17 06:47:48,521 : INFO : PROGRESS: at sentence #970000, processed 6996992 words, keeping 242980 word types\n",
            "2020-06-17 06:47:48,545 : INFO : PROGRESS: at sentence #980000, processed 7068402 words, keeping 244646 word types\n",
            "2020-06-17 06:47:48,573 : INFO : PROGRESS: at sentence #990000, processed 7140346 words, keeping 246186 word types\n",
            "2020-06-17 06:47:48,601 : INFO : PROGRESS: at sentence #1000000, processed 7211757 words, keeping 247726 word types\n",
            "2020-06-17 06:47:48,627 : INFO : PROGRESS: at sentence #1010000, processed 7283267 words, keeping 249288 word types\n",
            "2020-06-17 06:47:48,652 : INFO : PROGRESS: at sentence #1020000, processed 7355299 words, keeping 250860 word types\n",
            "2020-06-17 06:47:48,678 : INFO : PROGRESS: at sentence #1030000, processed 7426918 words, keeping 252366 word types\n",
            "2020-06-17 06:47:48,705 : INFO : PROGRESS: at sentence #1040000, processed 7498815 words, keeping 253930 word types\n",
            "2020-06-17 06:47:48,732 : INFO : PROGRESS: at sentence #1050000, processed 7570499 words, keeping 255471 word types\n",
            "2020-06-17 06:47:48,758 : INFO : PROGRESS: at sentence #1060000, processed 7643251 words, keeping 257035 word types\n",
            "2020-06-17 06:47:48,784 : INFO : PROGRESS: at sentence #1070000, processed 7714721 words, keeping 258509 word types\n",
            "2020-06-17 06:47:48,813 : INFO : PROGRESS: at sentence #1080000, processed 7787371 words, keeping 260071 word types\n",
            "2020-06-17 06:47:48,839 : INFO : PROGRESS: at sentence #1090000, processed 7859336 words, keeping 261683 word types\n",
            "2020-06-17 06:47:48,864 : INFO : PROGRESS: at sentence #1100000, processed 7932029 words, keeping 263278 word types\n",
            "2020-06-17 06:47:48,901 : INFO : PROGRESS: at sentence #1110000, processed 8004146 words, keeping 264800 word types\n",
            "2020-06-17 06:47:48,930 : INFO : PROGRESS: at sentence #1120000, processed 8075880 words, keeping 266309 word types\n",
            "2020-06-17 06:47:48,967 : INFO : PROGRESS: at sentence #1130000, processed 8148163 words, keeping 267826 word types\n",
            "2020-06-17 06:47:49,001 : INFO : PROGRESS: at sentence #1140000, processed 8220487 words, keeping 269391 word types\n",
            "2020-06-17 06:47:49,029 : INFO : PROGRESS: at sentence #1150000, processed 8292498 words, keeping 270894 word types\n",
            "2020-06-17 06:47:49,061 : INFO : PROGRESS: at sentence #1160000, processed 8363838 words, keeping 272400 word types\n",
            "2020-06-17 06:47:49,101 : INFO : PROGRESS: at sentence #1170000, processed 8435510 words, keeping 273970 word types\n",
            "2020-06-17 06:47:49,131 : INFO : PROGRESS: at sentence #1180000, processed 8507795 words, keeping 275521 word types\n",
            "2020-06-17 06:47:49,157 : INFO : PROGRESS: at sentence #1190000, processed 8579080 words, keeping 277007 word types\n",
            "2020-06-17 06:47:49,182 : INFO : PROGRESS: at sentence #1200000, processed 8650606 words, keeping 278457 word types\n",
            "2020-06-17 06:47:49,208 : INFO : PROGRESS: at sentence #1210000, processed 8721893 words, keeping 279959 word types\n",
            "2020-06-17 06:47:49,233 : INFO : PROGRESS: at sentence #1220000, processed 8793795 words, keeping 281427 word types\n",
            "2020-06-17 06:47:49,258 : INFO : PROGRESS: at sentence #1230000, processed 8865726 words, keeping 282981 word types\n",
            "2020-06-17 06:47:49,285 : INFO : PROGRESS: at sentence #1240000, processed 8938173 words, keeping 284542 word types\n",
            "2020-06-17 06:47:49,310 : INFO : PROGRESS: at sentence #1250000, processed 9010842 words, keeping 286064 word types\n",
            "2020-06-17 06:47:49,336 : INFO : PROGRESS: at sentence #1260000, processed 9083261 words, keeping 287521 word types\n",
            "2020-06-17 06:47:49,361 : INFO : PROGRESS: at sentence #1270000, processed 9155616 words, keeping 288987 word types\n",
            "2020-06-17 06:47:49,390 : INFO : collected 290418 word types from a corpus of 9227204 raw words and 1280000 sentences\n",
            "2020-06-17 06:47:49,392 : INFO : Loading a fresh vocabulary\n",
            "2020-06-17 06:47:49,574 : INFO : effective_min_count=10 retains 30369 unique words (10% of original 290418, drops 260049)\n",
            "2020-06-17 06:47:49,575 : INFO : effective_min_count=10 leaves 8780739 word corpus (95% of original 9227204, drops 446465)\n",
            "2020-06-17 06:47:49,683 : INFO : deleting the raw counts dictionary of 290418 items\n",
            "2020-06-17 06:47:49,691 : INFO : sample=0.001 downsamples 45 most-common words\n",
            "2020-06-17 06:47:49,692 : INFO : downsampling leaves estimated 8222658 word corpus (93.6% of prior 8780739)\n",
            "2020-06-17 06:47:49,786 : INFO : estimated required memory for 30369 words and 300 dimensions: 88070100 bytes\n",
            "2020-06-17 06:47:49,787 : INFO : resetting layer weights\n"
          ],
          "name": "stderr"
        }
      ]
    },
    {
      "cell_type": "code",
      "metadata": {
        "trusted": true,
        "_uuid": "72a5628ca81fd4b8983c12d93ae0bf950b86b6ae",
        "id": "bTmCHUCvn6Fp",
        "colab_type": "code",
        "colab": {
          "base_uri": "https://localhost:8080/",
          "height": 34
        },
        "outputId": "e7dc4cb4-711a-498c-e367-5c81e23b072c"
      },
      "source": [
        "words = w2v_model.wv.vocab.keys()\n",
        "vocab_size = len(words)\n",
        "print(\"Vocab size\", vocab_size)"
      ],
      "execution_count": null,
      "outputs": [
        {
          "output_type": "stream",
          "text": [
            "Vocab size 30369\n"
          ],
          "name": "stdout"
        }
      ]
    },
    {
      "cell_type": "code",
      "metadata": {
        "trusted": true,
        "_uuid": "68c3e4a5ba07cac3dee67f78ecdd1404c7f83f14",
        "id": "tY93kOrbn6Fu",
        "colab_type": "code",
        "colab": {
          "base_uri": "https://localhost:8080/",
          "height": 1000
        },
        "outputId": "f15c2313-6f76-4139-821c-1f86759b4adb"
      },
      "source": [
        "%%time\n",
        "w2v_model.train(documents, total_examples=len(documents), epochs=W2V_EPOCH)"
      ],
      "execution_count": null,
      "outputs": [
        {
          "output_type": "stream",
          "text": [
            "2020-06-17 06:47:57,156 : INFO : training model with 8 workers on 30369 vocabulary and 300 features, using sg=0 hs=0 sample=0.001 negative=5 window=7\n",
            "2020-06-17 06:47:58,183 : INFO : EPOCH 1 - PROGRESS: at 4.13% examples, 335790 words/s, in_qsize 15, out_qsize 0\n",
            "2020-06-17 06:47:59,192 : INFO : EPOCH 1 - PROGRESS: at 8.69% examples, 353399 words/s, in_qsize 15, out_qsize 0\n",
            "2020-06-17 06:48:00,212 : INFO : EPOCH 1 - PROGRESS: at 13.47% examples, 365098 words/s, in_qsize 15, out_qsize 0\n",
            "2020-06-17 06:48:01,223 : INFO : EPOCH 1 - PROGRESS: at 18.00% examples, 365332 words/s, in_qsize 15, out_qsize 0\n",
            "2020-06-17 06:48:02,239 : INFO : EPOCH 1 - PROGRESS: at 22.22% examples, 360698 words/s, in_qsize 13, out_qsize 4\n",
            "2020-06-17 06:48:03,294 : INFO : EPOCH 1 - PROGRESS: at 26.88% examples, 361125 words/s, in_qsize 15, out_qsize 4\n",
            "2020-06-17 06:48:04,325 : INFO : EPOCH 1 - PROGRESS: at 31.32% examples, 360142 words/s, in_qsize 14, out_qsize 1\n",
            "2020-06-17 06:48:05,396 : INFO : EPOCH 1 - PROGRESS: at 35.54% examples, 355473 words/s, in_qsize 14, out_qsize 1\n",
            "2020-06-17 06:48:06,432 : INFO : EPOCH 1 - PROGRESS: at 39.65% examples, 352286 words/s, in_qsize 15, out_qsize 2\n",
            "2020-06-17 06:48:07,465 : INFO : EPOCH 1 - PROGRESS: at 44.07% examples, 352411 words/s, in_qsize 15, out_qsize 2\n",
            "2020-06-17 06:48:08,570 : INFO : EPOCH 1 - PROGRESS: at 48.08% examples, 347147 words/s, in_qsize 15, out_qsize 3\n",
            "2020-06-17 06:48:09,633 : INFO : EPOCH 1 - PROGRESS: at 52.73% examples, 348295 words/s, in_qsize 16, out_qsize 0\n",
            "2020-06-17 06:48:10,698 : INFO : EPOCH 1 - PROGRESS: at 56.51% examples, 343930 words/s, in_qsize 14, out_qsize 1\n",
            "2020-06-17 06:48:11,711 : INFO : EPOCH 1 - PROGRESS: at 60.74% examples, 343862 words/s, in_qsize 15, out_qsize 0\n",
            "2020-06-17 06:48:12,748 : INFO : EPOCH 1 - PROGRESS: at 65.17% examples, 344415 words/s, in_qsize 15, out_qsize 0\n",
            "2020-06-17 06:48:13,758 : INFO : EPOCH 1 - PROGRESS: at 69.18% examples, 343311 words/s, in_qsize 16, out_qsize 0\n",
            "2020-06-17 06:48:14,790 : INFO : EPOCH 1 - PROGRESS: at 73.52% examples, 343413 words/s, in_qsize 16, out_qsize 0\n",
            "2020-06-17 06:48:15,854 : INFO : EPOCH 1 - PROGRESS: at 77.63% examples, 342368 words/s, in_qsize 15, out_qsize 1\n",
            "2020-06-17 06:48:16,884 : INFO : EPOCH 1 - PROGRESS: at 82.10% examples, 342644 words/s, in_qsize 16, out_qsize 0\n",
            "2020-06-17 06:48:17,961 : INFO : EPOCH 1 - PROGRESS: at 86.21% examples, 341167 words/s, in_qsize 15, out_qsize 0\n",
            "2020-06-17 06:48:19,086 : INFO : EPOCH 1 - PROGRESS: at 90.43% examples, 339884 words/s, in_qsize 15, out_qsize 4\n",
            "2020-06-17 06:48:20,143 : INFO : EPOCH 1 - PROGRESS: at 95.01% examples, 340137 words/s, in_qsize 15, out_qsize 0\n",
            "2020-06-17 06:48:21,145 : INFO : EPOCH 1 - PROGRESS: at 99.22% examples, 340415 words/s, in_qsize 8, out_qsize 0\n",
            "2020-06-17 06:48:21,150 : INFO : worker thread finished; awaiting finish of 7 more threads\n",
            "2020-06-17 06:48:21,159 : INFO : worker thread finished; awaiting finish of 6 more threads\n",
            "2020-06-17 06:48:21,183 : INFO : worker thread finished; awaiting finish of 5 more threads\n",
            "2020-06-17 06:48:21,190 : INFO : worker thread finished; awaiting finish of 4 more threads\n",
            "2020-06-17 06:48:21,204 : INFO : worker thread finished; awaiting finish of 3 more threads\n",
            "2020-06-17 06:48:21,207 : INFO : worker thread finished; awaiting finish of 2 more threads\n",
            "2020-06-17 06:48:21,225 : INFO : worker thread finished; awaiting finish of 1 more threads\n",
            "2020-06-17 06:48:21,242 : INFO : worker thread finished; awaiting finish of 0 more threads\n",
            "2020-06-17 06:48:21,244 : INFO : EPOCH - 1 : training on 9227204 raw words (8222896 effective words) took 24.1s, 341647 effective words/s\n",
            "2020-06-17 06:48:22,309 : INFO : EPOCH 2 - PROGRESS: at 3.58% examples, 279371 words/s, in_qsize 15, out_qsize 0\n",
            "2020-06-17 06:48:23,351 : INFO : EPOCH 2 - PROGRESS: at 7.71% examples, 302047 words/s, in_qsize 15, out_qsize 3\n",
            "2020-06-17 06:48:24,427 : INFO : EPOCH 2 - PROGRESS: at 12.17% examples, 314775 words/s, in_qsize 14, out_qsize 1\n",
            "2020-06-17 06:48:25,440 : INFO : EPOCH 2 - PROGRESS: at 16.27% examples, 319441 words/s, in_qsize 15, out_qsize 1\n",
            "2020-06-17 06:48:26,497 : INFO : EPOCH 2 - PROGRESS: at 20.48% examples, 321306 words/s, in_qsize 15, out_qsize 0\n",
            "2020-06-17 06:48:27,523 : INFO : EPOCH 2 - PROGRESS: at 24.39% examples, 319945 words/s, in_qsize 12, out_qsize 4\n",
            "2020-06-17 06:48:28,594 : INFO : EPOCH 2 - PROGRESS: at 28.72% examples, 322259 words/s, in_qsize 15, out_qsize 1\n",
            "2020-06-17 06:48:29,609 : INFO : EPOCH 2 - PROGRESS: at 32.84% examples, 323197 words/s, in_qsize 15, out_qsize 0\n",
            "2020-06-17 06:48:30,659 : INFO : EPOCH 2 - PROGRESS: at 37.05% examples, 324715 words/s, in_qsize 15, out_qsize 1\n",
            "2020-06-17 06:48:31,680 : INFO : EPOCH 2 - PROGRESS: at 41.37% examples, 326488 words/s, in_qsize 15, out_qsize 0\n",
            "2020-06-17 06:48:32,721 : INFO : EPOCH 2 - PROGRESS: at 45.48% examples, 326347 words/s, in_qsize 15, out_qsize 0\n",
            "2020-06-17 06:48:33,785 : INFO : EPOCH 2 - PROGRESS: at 49.81% examples, 328216 words/s, in_qsize 15, out_qsize 3\n",
            "2020-06-17 06:48:34,755 : INFO : EPOCH 2 - PROGRESS: at 54.03% examples, 329343 words/s, in_qsize 16, out_qsize 1\n",
            "2020-06-17 06:48:35,766 : INFO : EPOCH 2 - PROGRESS: at 58.14% examples, 329747 words/s, in_qsize 14, out_qsize 1\n",
            "2020-06-17 06:48:36,836 : INFO : EPOCH 2 - PROGRESS: at 62.79% examples, 331691 words/s, in_qsize 16, out_qsize 0\n",
            "2020-06-17 06:48:37,877 : INFO : EPOCH 2 - PROGRESS: at 67.24% examples, 332885 words/s, in_qsize 15, out_qsize 0\n",
            "2020-06-17 06:48:38,928 : INFO : EPOCH 2 - PROGRESS: at 71.78% examples, 334266 words/s, in_qsize 14, out_qsize 1\n",
            "2020-06-17 06:48:39,956 : INFO : EPOCH 2 - PROGRESS: at 76.22% examples, 335401 words/s, in_qsize 16, out_qsize 0\n",
            "2020-06-17 06:48:41,014 : INFO : EPOCH 2 - PROGRESS: at 80.68% examples, 335933 words/s, in_qsize 15, out_qsize 0\n",
            "2020-06-17 06:48:42,036 : INFO : EPOCH 2 - PROGRESS: at 85.55% examples, 338927 words/s, in_qsize 14, out_qsize 1\n",
            "2020-06-17 06:48:43,063 : INFO : EPOCH 2 - PROGRESS: at 90.00% examples, 339511 words/s, in_qsize 15, out_qsize 0\n",
            "2020-06-17 06:48:44,101 : INFO : EPOCH 2 - PROGRESS: at 94.47% examples, 340046 words/s, in_qsize 15, out_qsize 0\n",
            "2020-06-17 06:48:45,131 : INFO : EPOCH 2 - PROGRESS: at 99.01% examples, 341041 words/s, in_qsize 10, out_qsize 0\n",
            "2020-06-17 06:48:45,166 : INFO : worker thread finished; awaiting finish of 7 more threads\n",
            "2020-06-17 06:48:45,178 : INFO : worker thread finished; awaiting finish of 6 more threads\n",
            "2020-06-17 06:48:45,191 : INFO : worker thread finished; awaiting finish of 5 more threads\n",
            "2020-06-17 06:48:45,210 : INFO : worker thread finished; awaiting finish of 4 more threads\n",
            "2020-06-17 06:48:45,216 : INFO : worker thread finished; awaiting finish of 3 more threads\n",
            "2020-06-17 06:48:45,223 : INFO : worker thread finished; awaiting finish of 2 more threads\n",
            "2020-06-17 06:48:45,238 : INFO : worker thread finished; awaiting finish of 1 more threads\n",
            "2020-06-17 06:48:45,242 : INFO : worker thread finished; awaiting finish of 0 more threads\n",
            "2020-06-17 06:48:45,243 : INFO : EPOCH - 2 : training on 9227204 raw words (8222945 effective words) took 24.0s, 342834 effective words/s\n",
            "2020-06-17 06:48:46,282 : INFO : EPOCH 3 - PROGRESS: at 4.13% examples, 329811 words/s, in_qsize 15, out_qsize 0\n",
            "2020-06-17 06:48:47,323 : INFO : EPOCH 3 - PROGRESS: at 8.58% examples, 340346 words/s, in_qsize 16, out_qsize 0\n",
            "2020-06-17 06:48:48,331 : INFO : EPOCH 3 - PROGRESS: at 12.82% examples, 341731 words/s, in_qsize 15, out_qsize 0\n",
            "2020-06-17 06:48:49,368 : INFO : EPOCH 3 - PROGRESS: at 17.13% examples, 342153 words/s, in_qsize 15, out_qsize 0\n",
            "2020-06-17 06:48:50,450 : INFO : EPOCH 3 - PROGRESS: at 22.00% examples, 348111 words/s, in_qsize 15, out_qsize 0\n",
            "2020-06-17 06:48:51,454 : INFO : EPOCH 3 - PROGRESS: at 26.45% examples, 350693 words/s, in_qsize 16, out_qsize 0\n",
            "2020-06-17 06:48:52,466 : INFO : EPOCH 3 - PROGRESS: at 30.78% examples, 350960 words/s, in_qsize 15, out_qsize 0\n",
            "2020-06-17 06:48:53,467 : INFO : EPOCH 3 - PROGRESS: at 35.32% examples, 353745 words/s, in_qsize 15, out_qsize 0\n",
            "2020-06-17 06:48:54,526 : INFO : EPOCH 3 - PROGRESS: at 39.65% examples, 351768 words/s, in_qsize 16, out_qsize 1\n",
            "2020-06-17 06:48:55,603 : INFO : EPOCH 3 - PROGRESS: at 43.86% examples, 348725 words/s, in_qsize 12, out_qsize 3\n",
            "2020-06-17 06:48:56,649 : INFO : EPOCH 3 - PROGRESS: at 48.30% examples, 349639 words/s, in_qsize 13, out_qsize 3\n",
            "2020-06-17 06:48:57,674 : INFO : EPOCH 3 - PROGRESS: at 52.62% examples, 348702 words/s, in_qsize 15, out_qsize 0\n",
            "2020-06-17 06:48:58,739 : INFO : EPOCH 3 - PROGRESS: at 57.27% examples, 349594 words/s, in_qsize 15, out_qsize 0\n",
            "2020-06-17 06:48:59,858 : INFO : EPOCH 3 - PROGRESS: at 62.03% examples, 349643 words/s, in_qsize 15, out_qsize 0\n",
            "2020-06-17 06:49:00,931 : INFO : EPOCH 3 - PROGRESS: at 66.47% examples, 349009 words/s, in_qsize 15, out_qsize 0\n",
            "2020-06-17 06:49:02,039 : INFO : EPOCH 3 - PROGRESS: at 71.23% examples, 349868 words/s, in_qsize 16, out_qsize 3\n",
            "2020-06-17 06:49:03,013 : INFO : EPOCH 3 - PROGRESS: at 75.89% examples, 351720 words/s, in_qsize 15, out_qsize 0\n",
            "2020-06-17 06:49:04,086 : INFO : EPOCH 3 - PROGRESS: at 80.47% examples, 351555 words/s, in_qsize 16, out_qsize 0\n",
            "2020-06-17 06:49:05,093 : INFO : EPOCH 3 - PROGRESS: at 85.34% examples, 353892 words/s, in_qsize 16, out_qsize 0\n",
            "2020-06-17 06:49:06,094 : INFO : EPOCH 3 - PROGRESS: at 89.56% examples, 353577 words/s, in_qsize 12, out_qsize 3\n",
            "2020-06-17 06:49:07,202 : INFO : EPOCH 3 - PROGRESS: at 94.79% examples, 355201 words/s, in_qsize 15, out_qsize 0\n",
            "2020-06-17 06:49:08,182 : INFO : worker thread finished; awaiting finish of 7 more threads\n",
            "2020-06-17 06:49:08,186 : INFO : worker thread finished; awaiting finish of 6 more threads\n",
            "2020-06-17 06:49:08,197 : INFO : worker thread finished; awaiting finish of 5 more threads\n",
            "2020-06-17 06:49:08,214 : INFO : EPOCH 3 - PROGRESS: at 99.56% examples, 356675 words/s, in_qsize 4, out_qsize 1\n",
            "2020-06-17 06:49:08,216 : INFO : worker thread finished; awaiting finish of 4 more threads\n",
            "2020-06-17 06:49:08,218 : INFO : worker thread finished; awaiting finish of 3 more threads\n",
            "2020-06-17 06:49:08,248 : INFO : worker thread finished; awaiting finish of 2 more threads\n",
            "2020-06-17 06:49:08,250 : INFO : worker thread finished; awaiting finish of 1 more threads\n",
            "2020-06-17 06:49:08,256 : INFO : worker thread finished; awaiting finish of 0 more threads\n",
            "2020-06-17 06:49:08,258 : INFO : EPOCH - 3 : training on 9227204 raw words (8224210 effective words) took 23.0s, 357549 effective words/s\n",
            "2020-06-17 06:49:09,281 : INFO : EPOCH 4 - PROGRESS: at 3.69% examples, 299183 words/s, in_qsize 15, out_qsize 4\n",
            "2020-06-17 06:49:10,306 : INFO : EPOCH 4 - PROGRESS: at 8.69% examples, 349772 words/s, in_qsize 16, out_qsize 1\n",
            "2020-06-17 06:49:11,334 : INFO : EPOCH 4 - PROGRESS: at 13.36% examples, 357565 words/s, in_qsize 15, out_qsize 0\n",
            "2020-06-17 06:49:12,417 : INFO : EPOCH 4 - PROGRESS: at 18.11% examples, 360140 words/s, in_qsize 15, out_qsize 0\n",
            "2020-06-17 06:49:13,539 : INFO : EPOCH 4 - PROGRESS: at 23.09% examples, 359991 words/s, in_qsize 16, out_qsize 1\n",
            "2020-06-17 06:49:14,656 : INFO : EPOCH 4 - PROGRESS: at 28.29% examples, 363985 words/s, in_qsize 13, out_qsize 2\n",
            "2020-06-17 06:49:15,722 : INFO : EPOCH 4 - PROGRESS: at 33.27% examples, 366881 words/s, in_qsize 15, out_qsize 0\n",
            "2020-06-17 06:49:16,729 : INFO : EPOCH 4 - PROGRESS: at 37.81% examples, 367459 words/s, in_qsize 15, out_qsize 0\n",
            "2020-06-17 06:49:17,777 : INFO : EPOCH 4 - PROGRESS: at 42.02% examples, 363510 words/s, in_qsize 12, out_qsize 5\n",
            "2020-06-17 06:49:18,783 : INFO : EPOCH 4 - PROGRESS: at 46.79% examples, 365971 words/s, in_qsize 15, out_qsize 0\n",
            "2020-06-17 06:49:19,789 : INFO : EPOCH 4 - PROGRESS: at 51.53% examples, 368053 words/s, in_qsize 15, out_qsize 0\n",
            "2020-06-17 06:49:20,859 : INFO : EPOCH 4 - PROGRESS: at 55.97% examples, 365821 words/s, in_qsize 14, out_qsize 5\n",
            "2020-06-17 06:49:21,874 : INFO : EPOCH 4 - PROGRESS: at 60.96% examples, 368664 words/s, in_qsize 15, out_qsize 0\n",
            "2020-06-17 06:49:22,931 : INFO : EPOCH 4 - PROGRESS: at 65.28% examples, 366366 words/s, in_qsize 10, out_qsize 5\n",
            "2020-06-17 06:49:23,936 : INFO : EPOCH 4 - PROGRESS: at 70.16% examples, 368464 words/s, in_qsize 15, out_qsize 0\n",
            "2020-06-17 06:49:24,949 : INFO : EPOCH 4 - PROGRESS: at 74.70% examples, 368517 words/s, in_qsize 15, out_qsize 0\n",
            "2020-06-17 06:49:25,983 : INFO : EPOCH 4 - PROGRESS: at 79.38% examples, 368633 words/s, in_qsize 15, out_qsize 0\n",
            "2020-06-17 06:49:27,024 : INFO : EPOCH 4 - PROGRESS: at 84.15% examples, 369132 words/s, in_qsize 16, out_qsize 2\n",
            "2020-06-17 06:49:28,029 : INFO : EPOCH 4 - PROGRESS: at 88.91% examples, 370134 words/s, in_qsize 16, out_qsize 0\n",
            "2020-06-17 06:49:29,057 : INFO : EPOCH 4 - PROGRESS: at 93.38% examples, 369379 words/s, in_qsize 14, out_qsize 1\n",
            "2020-06-17 06:49:30,088 : INFO : EPOCH 4 - PROGRESS: at 98.15% examples, 369898 words/s, in_qsize 15, out_qsize 0\n",
            "2020-06-17 06:49:30,301 : INFO : worker thread finished; awaiting finish of 7 more threads\n",
            "2020-06-17 06:49:30,309 : INFO : worker thread finished; awaiting finish of 6 more threads\n",
            "2020-06-17 06:49:30,347 : INFO : worker thread finished; awaiting finish of 5 more threads\n",
            "2020-06-17 06:49:30,355 : INFO : worker thread finished; awaiting finish of 4 more threads\n",
            "2020-06-17 06:49:30,357 : INFO : worker thread finished; awaiting finish of 3 more threads\n",
            "2020-06-17 06:49:30,359 : INFO : worker thread finished; awaiting finish of 2 more threads\n",
            "2020-06-17 06:49:30,378 : INFO : worker thread finished; awaiting finish of 1 more threads\n",
            "2020-06-17 06:49:30,385 : INFO : worker thread finished; awaiting finish of 0 more threads\n",
            "2020-06-17 06:49:30,386 : INFO : EPOCH - 4 : training on 9227204 raw words (8223452 effective words) took 22.1s, 371813 effective words/s\n",
            "2020-06-17 06:49:31,435 : INFO : EPOCH 5 - PROGRESS: at 4.01% examples, 317714 words/s, in_qsize 15, out_qsize 0\n",
            "2020-06-17 06:49:32,465 : INFO : EPOCH 5 - PROGRESS: at 8.58% examples, 340521 words/s, in_qsize 16, out_qsize 0\n",
            "2020-06-17 06:49:33,570 : INFO : EPOCH 5 - PROGRESS: at 13.25% examples, 342857 words/s, in_qsize 15, out_qsize 0\n",
            "2020-06-17 06:49:34,587 : INFO : EPOCH 5 - PROGRESS: at 17.57% examples, 344561 words/s, in_qsize 16, out_qsize 0\n",
            "2020-06-17 06:49:35,651 : INFO : EPOCH 5 - PROGRESS: at 21.79% examples, 340919 words/s, in_qsize 15, out_qsize 0\n",
            "2020-06-17 06:49:36,652 : INFO : EPOCH 5 - PROGRESS: at 25.37% examples, 333329 words/s, in_qsize 16, out_qsize 0\n",
            "2020-06-17 06:49:37,656 : INFO : EPOCH 5 - PROGRESS: at 29.80% examples, 337548 words/s, in_qsize 13, out_qsize 0\n",
            "2020-06-17 06:49:38,688 : INFO : EPOCH 5 - PROGRESS: at 33.48% examples, 332047 words/s, in_qsize 13, out_qsize 2\n",
            "2020-06-17 06:49:39,727 : INFO : EPOCH 5 - PROGRESS: at 37.92% examples, 334226 words/s, in_qsize 15, out_qsize 2\n",
            "2020-06-17 06:49:40,738 : INFO : EPOCH 5 - PROGRESS: at 42.46% examples, 337714 words/s, in_qsize 16, out_qsize 0\n",
            "2020-06-17 06:49:41,770 : INFO : EPOCH 5 - PROGRESS: at 46.46% examples, 336066 words/s, in_qsize 16, out_qsize 0\n",
            "2020-06-17 06:49:42,786 : INFO : EPOCH 5 - PROGRESS: at 50.24% examples, 333669 words/s, in_qsize 15, out_qsize 0\n",
            "2020-06-17 06:49:43,833 : INFO : EPOCH 5 - PROGRESS: at 54.24% examples, 332220 words/s, in_qsize 15, out_qsize 0\n",
            "2020-06-17 06:49:44,906 : INFO : EPOCH 5 - PROGRESS: at 58.68% examples, 332834 words/s, in_qsize 15, out_qsize 0\n",
            "2020-06-17 06:49:45,957 : INFO : EPOCH 5 - PROGRESS: at 63.00% examples, 333245 words/s, in_qsize 14, out_qsize 1\n",
            "2020-06-17 06:49:46,996 : INFO : EPOCH 5 - PROGRESS: at 67.45% examples, 334374 words/s, in_qsize 14, out_qsize 1\n",
            "2020-06-17 06:49:48,038 : INFO : EPOCH 5 - PROGRESS: at 71.89% examples, 335340 words/s, in_qsize 15, out_qsize 0\n",
            "2020-06-17 06:49:49,045 : INFO : EPOCH 5 - PROGRESS: at 76.11% examples, 335850 words/s, in_qsize 15, out_qsize 1\n",
            "2020-06-17 06:49:50,059 : INFO : EPOCH 5 - PROGRESS: at 80.57% examples, 337089 words/s, in_qsize 16, out_qsize 1\n",
            "2020-06-17 06:49:51,110 : INFO : EPOCH 5 - PROGRESS: at 85.23% examples, 338479 words/s, in_qsize 15, out_qsize 0\n",
            "2020-06-17 06:49:52,238 : INFO : EPOCH 5 - PROGRESS: at 89.67% examples, 337711 words/s, in_qsize 15, out_qsize 0\n",
            "2020-06-17 06:49:53,250 : INFO : EPOCH 5 - PROGRESS: at 94.03% examples, 338331 words/s, in_qsize 15, out_qsize 1\n",
            "2020-06-17 06:49:54,257 : INFO : EPOCH 5 - PROGRESS: at 98.58% examples, 339733 words/s, in_qsize 13, out_qsize 1\n",
            "2020-06-17 06:49:54,414 : INFO : worker thread finished; awaiting finish of 7 more threads\n",
            "2020-06-17 06:49:54,433 : INFO : worker thread finished; awaiting finish of 6 more threads\n",
            "2020-06-17 06:49:54,444 : INFO : worker thread finished; awaiting finish of 5 more threads\n",
            "2020-06-17 06:49:54,448 : INFO : worker thread finished; awaiting finish of 4 more threads\n",
            "2020-06-17 06:49:54,480 : INFO : worker thread finished; awaiting finish of 3 more threads\n",
            "2020-06-17 06:49:54,483 : INFO : worker thread finished; awaiting finish of 2 more threads\n",
            "2020-06-17 06:49:54,495 : INFO : worker thread finished; awaiting finish of 1 more threads\n",
            "2020-06-17 06:49:54,503 : INFO : worker thread finished; awaiting finish of 0 more threads\n",
            "2020-06-17 06:49:54,504 : INFO : EPOCH - 5 : training on 9227204 raw words (8222323 effective words) took 24.1s, 341104 effective words/s\n",
            "2020-06-17 06:49:55,523 : INFO : EPOCH 6 - PROGRESS: at 3.58% examples, 292448 words/s, in_qsize 14, out_qsize 1\n",
            "2020-06-17 06:49:56,673 : INFO : EPOCH 6 - PROGRESS: at 8.47% examples, 322499 words/s, in_qsize 16, out_qsize 2\n",
            "2020-06-17 06:49:57,676 : INFO : EPOCH 6 - PROGRESS: at 12.82% examples, 332888 words/s, in_qsize 15, out_qsize 0\n",
            "2020-06-17 06:49:58,678 : INFO : EPOCH 6 - PROGRESS: at 17.24% examples, 340396 words/s, in_qsize 15, out_qsize 3\n",
            "2020-06-17 06:49:59,698 : INFO : EPOCH 6 - PROGRESS: at 21.79% examples, 345639 words/s, in_qsize 14, out_qsize 1\n",
            "2020-06-17 06:50:00,726 : INFO : EPOCH 6 - PROGRESS: at 25.80% examples, 341516 words/s, in_qsize 16, out_qsize 2\n",
            "2020-06-17 06:50:01,787 : INFO : EPOCH 6 - PROGRESS: at 30.35% examples, 343142 words/s, in_qsize 12, out_qsize 6\n",
            "2020-06-17 06:50:02,812 : INFO : EPOCH 6 - PROGRESS: at 34.89% examples, 345824 words/s, in_qsize 13, out_qsize 2\n",
            "2020-06-17 06:50:03,821 : INFO : EPOCH 6 - PROGRESS: at 39.76% examples, 351420 words/s, in_qsize 16, out_qsize 1\n",
            "2020-06-17 06:50:04,845 : INFO : EPOCH 6 - PROGRESS: at 44.18% examples, 351928 words/s, in_qsize 16, out_qsize 1\n",
            "2020-06-17 06:50:05,849 : INFO : EPOCH 6 - PROGRESS: at 48.95% examples, 355363 words/s, in_qsize 16, out_qsize 0\n",
            "2020-06-17 06:50:06,860 : INFO : EPOCH 6 - PROGRESS: at 53.38% examples, 355850 words/s, in_qsize 16, out_qsize 0\n",
            "2020-06-17 06:50:07,926 : INFO : EPOCH 6 - PROGRESS: at 58.03% examples, 356635 words/s, in_qsize 15, out_qsize 0\n",
            "2020-06-17 06:50:08,990 : INFO : EPOCH 6 - PROGRESS: at 62.46% examples, 355202 words/s, in_qsize 13, out_qsize 2\n",
            "2020-06-17 06:50:10,018 : INFO : EPOCH 6 - PROGRESS: at 67.34% examples, 357506 words/s, in_qsize 15, out_qsize 0\n",
            "2020-06-17 06:50:11,074 : INFO : EPOCH 6 - PROGRESS: at 71.78% examples, 356742 words/s, in_qsize 13, out_qsize 2\n",
            "2020-06-17 06:50:12,142 : INFO : EPOCH 6 - PROGRESS: at 76.66% examples, 357856 words/s, in_qsize 15, out_qsize 0\n",
            "2020-06-17 06:50:13,165 : INFO : EPOCH 6 - PROGRESS: at 81.12% examples, 357801 words/s, in_qsize 14, out_qsize 1\n",
            "2020-06-17 06:50:14,177 : INFO : EPOCH 6 - PROGRESS: at 85.56% examples, 357967 words/s, in_qsize 15, out_qsize 0\n",
            "2020-06-17 06:50:15,182 : INFO : EPOCH 6 - PROGRESS: at 90.32% examples, 359526 words/s, in_qsize 15, out_qsize 0\n",
            "2020-06-17 06:50:16,206 : INFO : EPOCH 6 - PROGRESS: at 94.79% examples, 359368 words/s, in_qsize 15, out_qsize 0\n",
            "2020-06-17 06:50:17,163 : INFO : worker thread finished; awaiting finish of 7 more threads\n",
            "2020-06-17 06:50:17,178 : INFO : worker thread finished; awaiting finish of 6 more threads\n",
            "2020-06-17 06:50:17,185 : INFO : worker thread finished; awaiting finish of 5 more threads\n",
            "2020-06-17 06:50:17,187 : INFO : worker thread finished; awaiting finish of 4 more threads\n",
            "2020-06-17 06:50:17,188 : INFO : worker thread finished; awaiting finish of 3 more threads\n",
            "2020-06-17 06:50:17,218 : INFO : EPOCH 6 - PROGRESS: at 99.78% examples, 361450 words/s, in_qsize 2, out_qsize 1\n",
            "2020-06-17 06:50:17,219 : INFO : worker thread finished; awaiting finish of 2 more threads\n",
            "2020-06-17 06:50:17,241 : INFO : worker thread finished; awaiting finish of 1 more threads\n",
            "2020-06-17 06:50:17,246 : INFO : worker thread finished; awaiting finish of 0 more threads\n",
            "2020-06-17 06:50:17,248 : INFO : EPOCH - 6 : training on 9227204 raw words (8222581 effective words) took 22.7s, 361755 effective words/s\n",
            "2020-06-17 06:50:18,280 : INFO : EPOCH 7 - PROGRESS: at 3.80% examples, 305184 words/s, in_qsize 15, out_qsize 1\n",
            "2020-06-17 06:50:19,299 : INFO : EPOCH 7 - PROGRESS: at 8.15% examples, 327515 words/s, in_qsize 15, out_qsize 0\n",
            "2020-06-17 06:50:20,354 : INFO : EPOCH 7 - PROGRESS: at 12.82% examples, 339734 words/s, in_qsize 15, out_qsize 0\n",
            "2020-06-17 06:50:21,361 : INFO : EPOCH 7 - PROGRESS: at 17.35% examples, 347383 words/s, in_qsize 15, out_qsize 0\n",
            "2020-06-17 06:50:22,443 : INFO : EPOCH 7 - PROGRESS: at 21.90% examples, 348301 words/s, in_qsize 15, out_qsize 1\n",
            "2020-06-17 06:50:23,428 : INFO : EPOCH 7 - PROGRESS: at 26.45% examples, 352353 words/s, in_qsize 16, out_qsize 1\n",
            "2020-06-17 06:50:24,492 : INFO : EPOCH 7 - PROGRESS: at 30.99% examples, 352256 words/s, in_qsize 16, out_qsize 0\n",
            "2020-06-17 06:50:25,498 : INFO : EPOCH 7 - PROGRESS: at 35.32% examples, 352493 words/s, in_qsize 16, out_qsize 0\n",
            "2020-06-17 06:50:26,588 : INFO : EPOCH 7 - PROGRESS: at 40.08% examples, 353296 words/s, in_qsize 15, out_qsize 0\n",
            "2020-06-17 06:50:27,600 : INFO : EPOCH 7 - PROGRESS: at 44.51% examples, 354037 words/s, in_qsize 14, out_qsize 1\n",
            "2020-06-17 06:50:28,628 : INFO : EPOCH 7 - PROGRESS: at 49.16% examples, 355721 words/s, in_qsize 16, out_qsize 0\n",
            "2020-06-17 06:50:29,629 : INFO : EPOCH 7 - PROGRESS: at 53.38% examples, 355057 words/s, in_qsize 16, out_qsize 0\n",
            "2020-06-17 06:50:30,684 : INFO : EPOCH 7 - PROGRESS: at 57.92% examples, 355057 words/s, in_qsize 16, out_qsize 0\n",
            "2020-06-17 06:50:31,736 : INFO : EPOCH 7 - PROGRESS: at 62.68% examples, 356304 words/s, in_qsize 16, out_qsize 0\n",
            "2020-06-17 06:50:32,758 : INFO : EPOCH 7 - PROGRESS: at 67.45% examples, 358077 words/s, in_qsize 15, out_qsize 0\n",
            "2020-06-17 06:50:33,768 : INFO : EPOCH 7 - PROGRESS: at 71.88% examples, 358304 words/s, in_qsize 15, out_qsize 0\n",
            "2020-06-17 06:50:34,871 : INFO : EPOCH 7 - PROGRESS: at 76.33% examples, 356593 words/s, in_qsize 14, out_qsize 1\n",
            "2020-06-17 06:50:35,890 : INFO : EPOCH 7 - PROGRESS: at 80.90% examples, 357165 words/s, in_qsize 16, out_qsize 0\n",
            "2020-06-17 06:50:36,958 : INFO : EPOCH 7 - PROGRESS: at 85.23% examples, 356185 words/s, in_qsize 15, out_qsize 3\n",
            "2020-06-17 06:50:37,971 : INFO : EPOCH 7 - PROGRESS: at 89.67% examples, 356100 words/s, in_qsize 15, out_qsize 0\n",
            "2020-06-17 06:50:38,979 : INFO : EPOCH 7 - PROGRESS: at 94.03% examples, 355955 words/s, in_qsize 16, out_qsize 0\n",
            "2020-06-17 06:50:40,056 : INFO : EPOCH 7 - PROGRESS: at 98.26% examples, 354376 words/s, in_qsize 11, out_qsize 4\n",
            "2020-06-17 06:50:40,203 : INFO : worker thread finished; awaiting finish of 7 more threads\n",
            "2020-06-17 06:50:40,223 : INFO : worker thread finished; awaiting finish of 6 more threads\n",
            "2020-06-17 06:50:40,259 : INFO : worker thread finished; awaiting finish of 5 more threads\n",
            "2020-06-17 06:50:40,266 : INFO : worker thread finished; awaiting finish of 4 more threads\n",
            "2020-06-17 06:50:40,273 : INFO : worker thread finished; awaiting finish of 3 more threads\n",
            "2020-06-17 06:50:40,275 : INFO : worker thread finished; awaiting finish of 2 more threads\n",
            "2020-06-17 06:50:40,279 : INFO : worker thread finished; awaiting finish of 1 more threads\n",
            "2020-06-17 06:50:40,281 : INFO : worker thread finished; awaiting finish of 0 more threads\n",
            "2020-06-17 06:50:40,281 : INFO : EPOCH - 7 : training on 9227204 raw words (8222402 effective words) took 23.0s, 357141 effective words/s\n",
            "2020-06-17 06:50:41,365 : INFO : EPOCH 8 - PROGRESS: at 3.58% examples, 275709 words/s, in_qsize 13, out_qsize 2\n",
            "2020-06-17 06:50:42,369 : INFO : EPOCH 8 - PROGRESS: at 8.26% examples, 327032 words/s, in_qsize 15, out_qsize 0\n",
            "2020-06-17 06:50:43,396 : INFO : EPOCH 8 - PROGRESS: at 12.60% examples, 333642 words/s, in_qsize 15, out_qsize 0\n",
            "2020-06-17 06:50:44,419 : INFO : EPOCH 8 - PROGRESS: at 16.59% examples, 330743 words/s, in_qsize 14, out_qsize 1\n",
            "2020-06-17 06:50:45,432 : INFO : EPOCH 8 - PROGRESS: at 20.70% examples, 331398 words/s, in_qsize 16, out_qsize 1\n",
            "2020-06-17 06:50:46,466 : INFO : EPOCH 8 - PROGRESS: at 25.04% examples, 333680 words/s, in_qsize 15, out_qsize 0\n",
            "2020-06-17 06:50:47,473 : INFO : EPOCH 8 - PROGRESS: at 29.27% examples, 335248 words/s, in_qsize 13, out_qsize 1\n",
            "2020-06-17 06:50:48,513 : INFO : EPOCH 8 - PROGRESS: at 33.48% examples, 335091 words/s, in_qsize 15, out_qsize 0\n",
            "2020-06-17 06:50:49,525 : INFO : EPOCH 8 - PROGRESS: at 37.81% examples, 336952 words/s, in_qsize 16, out_qsize 0\n",
            "2020-06-17 06:50:50,628 : INFO : EPOCH 8 - PROGRESS: at 42.46% examples, 338040 words/s, in_qsize 15, out_qsize 0\n",
            "2020-06-17 06:50:51,636 : INFO : EPOCH 8 - PROGRESS: at 46.89% examples, 340208 words/s, in_qsize 16, out_qsize 0\n",
            "2020-06-17 06:50:52,696 : INFO : EPOCH 8 - PROGRESS: at 50.88% examples, 337734 words/s, in_qsize 13, out_qsize 2\n",
            "2020-06-17 06:50:53,707 : INFO : EPOCH 8 - PROGRESS: at 54.78% examples, 336188 words/s, in_qsize 14, out_qsize 3\n",
            "2020-06-17 06:50:54,732 : INFO : EPOCH 8 - PROGRESS: at 59.23% examples, 337631 words/s, in_qsize 15, out_qsize 0\n",
            "2020-06-17 06:50:55,803 : INFO : EPOCH 8 - PROGRESS: at 63.54% examples, 337305 words/s, in_qsize 14, out_qsize 3\n",
            "2020-06-17 06:50:56,828 : INFO : EPOCH 8 - PROGRESS: at 67.99% examples, 338476 words/s, in_qsize 13, out_qsize 2\n",
            "2020-06-17 06:50:57,832 : INFO : EPOCH 8 - PROGRESS: at 72.53% examples, 340433 words/s, in_qsize 13, out_qsize 2\n",
            "2020-06-17 06:50:58,854 : INFO : EPOCH 8 - PROGRESS: at 76.77% examples, 340387 words/s, in_qsize 15, out_qsize 0\n",
            "2020-06-17 06:50:59,878 : INFO : EPOCH 8 - PROGRESS: at 81.01% examples, 340345 words/s, in_qsize 15, out_qsize 0\n",
            "2020-06-17 06:51:00,934 : INFO : EPOCH 8 - PROGRESS: at 85.34% examples, 340188 words/s, in_qsize 14, out_qsize 1\n",
            "2020-06-17 06:51:01,968 : INFO : EPOCH 8 - PROGRESS: at 89.89% examples, 341220 words/s, in_qsize 15, out_qsize 0\n",
            "2020-06-17 06:51:03,013 : INFO : EPOCH 8 - PROGRESS: at 94.03% examples, 340732 words/s, in_qsize 15, out_qsize 1\n",
            "2020-06-17 06:51:04,008 : INFO : EPOCH 8 - PROGRESS: at 98.25% examples, 340770 words/s, in_qsize 15, out_qsize 0\n",
            "2020-06-17 06:51:04,239 : INFO : worker thread finished; awaiting finish of 7 more threads\n",
            "2020-06-17 06:51:04,266 : INFO : worker thread finished; awaiting finish of 6 more threads\n",
            "2020-06-17 06:51:04,274 : INFO : worker thread finished; awaiting finish of 5 more threads\n",
            "2020-06-17 06:51:04,282 : INFO : worker thread finished; awaiting finish of 4 more threads\n",
            "2020-06-17 06:51:04,316 : INFO : worker thread finished; awaiting finish of 3 more threads\n",
            "2020-06-17 06:51:04,325 : INFO : worker thread finished; awaiting finish of 2 more threads\n",
            "2020-06-17 06:51:04,335 : INFO : worker thread finished; awaiting finish of 1 more threads\n",
            "2020-06-17 06:51:04,345 : INFO : worker thread finished; awaiting finish of 0 more threads\n",
            "2020-06-17 06:51:04,346 : INFO : EPOCH - 8 : training on 9227204 raw words (8222667 effective words) took 24.0s, 341952 effective words/s\n",
            "2020-06-17 06:51:05,403 : INFO : EPOCH 9 - PROGRESS: at 3.58% examples, 282009 words/s, in_qsize 15, out_qsize 2\n",
            "2020-06-17 06:51:06,410 : INFO : EPOCH 9 - PROGRESS: at 7.93% examples, 317204 words/s, in_qsize 14, out_qsize 3\n",
            "2020-06-17 06:51:07,446 : INFO : EPOCH 9 - PROGRESS: at 12.06% examples, 320472 words/s, in_qsize 15, out_qsize 0\n",
            "2020-06-17 06:51:08,453 : INFO : EPOCH 9 - PROGRESS: at 16.16% examples, 324301 words/s, in_qsize 15, out_qsize 0\n",
            "2020-06-17 06:51:09,454 : INFO : EPOCH 9 - PROGRESS: at 20.59% examples, 332307 words/s, in_qsize 15, out_qsize 0\n",
            "2020-06-17 06:51:10,461 : INFO : EPOCH 9 - PROGRESS: at 24.83% examples, 334455 words/s, in_qsize 15, out_qsize 0\n",
            "2020-06-17 06:51:11,499 : INFO : EPOCH 9 - PROGRESS: at 29.26% examples, 338207 words/s, in_qsize 16, out_qsize 0\n",
            "2020-06-17 06:51:12,513 : INFO : EPOCH 9 - PROGRESS: at 33.59% examples, 338747 words/s, in_qsize 15, out_qsize 0\n",
            "2020-06-17 06:51:13,604 : INFO : EPOCH 9 - PROGRESS: at 38.35% examples, 341197 words/s, in_qsize 16, out_qsize 1\n",
            "2020-06-17 06:51:14,642 : INFO : EPOCH 9 - PROGRESS: at 43.11% examples, 344874 words/s, in_qsize 15, out_qsize 0\n",
            "2020-06-17 06:51:15,659 : INFO : EPOCH 9 - PROGRESS: at 47.75% examples, 347736 words/s, in_qsize 16, out_qsize 0\n",
            "2020-06-17 06:51:16,711 : INFO : EPOCH 9 - PROGRESS: at 52.40% examples, 349185 words/s, in_qsize 16, out_qsize 0\n",
            "2020-06-17 06:51:17,714 : INFO : EPOCH 9 - PROGRESS: at 56.95% examples, 350978 words/s, in_qsize 15, out_qsize 0\n",
            "2020-06-17 06:51:18,731 : INFO : EPOCH 9 - PROGRESS: at 61.28% examples, 350942 words/s, in_qsize 15, out_qsize 0\n",
            "2020-06-17 06:51:19,775 : INFO : EPOCH 9 - PROGRESS: at 65.72% examples, 350853 words/s, in_qsize 16, out_qsize 0\n",
            "2020-06-17 06:51:20,804 : INFO : EPOCH 9 - PROGRESS: at 70.59% examples, 353291 words/s, in_qsize 16, out_qsize 0\n",
            "2020-06-17 06:51:21,808 : INFO : EPOCH 9 - PROGRESS: at 74.92% examples, 353381 words/s, in_qsize 16, out_qsize 1\n",
            "2020-06-17 06:51:22,836 : INFO : EPOCH 9 - PROGRESS: at 79.27% examples, 353009 words/s, in_qsize 14, out_qsize 1\n",
            "2020-06-17 06:51:23,872 : INFO : EPOCH 9 - PROGRESS: at 84.26% examples, 355272 words/s, in_qsize 15, out_qsize 0\n",
            "2020-06-17 06:51:24,873 : INFO : EPOCH 9 - PROGRESS: at 88.48% examples, 354853 words/s, in_qsize 14, out_qsize 0\n",
            "2020-06-17 06:51:25,889 : INFO : EPOCH 9 - PROGRESS: at 92.94% examples, 355041 words/s, in_qsize 16, out_qsize 1\n",
            "2020-06-17 06:51:26,907 : INFO : EPOCH 9 - PROGRESS: at 97.39% examples, 355195 words/s, in_qsize 15, out_qsize 0\n",
            "2020-06-17 06:51:27,260 : INFO : worker thread finished; awaiting finish of 7 more threads\n",
            "2020-06-17 06:51:27,324 : INFO : worker thread finished; awaiting finish of 6 more threads\n",
            "2020-06-17 06:51:27,335 : INFO : worker thread finished; awaiting finish of 5 more threads\n",
            "2020-06-17 06:51:27,346 : INFO : worker thread finished; awaiting finish of 4 more threads\n",
            "2020-06-17 06:51:27,351 : INFO : worker thread finished; awaiting finish of 3 more threads\n",
            "2020-06-17 06:51:27,355 : INFO : worker thread finished; awaiting finish of 2 more threads\n",
            "2020-06-17 06:51:27,364 : INFO : worker thread finished; awaiting finish of 1 more threads\n",
            "2020-06-17 06:51:27,371 : INFO : worker thread finished; awaiting finish of 0 more threads\n",
            "2020-06-17 06:51:27,372 : INFO : EPOCH - 9 : training on 9227204 raw words (8223628 effective words) took 23.0s, 357365 effective words/s\n",
            "2020-06-17 06:51:28,454 : INFO : EPOCH 10 - PROGRESS: at 4.13% examples, 316750 words/s, in_qsize 16, out_qsize 1\n",
            "2020-06-17 06:51:29,485 : INFO : EPOCH 10 - PROGRESS: at 9.12% examples, 356404 words/s, in_qsize 15, out_qsize 0\n",
            "2020-06-17 06:51:30,569 : INFO : EPOCH 10 - PROGRESS: at 13.68% examples, 352624 words/s, in_qsize 14, out_qsize 1\n",
            "2020-06-17 06:51:31,603 : INFO : EPOCH 10 - PROGRESS: at 18.76% examples, 365387 words/s, in_qsize 15, out_qsize 0\n",
            "2020-06-17 06:51:32,617 : INFO : EPOCH 10 - PROGRESS: at 22.33% examples, 350837 words/s, in_qsize 12, out_qsize 5\n",
            "2020-06-17 06:51:33,703 : INFO : EPOCH 10 - PROGRESS: at 26.77% examples, 348326 words/s, in_qsize 15, out_qsize 0\n",
            "2020-06-17 06:51:34,738 : INFO : EPOCH 10 - PROGRESS: at 30.67% examples, 342963 words/s, in_qsize 16, out_qsize 0\n",
            "2020-06-17 06:51:35,834 : INFO : EPOCH 10 - PROGRESS: at 34.78% examples, 338520 words/s, in_qsize 15, out_qsize 1\n",
            "2020-06-17 06:51:36,884 : INFO : EPOCH 10 - PROGRESS: at 39.00% examples, 337701 words/s, in_qsize 16, out_qsize 0\n",
            "2020-06-17 06:51:37,921 : INFO : EPOCH 10 - PROGRESS: at 43.21% examples, 337424 words/s, in_qsize 15, out_qsize 0\n",
            "2020-06-17 06:51:38,982 : INFO : EPOCH 10 - PROGRESS: at 47.32% examples, 335727 words/s, in_qsize 15, out_qsize 1\n",
            "2020-06-17 06:51:39,989 : INFO : EPOCH 10 - PROGRESS: at 51.53% examples, 336510 words/s, in_qsize 16, out_qsize 0\n",
            "2020-06-17 06:51:41,022 : INFO : EPOCH 10 - PROGRESS: at 55.43% examples, 334531 words/s, in_qsize 15, out_qsize 0\n",
            "2020-06-17 06:51:42,061 : INFO : EPOCH 10 - PROGRESS: at 59.44% examples, 333317 words/s, in_qsize 15, out_qsize 0\n",
            "2020-06-17 06:51:43,143 : INFO : EPOCH 10 - PROGRESS: at 63.86% examples, 333608 words/s, in_qsize 15, out_qsize 1\n",
            "2020-06-17 06:51:44,208 : INFO : EPOCH 10 - PROGRESS: at 67.88% examples, 332081 words/s, in_qsize 16, out_qsize 1\n",
            "2020-06-17 06:51:45,265 : INFO : EPOCH 10 - PROGRESS: at 71.99% examples, 331393 words/s, in_qsize 14, out_qsize 1\n",
            "2020-06-17 06:51:46,314 : INFO : EPOCH 10 - PROGRESS: at 76.22% examples, 331367 words/s, in_qsize 14, out_qsize 1\n",
            "2020-06-17 06:51:47,340 : INFO : EPOCH 10 - PROGRESS: at 80.47% examples, 331749 words/s, in_qsize 15, out_qsize 0\n",
            "2020-06-17 06:51:48,357 : INFO : EPOCH 10 - PROGRESS: at 84.80% examples, 332646 words/s, in_qsize 15, out_qsize 0\n",
            "2020-06-17 06:51:49,411 : INFO : EPOCH 10 - PROGRESS: at 88.37% examples, 330071 words/s, in_qsize 13, out_qsize 2\n",
            "2020-06-17 06:51:50,456 : INFO : EPOCH 10 - PROGRESS: at 92.82% examples, 330938 words/s, in_qsize 15, out_qsize 0\n",
            "2020-06-17 06:51:51,519 : INFO : EPOCH 10 - PROGRESS: at 96.96% examples, 330372 words/s, in_qsize 14, out_qsize 1\n",
            "2020-06-17 06:51:52,037 : INFO : worker thread finished; awaiting finish of 7 more threads\n",
            "2020-06-17 06:51:52,089 : INFO : worker thread finished; awaiting finish of 6 more threads\n",
            "2020-06-17 06:51:52,091 : INFO : worker thread finished; awaiting finish of 5 more threads\n",
            "2020-06-17 06:51:52,114 : INFO : worker thread finished; awaiting finish of 4 more threads\n",
            "2020-06-17 06:51:52,123 : INFO : worker thread finished; awaiting finish of 3 more threads\n",
            "2020-06-17 06:51:52,135 : INFO : worker thread finished; awaiting finish of 2 more threads\n",
            "2020-06-17 06:51:52,147 : INFO : worker thread finished; awaiting finish of 1 more threads\n",
            "2020-06-17 06:51:52,156 : INFO : worker thread finished; awaiting finish of 0 more threads\n",
            "2020-06-17 06:51:52,157 : INFO : EPOCH - 10 : training on 9227204 raw words (8223461 effective words) took 24.8s, 331976 effective words/s\n",
            "2020-06-17 06:51:53,292 : INFO : EPOCH 11 - PROGRESS: at 3.80% examples, 278200 words/s, in_qsize 14, out_qsize 1\n",
            "2020-06-17 06:51:54,335 : INFO : EPOCH 11 - PROGRESS: at 8.04% examples, 306282 words/s, in_qsize 15, out_qsize 1\n",
            "2020-06-17 06:51:55,450 : INFO : EPOCH 11 - PROGRESS: at 12.39% examples, 309708 words/s, in_qsize 15, out_qsize 0\n",
            "2020-06-17 06:51:56,460 : INFO : EPOCH 11 - PROGRESS: at 16.27% examples, 311500 words/s, in_qsize 15, out_qsize 0\n",
            "2020-06-17 06:51:57,536 : INFO : EPOCH 11 - PROGRESS: at 20.38% examples, 315347 words/s, in_qsize 15, out_qsize 1\n",
            "2020-06-17 06:51:58,495 : INFO : EPOCH 11 - PROGRESS: at 24.39% examples, 316896 words/s, in_qsize 15, out_qsize 0\n",
            "2020-06-17 06:51:59,512 : INFO : EPOCH 11 - PROGRESS: at 28.29% examples, 316668 words/s, in_qsize 16, out_qsize 0\n",
            "2020-06-17 06:52:00,535 : INFO : EPOCH 11 - PROGRESS: at 32.30% examples, 317366 words/s, in_qsize 15, out_qsize 0\n",
            "2020-06-17 06:52:01,541 : INFO : EPOCH 11 - PROGRESS: at 36.83% examples, 323170 words/s, in_qsize 15, out_qsize 0\n",
            "2020-06-17 06:52:02,553 : INFO : EPOCH 11 - PROGRESS: at 40.73% examples, 322611 words/s, in_qsize 15, out_qsize 0\n",
            "2020-06-17 06:52:03,559 : INFO : EPOCH 11 - PROGRESS: at 44.83% examples, 323803 words/s, in_qsize 15, out_qsize 0\n",
            "2020-06-17 06:52:04,560 : INFO : EPOCH 11 - PROGRESS: at 48.84% examples, 324239 words/s, in_qsize 16, out_qsize 0\n",
            "2020-06-17 06:52:05,687 : INFO : EPOCH 11 - PROGRESS: at 53.05% examples, 322943 words/s, in_qsize 15, out_qsize 5\n",
            "2020-06-17 06:52:06,785 : INFO : EPOCH 11 - PROGRESS: at 57.81% examples, 325500 words/s, in_qsize 16, out_qsize 0\n",
            "2020-06-17 06:52:07,883 : INFO : EPOCH 11 - PROGRESS: at 62.68% examples, 328274 words/s, in_qsize 15, out_qsize 0\n",
            "2020-06-17 06:52:08,894 : INFO : EPOCH 11 - PROGRESS: at 67.13% examples, 330273 words/s, in_qsize 15, out_qsize 0\n",
            "2020-06-17 06:52:09,904 : INFO : EPOCH 11 - PROGRESS: at 71.67% examples, 332544 words/s, in_qsize 14, out_qsize 1\n",
            "2020-06-17 06:52:10,912 : INFO : EPOCH 11 - PROGRESS: at 75.68% examples, 332238 words/s, in_qsize 14, out_qsize 1\n",
            "2020-06-17 06:52:11,934 : INFO : EPOCH 11 - PROGRESS: at 80.36% examples, 334439 words/s, in_qsize 16, out_qsize 0\n",
            "2020-06-17 06:52:12,941 : INFO : EPOCH 11 - PROGRESS: at 84.69% examples, 335386 words/s, in_qsize 15, out_qsize 0\n",
            "2020-06-17 06:52:13,992 : INFO : EPOCH 11 - PROGRESS: at 89.02% examples, 335550 words/s, in_qsize 15, out_qsize 2\n",
            "2020-06-17 06:52:15,001 : INFO : EPOCH 11 - PROGRESS: at 93.26% examples, 335926 words/s, in_qsize 14, out_qsize 1\n",
            "2020-06-17 06:52:16,165 : INFO : EPOCH 11 - PROGRESS: at 98.26% examples, 336721 words/s, in_qsize 15, out_qsize 2\n",
            "2020-06-17 06:52:16,325 : INFO : worker thread finished; awaiting finish of 7 more threads\n",
            "2020-06-17 06:52:16,364 : INFO : worker thread finished; awaiting finish of 6 more threads\n",
            "2020-06-17 06:52:16,366 : INFO : worker thread finished; awaiting finish of 5 more threads\n",
            "2020-06-17 06:52:16,371 : INFO : worker thread finished; awaiting finish of 4 more threads\n",
            "2020-06-17 06:52:16,382 : INFO : worker thread finished; awaiting finish of 3 more threads\n",
            "2020-06-17 06:52:16,385 : INFO : worker thread finished; awaiting finish of 2 more threads\n",
            "2020-06-17 06:52:16,395 : INFO : worker thread finished; awaiting finish of 1 more threads\n",
            "2020-06-17 06:52:16,396 : INFO : worker thread finished; awaiting finish of 0 more threads\n",
            "2020-06-17 06:52:16,398 : INFO : EPOCH - 11 : training on 9227204 raw words (8221843 effective words) took 24.2s, 339389 effective words/s\n",
            "2020-06-17 06:52:17,460 : INFO : EPOCH 12 - PROGRESS: at 3.80% examples, 302194 words/s, in_qsize 15, out_qsize 2\n",
            "2020-06-17 06:52:18,462 : INFO : EPOCH 12 - PROGRESS: at 8.15% examples, 325715 words/s, in_qsize 14, out_qsize 2\n",
            "2020-06-17 06:52:19,526 : INFO : EPOCH 12 - PROGRESS: at 12.93% examples, 340359 words/s, in_qsize 15, out_qsize 0\n",
            "2020-06-17 06:52:20,548 : INFO : EPOCH 12 - PROGRESS: at 17.24% examples, 342247 words/s, in_qsize 15, out_qsize 0\n",
            "2020-06-17 06:52:21,570 : INFO : EPOCH 12 - PROGRESS: at 21.57% examples, 343556 words/s, in_qsize 16, out_qsize 0\n",
            "2020-06-17 06:52:22,583 : INFO : EPOCH 12 - PROGRESS: at 25.69% examples, 342019 words/s, in_qsize 15, out_qsize 0\n",
            "2020-06-17 06:52:23,709 : INFO : EPOCH 12 - PROGRESS: at 30.13% examples, 339324 words/s, in_qsize 13, out_qsize 5\n",
            "2020-06-17 06:52:24,794 : INFO : EPOCH 12 - PROGRESS: at 35.10% examples, 344253 words/s, in_qsize 15, out_qsize 0\n",
            "2020-06-17 06:52:25,828 : INFO : EPOCH 12 - PROGRESS: at 39.43% examples, 344265 words/s, in_qsize 13, out_qsize 2\n",
            "2020-06-17 06:52:26,863 : INFO : EPOCH 12 - PROGRESS: at 43.86% examples, 345137 words/s, in_qsize 13, out_qsize 2\n",
            "2020-06-17 06:52:27,875 : INFO : EPOCH 12 - PROGRESS: at 48.62% examples, 348843 words/s, in_qsize 15, out_qsize 0\n",
            "2020-06-17 06:52:28,883 : INFO : EPOCH 12 - PROGRESS: at 52.29% examples, 344965 words/s, in_qsize 14, out_qsize 1\n",
            "2020-06-17 06:52:29,983 : INFO : EPOCH 12 - PROGRESS: at 56.51% examples, 342628 words/s, in_qsize 15, out_qsize 0\n",
            "2020-06-17 06:52:31,036 : INFO : EPOCH 12 - PROGRESS: at 61.07% examples, 343544 words/s, in_qsize 16, out_qsize 0\n",
            "2020-06-17 06:52:32,047 : INFO : EPOCH 12 - PROGRESS: at 65.06% examples, 342405 words/s, in_qsize 15, out_qsize 0\n",
            "2020-06-17 06:52:33,068 : INFO : EPOCH 12 - PROGRESS: at 69.18% examples, 341752 words/s, in_qsize 16, out_qsize 1\n",
            "2020-06-17 06:52:34,125 : INFO : EPOCH 12 - PROGRESS: at 74.05% examples, 343972 words/s, in_qsize 15, out_qsize 0\n",
            "2020-06-17 06:52:35,132 : INFO : EPOCH 12 - PROGRESS: at 78.51% examples, 344968 words/s, in_qsize 16, out_qsize 0\n",
            "2020-06-17 06:52:36,146 : INFO : EPOCH 12 - PROGRESS: at 82.74% examples, 344838 words/s, in_qsize 15, out_qsize 0\n",
            "2020-06-17 06:52:37,185 : INFO : EPOCH 12 - PROGRESS: at 87.40% examples, 346024 words/s, in_qsize 15, out_qsize 0\n",
            "2020-06-17 06:52:38,231 : INFO : EPOCH 12 - PROGRESS: at 91.96% examples, 346553 words/s, in_qsize 15, out_qsize 0\n",
            "2020-06-17 06:52:39,251 : INFO : EPOCH 12 - PROGRESS: at 96.31% examples, 346684 words/s, in_qsize 15, out_qsize 0\n",
            "2020-06-17 06:52:39,884 : INFO : worker thread finished; awaiting finish of 7 more threads\n",
            "2020-06-17 06:52:39,932 : INFO : worker thread finished; awaiting finish of 6 more threads\n",
            "2020-06-17 06:52:39,946 : INFO : worker thread finished; awaiting finish of 5 more threads\n",
            "2020-06-17 06:52:39,953 : INFO : worker thread finished; awaiting finish of 4 more threads\n",
            "2020-06-17 06:52:39,957 : INFO : worker thread finished; awaiting finish of 3 more threads\n",
            "2020-06-17 06:52:39,986 : INFO : worker thread finished; awaiting finish of 2 more threads\n",
            "2020-06-17 06:52:40,002 : INFO : worker thread finished; awaiting finish of 1 more threads\n",
            "2020-06-17 06:52:40,009 : INFO : worker thread finished; awaiting finish of 0 more threads\n",
            "2020-06-17 06:52:40,010 : INFO : EPOCH - 12 : training on 9227204 raw words (8221820 effective words) took 23.6s, 348413 effective words/s\n",
            "2020-06-17 06:52:41,104 : INFO : EPOCH 13 - PROGRESS: at 3.91% examples, 296425 words/s, in_qsize 10, out_qsize 5\n",
            "2020-06-17 06:52:42,148 : INFO : EPOCH 13 - PROGRESS: at 8.80% examples, 339566 words/s, in_qsize 15, out_qsize 0\n",
            "2020-06-17 06:52:43,216 : INFO : EPOCH 13 - PROGRESS: at 13.47% examples, 345903 words/s, in_qsize 15, out_qsize 0\n",
            "2020-06-17 06:52:44,240 : INFO : EPOCH 13 - PROGRESS: at 18.11% examples, 352582 words/s, in_qsize 15, out_qsize 0\n",
            "2020-06-17 06:52:45,283 : INFO : EPOCH 13 - PROGRESS: at 22.55% examples, 352189 words/s, in_qsize 16, out_qsize 2\n",
            "2020-06-17 06:52:46,370 : INFO : EPOCH 13 - PROGRESS: at 27.31% examples, 353669 words/s, in_qsize 11, out_qsize 4\n",
            "2020-06-17 06:52:47,396 : INFO : EPOCH 13 - PROGRESS: at 31.97% examples, 356391 words/s, in_qsize 14, out_qsize 1\n",
            "2020-06-17 06:52:48,442 : INFO : EPOCH 13 - PROGRESS: at 36.51% examples, 356529 words/s, in_qsize 16, out_qsize 4\n",
            "2020-06-17 06:52:49,471 : INFO : EPOCH 13 - PROGRESS: at 41.37% examples, 360120 words/s, in_qsize 15, out_qsize 1\n",
            "2020-06-17 06:52:50,515 : INFO : EPOCH 13 - PROGRESS: at 45.92% examples, 359961 words/s, in_qsize 15, out_qsize 0\n",
            "2020-06-17 06:52:51,535 : INFO : EPOCH 13 - PROGRESS: at 50.24% examples, 359030 words/s, in_qsize 16, out_qsize 1\n",
            "2020-06-17 06:52:52,567 : INFO : EPOCH 13 - PROGRESS: at 54.89% examples, 360066 words/s, in_qsize 15, out_qsize 0\n",
            "2020-06-17 06:52:53,585 : INFO : EPOCH 13 - PROGRESS: at 59.55% examples, 361306 words/s, in_qsize 15, out_qsize 0\n",
            "2020-06-17 06:52:54,613 : INFO : EPOCH 13 - PROGRESS: at 64.08% examples, 361480 words/s, in_qsize 15, out_qsize 0\n",
            "2020-06-17 06:52:55,732 : INFO : EPOCH 13 - PROGRESS: at 68.96% examples, 361253 words/s, in_qsize 15, out_qsize 0\n",
            "2020-06-17 06:52:56,740 : INFO : EPOCH 13 - PROGRESS: at 73.73% examples, 362899 words/s, in_qsize 16, out_qsize 0\n",
            "2020-06-17 06:52:57,760 : INFO : EPOCH 13 - PROGRESS: at 78.07% examples, 362117 words/s, in_qsize 15, out_qsize 2\n",
            "2020-06-17 06:52:58,795 : INFO : EPOCH 13 - PROGRESS: at 83.07% examples, 363985 words/s, in_qsize 15, out_qsize 0\n",
            "2020-06-17 06:52:59,798 : INFO : EPOCH 13 - PROGRESS: at 87.29% examples, 363088 words/s, in_qsize 15, out_qsize 0\n",
            "2020-06-17 06:53:00,815 : INFO : EPOCH 13 - PROGRESS: at 91.74% examples, 362875 words/s, in_qsize 15, out_qsize 0\n",
            "2020-06-17 06:53:01,874 : INFO : EPOCH 13 - PROGRESS: at 96.31% examples, 362612 words/s, in_qsize 15, out_qsize 2\n",
            "2020-06-17 06:53:02,502 : INFO : worker thread finished; awaiting finish of 7 more threads\n",
            "2020-06-17 06:53:02,510 : INFO : worker thread finished; awaiting finish of 6 more threads\n",
            "2020-06-17 06:53:02,545 : INFO : worker thread finished; awaiting finish of 5 more threads\n",
            "2020-06-17 06:53:02,569 : INFO : worker thread finished; awaiting finish of 4 more threads\n",
            "2020-06-17 06:53:02,573 : INFO : worker thread finished; awaiting finish of 3 more threads\n",
            "2020-06-17 06:53:02,580 : INFO : worker thread finished; awaiting finish of 2 more threads\n",
            "2020-06-17 06:53:02,583 : INFO : worker thread finished; awaiting finish of 1 more threads\n",
            "2020-06-17 06:53:02,589 : INFO : worker thread finished; awaiting finish of 0 more threads\n",
            "2020-06-17 06:53:02,590 : INFO : EPOCH - 13 : training on 9227204 raw words (8222462 effective words) took 22.6s, 364358 effective words/s\n",
            "2020-06-17 06:53:03,624 : INFO : EPOCH 14 - PROGRESS: at 3.91% examples, 314050 words/s, in_qsize 16, out_qsize 0\n",
            "2020-06-17 06:53:04,669 : INFO : EPOCH 14 - PROGRESS: at 7.82% examples, 310438 words/s, in_qsize 15, out_qsize 0\n",
            "2020-06-17 06:53:05,670 : INFO : EPOCH 14 - PROGRESS: at 11.95% examples, 319564 words/s, in_qsize 15, out_qsize 0\n",
            "2020-06-17 06:53:06,758 : INFO : EPOCH 14 - PROGRESS: at 16.27% examples, 321647 words/s, in_qsize 13, out_qsize 2\n",
            "2020-06-17 06:53:07,784 : INFO : EPOCH 14 - PROGRESS: at 20.48% examples, 324974 words/s, in_qsize 16, out_qsize 1\n",
            "2020-06-17 06:53:08,787 : INFO : EPOCH 14 - PROGRESS: at 24.28% examples, 322719 words/s, in_qsize 15, out_qsize 0\n",
            "2020-06-17 06:53:09,840 : INFO : EPOCH 14 - PROGRESS: at 28.94% examples, 328674 words/s, in_qsize 16, out_qsize 0\n",
            "2020-06-17 06:53:10,942 : INFO : EPOCH 14 - PROGRESS: at 33.49% examples, 331650 words/s, in_qsize 15, out_qsize 2\n",
            "2020-06-17 06:53:11,918 : INFO : EPOCH 14 - PROGRESS: at 37.48% examples, 330915 words/s, in_qsize 15, out_qsize 1\n",
            "2020-06-17 06:53:12,939 : INFO : EPOCH 14 - PROGRESS: at 41.05% examples, 326652 words/s, in_qsize 13, out_qsize 1\n",
            "2020-06-17 06:53:13,966 : INFO : EPOCH 14 - PROGRESS: at 44.94% examples, 325341 words/s, in_qsize 15, out_qsize 0\n",
            "2020-06-17 06:53:15,013 : INFO : EPOCH 14 - PROGRESS: at 49.49% examples, 328079 words/s, in_qsize 15, out_qsize 1\n",
            "2020-06-17 06:53:16,069 : INFO : EPOCH 14 - PROGRESS: at 53.81% examples, 328809 words/s, in_qsize 14, out_qsize 1\n",
            "2020-06-17 06:53:17,182 : INFO : EPOCH 14 - PROGRESS: at 58.79% examples, 331853 words/s, in_qsize 15, out_qsize 0\n",
            "2020-06-17 06:53:18,196 : INFO : EPOCH 14 - PROGRESS: at 63.43% examples, 334835 words/s, in_qsize 13, out_qsize 0\n",
            "2020-06-17 06:53:19,214 : INFO : EPOCH 14 - PROGRESS: at 67.45% examples, 334135 words/s, in_qsize 14, out_qsize 2\n",
            "2020-06-17 06:53:20,263 : INFO : EPOCH 14 - PROGRESS: at 71.89% examples, 334979 words/s, in_qsize 15, out_qsize 0\n",
            "2020-06-17 06:53:21,309 : INFO : EPOCH 14 - PROGRESS: at 76.22% examples, 335619 words/s, in_qsize 15, out_qsize 4\n",
            "2020-06-17 06:53:22,329 : INFO : EPOCH 14 - PROGRESS: at 80.69% examples, 336465 words/s, in_qsize 15, out_qsize 0\n",
            "2020-06-17 06:53:23,333 : INFO : EPOCH 14 - PROGRESS: at 85.02% examples, 337354 words/s, in_qsize 15, out_qsize 0\n",
            "2020-06-17 06:53:24,339 : INFO : EPOCH 14 - PROGRESS: at 89.23% examples, 337719 words/s, in_qsize 16, out_qsize 0\n",
            "2020-06-17 06:53:25,410 : INFO : EPOCH 14 - PROGRESS: at 93.92% examples, 338640 words/s, in_qsize 15, out_qsize 0\n",
            "2020-06-17 06:53:26,444 : INFO : EPOCH 14 - PROGRESS: at 98.47% examples, 339639 words/s, in_qsize 15, out_qsize 0\n",
            "2020-06-17 06:53:26,541 : INFO : worker thread finished; awaiting finish of 7 more threads\n",
            "2020-06-17 06:53:26,642 : INFO : worker thread finished; awaiting finish of 6 more threads\n",
            "2020-06-17 06:53:26,646 : INFO : worker thread finished; awaiting finish of 5 more threads\n",
            "2020-06-17 06:53:26,649 : INFO : worker thread finished; awaiting finish of 4 more threads\n",
            "2020-06-17 06:53:26,650 : INFO : worker thread finished; awaiting finish of 3 more threads\n",
            "2020-06-17 06:53:26,666 : INFO : worker thread finished; awaiting finish of 2 more threads\n",
            "2020-06-17 06:53:26,674 : INFO : worker thread finished; awaiting finish of 1 more threads\n",
            "2020-06-17 06:53:26,680 : INFO : worker thread finished; awaiting finish of 0 more threads\n",
            "2020-06-17 06:53:26,681 : INFO : EPOCH - 14 : training on 9227204 raw words (8223100 effective words) took 24.1s, 341519 effective words/s\n",
            "2020-06-17 06:53:27,768 : INFO : EPOCH 15 - PROGRESS: at 3.91% examples, 298728 words/s, in_qsize 13, out_qsize 2\n",
            "2020-06-17 06:53:28,807 : INFO : EPOCH 15 - PROGRESS: at 8.69% examples, 337328 words/s, in_qsize 13, out_qsize 2\n",
            "2020-06-17 06:53:29,947 : INFO : EPOCH 15 - PROGRESS: at 13.68% examples, 345143 words/s, in_qsize 13, out_qsize 2\n",
            "2020-06-17 06:53:30,958 : INFO : EPOCH 15 - PROGRESS: at 18.33% examples, 353085 words/s, in_qsize 15, out_qsize 0\n",
            "2020-06-17 06:53:31,967 : INFO : EPOCH 15 - PROGRESS: at 22.54% examples, 351454 words/s, in_qsize 15, out_qsize 4\n",
            "2020-06-17 06:53:32,968 : INFO : EPOCH 15 - PROGRESS: at 27.10% examples, 355018 words/s, in_qsize 16, out_qsize 0\n",
            "2020-06-17 06:53:34,109 : INFO : EPOCH 15 - PROGRESS: at 31.97% examples, 355242 words/s, in_qsize 15, out_qsize 0\n",
            "2020-06-17 06:53:35,129 : INFO : EPOCH 15 - PROGRESS: at 36.72% examples, 358007 words/s, in_qsize 15, out_qsize 0\n",
            "2020-06-17 06:53:36,136 : INFO : EPOCH 15 - PROGRESS: at 41.37% examples, 360373 words/s, in_qsize 15, out_qsize 0\n",
            "2020-06-17 06:53:37,232 : INFO : EPOCH 15 - PROGRESS: at 45.92% examples, 358418 words/s, in_qsize 15, out_qsize 1\n",
            "2020-06-17 06:53:38,248 : INFO : EPOCH 15 - PROGRESS: at 50.56% examples, 360061 words/s, in_qsize 15, out_qsize 0\n",
            "2020-06-17 06:53:39,266 : INFO : EPOCH 15 - PROGRESS: at 54.99% examples, 359988 words/s, in_qsize 15, out_qsize 0\n",
            "2020-06-17 06:53:40,273 : INFO : EPOCH 15 - PROGRESS: at 59.33% examples, 359551 words/s, in_qsize 15, out_qsize 2\n",
            "2020-06-17 06:53:41,281 : INFO : EPOCH 15 - PROGRESS: at 63.54% examples, 358498 words/s, in_qsize 15, out_qsize 0\n",
            "2020-06-17 06:53:42,299 : INFO : EPOCH 15 - PROGRESS: at 68.32% examples, 360242 words/s, in_qsize 15, out_qsize 0\n",
            "2020-06-17 06:53:43,322 : INFO : EPOCH 15 - PROGRESS: at 72.53% examples, 358955 words/s, in_qsize 16, out_qsize 1\n",
            "2020-06-17 06:53:44,399 : INFO : EPOCH 15 - PROGRESS: at 76.87% examples, 357249 words/s, in_qsize 14, out_qsize 1\n",
            "2020-06-17 06:53:45,530 : INFO : EPOCH 15 - PROGRESS: at 81.88% examples, 357545 words/s, in_qsize 14, out_qsize 1\n",
            "2020-06-17 06:53:46,532 : INFO : EPOCH 15 - PROGRESS: at 86.31% examples, 357897 words/s, in_qsize 14, out_qsize 3\n",
            "2020-06-17 06:53:47,569 : INFO : EPOCH 15 - PROGRESS: at 91.42% examples, 360150 words/s, in_qsize 13, out_qsize 0\n",
            "2020-06-17 06:53:48,610 : INFO : EPOCH 15 - PROGRESS: at 95.88% examples, 359713 words/s, in_qsize 16, out_qsize 0\n",
            "2020-06-17 06:53:49,333 : INFO : worker thread finished; awaiting finish of 7 more threads\n",
            "2020-06-17 06:53:49,351 : INFO : worker thread finished; awaiting finish of 6 more threads\n",
            "2020-06-17 06:53:49,382 : INFO : worker thread finished; awaiting finish of 5 more threads\n",
            "2020-06-17 06:53:49,412 : INFO : worker thread finished; awaiting finish of 4 more threads\n",
            "2020-06-17 06:53:49,421 : INFO : worker thread finished; awaiting finish of 3 more threads\n",
            "2020-06-17 06:53:49,423 : INFO : worker thread finished; awaiting finish of 2 more threads\n",
            "2020-06-17 06:53:49,435 : INFO : worker thread finished; awaiting finish of 1 more threads\n",
            "2020-06-17 06:53:49,438 : INFO : worker thread finished; awaiting finish of 0 more threads\n",
            "2020-06-17 06:53:49,440 : INFO : EPOCH - 15 : training on 9227204 raw words (8222557 effective words) took 22.7s, 361508 effective words/s\n",
            "2020-06-17 06:53:50,460 : INFO : EPOCH 16 - PROGRESS: at 3.80% examples, 309059 words/s, in_qsize 15, out_qsize 3\n",
            "2020-06-17 06:53:51,463 : INFO : EPOCH 16 - PROGRESS: at 8.04% examples, 327778 words/s, in_qsize 9, out_qsize 6\n",
            "2020-06-17 06:53:52,501 : INFO : EPOCH 16 - PROGRESS: at 12.82% examples, 344977 words/s, in_qsize 15, out_qsize 0\n",
            "2020-06-17 06:53:53,545 : INFO : EPOCH 16 - PROGRESS: at 17.89% examples, 359143 words/s, in_qsize 15, out_qsize 0\n",
            "2020-06-17 06:53:54,550 : INFO : EPOCH 16 - PROGRESS: at 22.33% examples, 360072 words/s, in_qsize 14, out_qsize 0\n",
            "2020-06-17 06:53:55,555 : INFO : EPOCH 16 - PROGRESS: at 26.56% examples, 357704 words/s, in_qsize 14, out_qsize 0\n",
            "2020-06-17 06:53:56,556 : INFO : EPOCH 16 - PROGRESS: at 30.67% examples, 354947 words/s, in_qsize 16, out_qsize 0\n",
            "2020-06-17 06:53:57,621 : INFO : EPOCH 16 - PROGRESS: at 35.00% examples, 352233 words/s, in_qsize 15, out_qsize 0\n",
            "2020-06-17 06:53:58,710 : INFO : EPOCH 16 - PROGRESS: at 39.76% examples, 353147 words/s, in_qsize 14, out_qsize 1\n",
            "2020-06-17 06:53:59,712 : INFO : EPOCH 16 - PROGRESS: at 44.18% examples, 354263 words/s, in_qsize 15, out_qsize 0\n",
            "2020-06-17 06:54:00,748 : INFO : EPOCH 16 - PROGRESS: at 48.19% examples, 350955 words/s, in_qsize 16, out_qsize 1\n",
            "2020-06-17 06:54:01,806 : INFO : EPOCH 16 - PROGRESS: at 52.84% examples, 351932 words/s, in_qsize 15, out_qsize 0\n",
            "2020-06-17 06:54:02,858 : INFO : EPOCH 16 - PROGRESS: at 57.27% examples, 351564 words/s, in_qsize 16, out_qsize 0\n",
            "2020-06-17 06:54:03,859 : INFO : EPOCH 16 - PROGRESS: at 61.17% examples, 349405 words/s, in_qsize 16, out_qsize 2\n",
            "2020-06-17 06:54:04,865 : INFO : EPOCH 16 - PROGRESS: at 65.93% examples, 352004 words/s, in_qsize 15, out_qsize 0\n",
            "2020-06-17 06:54:05,907 : INFO : EPOCH 16 - PROGRESS: at 69.83% examples, 349213 words/s, in_qsize 15, out_qsize 0\n",
            "2020-06-17 06:54:06,945 : INFO : EPOCH 16 - PROGRESS: at 74.15% examples, 348850 words/s, in_qsize 15, out_qsize 0\n",
            "2020-06-17 06:54:07,957 : INFO : EPOCH 16 - PROGRESS: at 78.40% examples, 348547 words/s, in_qsize 12, out_qsize 3\n",
            "2020-06-17 06:54:09,060 : INFO : EPOCH 16 - PROGRESS: at 83.07% examples, 348478 words/s, in_qsize 15, out_qsize 0\n",
            "2020-06-17 06:54:10,086 : INFO : EPOCH 16 - PROGRESS: at 87.40% examples, 348415 words/s, in_qsize 15, out_qsize 0\n",
            "2020-06-17 06:54:11,123 : INFO : EPOCH 16 - PROGRESS: at 91.74% examples, 348187 words/s, in_qsize 15, out_qsize 0\n",
            "2020-06-17 06:54:12,134 : INFO : EPOCH 16 - PROGRESS: at 95.88% examples, 347579 words/s, in_qsize 15, out_qsize 2\n",
            "2020-06-17 06:54:12,871 : INFO : worker thread finished; awaiting finish of 7 more threads\n",
            "2020-06-17 06:54:12,878 : INFO : worker thread finished; awaiting finish of 6 more threads\n",
            "2020-06-17 06:54:12,905 : INFO : worker thread finished; awaiting finish of 5 more threads\n",
            "2020-06-17 06:54:12,907 : INFO : worker thread finished; awaiting finish of 4 more threads\n",
            "2020-06-17 06:54:12,945 : INFO : worker thread finished; awaiting finish of 3 more threads\n",
            "2020-06-17 06:54:12,966 : INFO : worker thread finished; awaiting finish of 2 more threads\n",
            "2020-06-17 06:54:12,978 : INFO : worker thread finished; awaiting finish of 1 more threads\n",
            "2020-06-17 06:54:12,987 : INFO : worker thread finished; awaiting finish of 0 more threads\n",
            "2020-06-17 06:54:12,988 : INFO : EPOCH - 16 : training on 9227204 raw words (8223474 effective words) took 23.5s, 349391 effective words/s\n",
            "2020-06-17 06:54:14,021 : INFO : EPOCH 17 - PROGRESS: at 3.91% examples, 314676 words/s, in_qsize 14, out_qsize 1\n",
            "2020-06-17 06:54:15,066 : INFO : EPOCH 17 - PROGRESS: at 8.36% examples, 332520 words/s, in_qsize 15, out_qsize 0\n",
            "2020-06-17 06:54:16,093 : INFO : EPOCH 17 - PROGRESS: at 13.04% examples, 346037 words/s, in_qsize 15, out_qsize 1\n",
            "2020-06-17 06:54:17,107 : INFO : EPOCH 17 - PROGRESS: at 17.35% examples, 347310 words/s, in_qsize 16, out_qsize 0\n",
            "2020-06-17 06:54:18,119 : INFO : EPOCH 17 - PROGRESS: at 21.57% examples, 346508 words/s, in_qsize 16, out_qsize 0\n",
            "2020-06-17 06:54:19,159 : INFO : EPOCH 17 - PROGRESS: at 25.80% examples, 344431 words/s, in_qsize 15, out_qsize 0\n",
            "2020-06-17 06:54:20,160 : INFO : EPOCH 17 - PROGRESS: at 29.91% examples, 343570 words/s, in_qsize 14, out_qsize 1\n",
            "2020-06-17 06:54:21,167 : INFO : EPOCH 17 - PROGRESS: at 34.78% examples, 350293 words/s, in_qsize 15, out_qsize 0\n",
            "2020-06-17 06:54:22,193 : INFO : EPOCH 17 - PROGRESS: at 38.89% examples, 348018 words/s, in_qsize 16, out_qsize 0\n",
            "2020-06-17 06:54:23,238 : INFO : EPOCH 17 - PROGRESS: at 43.43% examples, 349042 words/s, in_qsize 15, out_qsize 0\n",
            "2020-06-17 06:54:24,276 : INFO : EPOCH 17 - PROGRESS: at 47.86% examples, 349325 words/s, in_qsize 14, out_qsize 1\n",
            "2020-06-17 06:54:25,310 : INFO : EPOCH 17 - PROGRESS: at 52.18% examples, 348942 words/s, in_qsize 14, out_qsize 1\n",
            "2020-06-17 06:54:26,411 : INFO : EPOCH 17 - PROGRESS: at 56.73% examples, 348213 words/s, in_qsize 15, out_qsize 0\n",
            "2020-06-17 06:54:27,506 : INFO : EPOCH 17 - PROGRESS: at 61.39% examples, 348353 words/s, in_qsize 15, out_qsize 0\n",
            "2020-06-17 06:54:28,512 : INFO : EPOCH 17 - PROGRESS: at 65.49% examples, 347569 words/s, in_qsize 11, out_qsize 4\n",
            "2020-06-17 06:54:29,515 : INFO : EPOCH 17 - PROGRESS: at 69.94% examples, 348586 words/s, in_qsize 16, out_qsize 0\n",
            "2020-06-17 06:54:30,601 : INFO : EPOCH 17 - PROGRESS: at 74.48% examples, 348325 words/s, in_qsize 15, out_qsize 0\n",
            "2020-06-17 06:54:31,621 : INFO : EPOCH 17 - PROGRESS: at 79.05% examples, 349340 words/s, in_qsize 15, out_qsize 2\n",
            "2020-06-17 06:54:32,652 : INFO : EPOCH 17 - PROGRESS: at 83.94% examples, 351408 words/s, in_qsize 15, out_qsize 0\n",
            "2020-06-17 06:54:33,677 : INFO : EPOCH 17 - PROGRESS: at 88.37% examples, 351653 words/s, in_qsize 15, out_qsize 1\n",
            "2020-06-17 06:54:34,736 : INFO : EPOCH 17 - PROGRESS: at 93.16% examples, 352763 words/s, in_qsize 15, out_qsize 3\n",
            "2020-06-17 06:54:35,734 : INFO : EPOCH 17 - PROGRESS: at 97.50% examples, 352711 words/s, in_qsize 14, out_qsize 1\n",
            "2020-06-17 06:54:36,114 : INFO : worker thread finished; awaiting finish of 7 more threads\n",
            "2020-06-17 06:54:36,119 : INFO : worker thread finished; awaiting finish of 6 more threads\n",
            "2020-06-17 06:54:36,134 : INFO : worker thread finished; awaiting finish of 5 more threads\n",
            "2020-06-17 06:54:36,135 : INFO : worker thread finished; awaiting finish of 4 more threads\n",
            "2020-06-17 06:54:36,153 : INFO : worker thread finished; awaiting finish of 3 more threads\n",
            "2020-06-17 06:54:36,155 : INFO : worker thread finished; awaiting finish of 2 more threads\n",
            "2020-06-17 06:54:36,165 : INFO : worker thread finished; awaiting finish of 1 more threads\n",
            "2020-06-17 06:54:36,172 : INFO : worker thread finished; awaiting finish of 0 more threads\n",
            "2020-06-17 06:54:36,173 : INFO : EPOCH - 17 : training on 9227204 raw words (8223978 effective words) took 23.2s, 354935 effective words/s\n",
            "2020-06-17 06:54:37,193 : INFO : EPOCH 18 - PROGRESS: at 4.13% examples, 336031 words/s, in_qsize 16, out_qsize 0\n",
            "2020-06-17 06:54:38,212 : INFO : EPOCH 18 - PROGRESS: at 8.37% examples, 338600 words/s, in_qsize 13, out_qsize 4\n",
            "2020-06-17 06:54:39,227 : INFO : EPOCH 18 - PROGRESS: at 13.36% examples, 360358 words/s, in_qsize 16, out_qsize 1\n",
            "2020-06-17 06:54:40,248 : INFO : EPOCH 18 - PROGRESS: at 17.68% examples, 357303 words/s, in_qsize 13, out_qsize 3\n",
            "2020-06-17 06:54:41,281 : INFO : EPOCH 18 - PROGRESS: at 22.11% examples, 356635 words/s, in_qsize 16, out_qsize 1\n",
            "2020-06-17 06:54:42,310 : INFO : EPOCH 18 - PROGRESS: at 26.78% examples, 359217 words/s, in_qsize 13, out_qsize 2\n",
            "2020-06-17 06:54:43,338 : INFO : EPOCH 18 - PROGRESS: at 31.75% examples, 364859 words/s, in_qsize 15, out_qsize 0\n",
            "2020-06-17 06:54:44,398 : INFO : EPOCH 18 - PROGRESS: at 36.18% examples, 362225 words/s, in_qsize 15, out_qsize 0\n",
            "2020-06-17 06:54:45,428 : INFO : EPOCH 18 - PROGRESS: at 40.94% examples, 364255 words/s, in_qsize 16, out_qsize 0\n",
            "2020-06-17 06:54:46,444 : INFO : EPOCH 18 - PROGRESS: at 45.37% examples, 363771 words/s, in_qsize 15, out_qsize 0\n",
            "2020-06-17 06:54:47,472 : INFO : EPOCH 18 - PROGRESS: at 50.13% examples, 365385 words/s, in_qsize 15, out_qsize 0\n",
            "2020-06-17 06:54:48,476 : INFO : EPOCH 18 - PROGRESS: at 54.46% examples, 364553 words/s, in_qsize 15, out_qsize 0\n",
            "2020-06-17 06:54:49,488 : INFO : EPOCH 18 - PROGRESS: at 59.44% examples, 367627 words/s, in_qsize 14, out_qsize 1\n",
            "2020-06-17 06:54:50,520 : INFO : EPOCH 18 - PROGRESS: at 63.76% examples, 366034 words/s, in_qsize 15, out_qsize 0\n",
            "2020-06-17 06:54:51,556 : INFO : EPOCH 18 - PROGRESS: at 67.78% examples, 362778 words/s, in_qsize 15, out_qsize 0\n",
            "2020-06-17 06:54:52,591 : INFO : EPOCH 18 - PROGRESS: at 71.99% examples, 361080 words/s, in_qsize 15, out_qsize 0\n",
            "2020-06-17 06:54:53,620 : INFO : EPOCH 18 - PROGRESS: at 76.00% examples, 358674 words/s, in_qsize 15, out_qsize 0\n",
            "2020-06-17 06:54:54,627 : INFO : EPOCH 18 - PROGRESS: at 80.14% examples, 357437 words/s, in_qsize 15, out_qsize 0\n",
            "2020-06-17 06:54:55,642 : INFO : EPOCH 18 - PROGRESS: at 84.15% examples, 355737 words/s, in_qsize 14, out_qsize 2\n",
            "2020-06-17 06:54:56,698 : INFO : EPOCH 18 - PROGRESS: at 88.16% examples, 353934 words/s, in_qsize 14, out_qsize 2\n",
            "2020-06-17 06:54:57,683 : INFO : EPOCH 18 - PROGRESS: at 92.50% examples, 353828 words/s, in_qsize 16, out_qsize 0\n",
            "2020-06-17 06:54:58,728 : INFO : EPOCH 18 - PROGRESS: at 96.21% examples, 350863 words/s, in_qsize 14, out_qsize 1\n",
            "2020-06-17 06:54:59,462 : INFO : worker thread finished; awaiting finish of 7 more threads\n",
            "2020-06-17 06:54:59,467 : INFO : worker thread finished; awaiting finish of 6 more threads\n",
            "2020-06-17 06:54:59,469 : INFO : worker thread finished; awaiting finish of 5 more threads\n",
            "2020-06-17 06:54:59,472 : INFO : worker thread finished; awaiting finish of 4 more threads\n",
            "2020-06-17 06:54:59,474 : INFO : worker thread finished; awaiting finish of 3 more threads\n",
            "2020-06-17 06:54:59,476 : INFO : worker thread finished; awaiting finish of 2 more threads\n",
            "2020-06-17 06:54:59,485 : INFO : worker thread finished; awaiting finish of 1 more threads\n",
            "2020-06-17 06:54:59,517 : INFO : worker thread finished; awaiting finish of 0 more threads\n",
            "2020-06-17 06:54:59,519 : INFO : EPOCH - 18 : training on 9227204 raw words (8222060 effective words) took 23.3s, 352376 effective words/s\n",
            "2020-06-17 06:55:00,564 : INFO : EPOCH 19 - PROGRESS: at 3.47% examples, 277585 words/s, in_qsize 16, out_qsize 0\n",
            "2020-06-17 06:55:01,608 : INFO : EPOCH 19 - PROGRESS: at 7.82% examples, 309762 words/s, in_qsize 15, out_qsize 1\n",
            "2020-06-17 06:55:02,639 : INFO : EPOCH 19 - PROGRESS: at 11.84% examples, 313170 words/s, in_qsize 15, out_qsize 0\n",
            "2020-06-17 06:55:03,685 : INFO : EPOCH 19 - PROGRESS: at 15.73% examples, 311444 words/s, in_qsize 13, out_qsize 2\n",
            "2020-06-17 06:55:04,768 : INFO : EPOCH 19 - PROGRESS: at 20.05% examples, 315051 words/s, in_qsize 15, out_qsize 0\n",
            "2020-06-17 06:55:05,805 : INFO : EPOCH 19 - PROGRESS: at 24.39% examples, 319859 words/s, in_qsize 15, out_qsize 0\n",
            "2020-06-17 06:55:06,814 : INFO : EPOCH 19 - PROGRESS: at 28.40% examples, 320802 words/s, in_qsize 14, out_qsize 1\n",
            "2020-06-17 06:55:07,849 : INFO : EPOCH 19 - PROGRESS: at 32.73% examples, 323713 words/s, in_qsize 15, out_qsize 0\n",
            "2020-06-17 06:55:08,919 : INFO : EPOCH 19 - PROGRESS: at 37.05% examples, 324747 words/s, in_qsize 16, out_qsize 0\n",
            "2020-06-17 06:55:09,949 : INFO : EPOCH 19 - PROGRESS: at 40.94% examples, 323419 words/s, in_qsize 16, out_qsize 1\n",
            "2020-06-17 06:55:10,960 : INFO : EPOCH 19 - PROGRESS: at 45.05% examples, 324419 words/s, in_qsize 14, out_qsize 1\n",
            "2020-06-17 06:55:12,033 : INFO : EPOCH 19 - PROGRESS: at 49.27% examples, 324365 words/s, in_qsize 14, out_qsize 1\n",
            "2020-06-17 06:55:13,106 : INFO : EPOCH 19 - PROGRESS: at 53.70% examples, 325655 words/s, in_qsize 16, out_qsize 1\n",
            "2020-06-17 06:55:14,134 : INFO : EPOCH 19 - PROGRESS: at 57.92% examples, 326532 words/s, in_qsize 15, out_qsize 0\n",
            "2020-06-17 06:55:15,157 : INFO : EPOCH 19 - PROGRESS: at 61.93% examples, 326240 words/s, in_qsize 16, out_qsize 1\n",
            "2020-06-17 06:55:16,206 : INFO : EPOCH 19 - PROGRESS: at 66.25% examples, 327080 words/s, in_qsize 15, out_qsize 0\n",
            "2020-06-17 06:55:17,293 : INFO : EPOCH 19 - PROGRESS: at 70.48% examples, 326634 words/s, in_qsize 16, out_qsize 1\n",
            "2020-06-17 06:55:18,314 : INFO : EPOCH 19 - PROGRESS: at 74.70% examples, 327353 words/s, in_qsize 16, out_qsize 0\n",
            "2020-06-17 06:55:19,342 : INFO : EPOCH 19 - PROGRESS: at 79.05% examples, 328355 words/s, in_qsize 13, out_qsize 1\n",
            "2020-06-17 06:55:20,350 : INFO : EPOCH 19 - PROGRESS: at 82.85% examples, 327457 words/s, in_qsize 15, out_qsize 0\n",
            "2020-06-17 06:55:21,388 : INFO : EPOCH 19 - PROGRESS: at 86.96% examples, 327363 words/s, in_qsize 15, out_qsize 2\n",
            "2020-06-17 06:55:22,427 : INFO : EPOCH 19 - PROGRESS: at 91.74% examples, 329609 words/s, in_qsize 15, out_qsize 0\n",
            "2020-06-17 06:55:23,433 : INFO : EPOCH 19 - PROGRESS: at 95.45% examples, 328400 words/s, in_qsize 15, out_qsize 0\n",
            "2020-06-17 06:55:24,292 : INFO : worker thread finished; awaiting finish of 7 more threads\n",
            "2020-06-17 06:55:24,326 : INFO : worker thread finished; awaiting finish of 6 more threads\n",
            "2020-06-17 06:55:24,330 : INFO : worker thread finished; awaiting finish of 5 more threads\n",
            "2020-06-17 06:55:24,332 : INFO : worker thread finished; awaiting finish of 4 more threads\n",
            "2020-06-17 06:55:24,339 : INFO : worker thread finished; awaiting finish of 3 more threads\n",
            "2020-06-17 06:55:24,384 : INFO : worker thread finished; awaiting finish of 2 more threads\n",
            "2020-06-17 06:55:24,398 : INFO : worker thread finished; awaiting finish of 1 more threads\n",
            "2020-06-17 06:55:24,407 : INFO : worker thread finished; awaiting finish of 0 more threads\n",
            "2020-06-17 06:55:24,408 : INFO : EPOCH - 19 : training on 9227204 raw words (8222557 effective words) took 24.9s, 330617 effective words/s\n",
            "2020-06-17 06:55:25,425 : INFO : EPOCH 20 - PROGRESS: at 4.13% examples, 336995 words/s, in_qsize 14, out_qsize 0\n",
            "2020-06-17 06:55:26,513 : INFO : EPOCH 20 - PROGRESS: at 8.37% examples, 327713 words/s, in_qsize 14, out_qsize 1\n",
            "2020-06-17 06:55:27,541 : INFO : EPOCH 20 - PROGRESS: at 12.93% examples, 339708 words/s, in_qsize 15, out_qsize 0\n",
            "2020-06-17 06:55:28,565 : INFO : EPOCH 20 - PROGRESS: at 17.46% examples, 345917 words/s, in_qsize 12, out_qsize 3\n",
            "2020-06-17 06:55:29,634 : INFO : EPOCH 20 - PROGRESS: at 22.11% examples, 348477 words/s, in_qsize 16, out_qsize 0\n",
            "2020-06-17 06:55:30,674 : INFO : EPOCH 20 - PROGRESS: at 26.45% examples, 349224 words/s, in_qsize 15, out_qsize 2\n",
            "2020-06-17 06:55:31,685 : INFO : EPOCH 20 - PROGRESS: at 30.78% examples, 348247 words/s, in_qsize 15, out_qsize 0\n",
            "2020-06-17 06:55:32,742 : INFO : EPOCH 20 - PROGRESS: at 35.53% examples, 351090 words/s, in_qsize 15, out_qsize 0\n",
            "2020-06-17 06:55:33,759 : INFO : EPOCH 20 - PROGRESS: at 40.40% examples, 355766 words/s, in_qsize 15, out_qsize 0\n",
            "2020-06-17 06:55:34,760 : INFO : EPOCH 20 - PROGRESS: at 44.72% examples, 355791 words/s, in_qsize 14, out_qsize 1\n",
            "2020-06-17 06:55:35,876 : INFO : EPOCH 20 - PROGRESS: at 49.27% examples, 353806 words/s, in_qsize 15, out_qsize 0\n",
            "2020-06-17 06:55:36,933 : INFO : EPOCH 20 - PROGRESS: at 53.49% examples, 351659 words/s, in_qsize 14, out_qsize 2\n",
            "2020-06-17 06:55:37,936 : INFO : EPOCH 20 - PROGRESS: at 58.25% examples, 354582 words/s, in_qsize 10, out_qsize 1\n",
            "2020-06-17 06:55:38,957 : INFO : EPOCH 20 - PROGRESS: at 62.58% examples, 354200 words/s, in_qsize 16, out_qsize 0\n",
            "2020-06-17 06:55:40,017 : INFO : EPOCH 20 - PROGRESS: at 67.13% examples, 354082 words/s, in_qsize 15, out_qsize 0\n",
            "2020-06-17 06:55:41,024 : INFO : EPOCH 20 - PROGRESS: at 71.57% examples, 354614 words/s, in_qsize 13, out_qsize 2\n",
            "2020-06-17 06:55:42,037 : INFO : EPOCH 20 - PROGRESS: at 76.00% examples, 354934 words/s, in_qsize 15, out_qsize 0\n",
            "2020-06-17 06:55:43,085 : INFO : EPOCH 20 - PROGRESS: at 80.36% examples, 354091 words/s, in_qsize 16, out_qsize 0\n",
            "2020-06-17 06:55:44,134 : INFO : EPOCH 20 - PROGRESS: at 84.70% examples, 353330 words/s, in_qsize 14, out_qsize 1\n",
            "2020-06-17 06:55:45,165 : INFO : EPOCH 20 - PROGRESS: at 88.48% examples, 350780 words/s, in_qsize 13, out_qsize 2\n",
            "2020-06-17 06:55:46,190 : INFO : EPOCH 20 - PROGRESS: at 92.83% examples, 350613 words/s, in_qsize 15, out_qsize 0\n",
            "2020-06-17 06:55:47,207 : INFO : EPOCH 20 - PROGRESS: at 97.18% examples, 350605 words/s, in_qsize 16, out_qsize 0\n",
            "2020-06-17 06:55:47,646 : INFO : worker thread finished; awaiting finish of 7 more threads\n",
            "2020-06-17 06:55:47,657 : INFO : worker thread finished; awaiting finish of 6 more threads\n",
            "2020-06-17 06:55:47,737 : INFO : worker thread finished; awaiting finish of 5 more threads\n",
            "2020-06-17 06:55:47,755 : INFO : worker thread finished; awaiting finish of 4 more threads\n",
            "2020-06-17 06:55:47,758 : INFO : worker thread finished; awaiting finish of 3 more threads\n",
            "2020-06-17 06:55:47,758 : INFO : worker thread finished; awaiting finish of 2 more threads\n",
            "2020-06-17 06:55:47,763 : INFO : worker thread finished; awaiting finish of 1 more threads\n",
            "2020-06-17 06:55:47,764 : INFO : worker thread finished; awaiting finish of 0 more threads\n",
            "2020-06-17 06:55:47,764 : INFO : EPOCH - 20 : training on 9227204 raw words (8221209 effective words) took 23.3s, 352191 effective words/s\n",
            "2020-06-17 06:55:48,786 : INFO : EPOCH 21 - PROGRESS: at 3.58% examples, 292903 words/s, in_qsize 14, out_qsize 1\n",
            "2020-06-17 06:55:49,799 : INFO : EPOCH 21 - PROGRESS: at 7.93% examples, 324047 words/s, in_qsize 15, out_qsize 4\n",
            "2020-06-17 06:55:50,884 : INFO : EPOCH 21 - PROGRESS: at 12.93% examples, 341804 words/s, in_qsize 16, out_qsize 1\n",
            "2020-06-17 06:55:51,932 : INFO : EPOCH 21 - PROGRESS: at 17.68% examples, 349825 words/s, in_qsize 15, out_qsize 0\n",
            "2020-06-17 06:55:52,950 : INFO : EPOCH 21 - PROGRESS: at 21.90% examples, 348227 words/s, in_qsize 12, out_qsize 3\n",
            "2020-06-17 06:55:53,984 : INFO : EPOCH 21 - PROGRESS: at 26.77% examples, 354865 words/s, in_qsize 15, out_qsize 0\n",
            "2020-06-17 06:55:54,987 : INFO : EPOCH 21 - PROGRESS: at 31.00% examples, 353766 words/s, in_qsize 15, out_qsize 0\n",
            "2020-06-17 06:55:55,995 : INFO : EPOCH 21 - PROGRESS: at 35.54% examples, 355863 words/s, in_qsize 15, out_qsize 0\n",
            "2020-06-17 06:55:57,016 : INFO : EPOCH 21 - PROGRESS: at 40.08% examples, 357050 words/s, in_qsize 15, out_qsize 0\n",
            "2020-06-17 06:55:58,084 : INFO : EPOCH 21 - PROGRESS: at 44.62% examples, 357137 words/s, in_qsize 15, out_qsize 2\n",
            "2020-06-17 06:55:59,100 : INFO : EPOCH 21 - PROGRESS: at 49.49% examples, 359827 words/s, in_qsize 16, out_qsize 0\n",
            "2020-06-17 06:56:00,102 : INFO : EPOCH 21 - PROGRESS: at 53.81% examples, 359500 words/s, in_qsize 15, out_qsize 0\n",
            "2020-06-17 06:56:01,125 : INFO : EPOCH 21 - PROGRESS: at 58.37% examples, 359995 words/s, in_qsize 15, out_qsize 0\n",
            "2020-06-17 06:56:02,125 : INFO : EPOCH 21 - PROGRESS: at 63.11% examples, 362223 words/s, in_qsize 15, out_qsize 0\n",
            "2020-06-17 06:56:03,135 : INFO : EPOCH 21 - PROGRESS: at 67.24% examples, 360431 words/s, in_qsize 15, out_qsize 2\n",
            "2020-06-17 06:56:04,141 : INFO : EPOCH 21 - PROGRESS: at 71.88% examples, 361674 words/s, in_qsize 14, out_qsize 2\n",
            "2020-06-17 06:56:05,143 : INFO : EPOCH 21 - PROGRESS: at 76.33% examples, 361822 words/s, in_qsize 15, out_qsize 0\n",
            "2020-06-17 06:56:06,170 : INFO : EPOCH 21 - PROGRESS: at 80.79% examples, 362003 words/s, in_qsize 14, out_qsize 1\n",
            "2020-06-17 06:56:07,178 : INFO : EPOCH 21 - PROGRESS: at 85.23% examples, 361526 words/s, in_qsize 15, out_qsize 0\n",
            "2020-06-17 06:56:08,223 : INFO : EPOCH 21 - PROGRESS: at 90.10% examples, 362894 words/s, in_qsize 15, out_qsize 1\n",
            "2020-06-17 06:56:09,246 : INFO : EPOCH 21 - PROGRESS: at 94.47% examples, 361931 words/s, in_qsize 11, out_qsize 4\n",
            "2020-06-17 06:56:10,239 : INFO : worker thread finished; awaiting finish of 7 more threads\n",
            "2020-06-17 06:56:10,247 : INFO : EPOCH 21 - PROGRESS: at 99.44% examples, 364045 words/s, in_qsize 6, out_qsize 1\n",
            "2020-06-17 06:56:10,248 : INFO : worker thread finished; awaiting finish of 6 more threads\n",
            "2020-06-17 06:56:10,260 : INFO : worker thread finished; awaiting finish of 5 more threads\n",
            "2020-06-17 06:56:10,276 : INFO : worker thread finished; awaiting finish of 4 more threads\n",
            "2020-06-17 06:56:10,278 : INFO : worker thread finished; awaiting finish of 3 more threads\n",
            "2020-06-17 06:56:10,287 : INFO : worker thread finished; awaiting finish of 2 more threads\n",
            "2020-06-17 06:56:10,289 : INFO : worker thread finished; awaiting finish of 1 more threads\n",
            "2020-06-17 06:56:10,311 : INFO : worker thread finished; awaiting finish of 0 more threads\n",
            "2020-06-17 06:56:10,312 : INFO : EPOCH - 21 : training on 9227204 raw words (8223410 effective words) took 22.5s, 365013 effective words/s\n",
            "2020-06-17 06:56:11,393 : INFO : EPOCH 22 - PROGRESS: at 4.01% examples, 308574 words/s, in_qsize 16, out_qsize 0\n",
            "2020-06-17 06:56:12,409 : INFO : EPOCH 22 - PROGRESS: at 8.69% examples, 342022 words/s, in_qsize 15, out_qsize 0\n",
            "2020-06-17 06:56:13,425 : INFO : EPOCH 22 - PROGRESS: at 13.04% examples, 344923 words/s, in_qsize 14, out_qsize 0\n",
            "2020-06-17 06:56:14,517 : INFO : EPOCH 22 - PROGRESS: at 17.03% examples, 333654 words/s, in_qsize 14, out_qsize 1\n",
            "2020-06-17 06:56:15,536 : INFO : EPOCH 22 - PROGRESS: at 21.35% examples, 336793 words/s, in_qsize 14, out_qsize 1\n",
            "2020-06-17 06:56:16,543 : INFO : EPOCH 22 - PROGRESS: at 25.48% examples, 336697 words/s, in_qsize 14, out_qsize 1\n",
            "2020-06-17 06:56:17,588 : INFO : EPOCH 22 - PROGRESS: at 29.80% examples, 337331 words/s, in_qsize 12, out_qsize 3\n",
            "2020-06-17 06:56:18,668 : INFO : EPOCH 22 - PROGRESS: at 34.24% examples, 337429 words/s, in_qsize 15, out_qsize 0\n",
            "2020-06-17 06:56:19,677 : INFO : EPOCH 22 - PROGRESS: at 38.35% examples, 337211 words/s, in_qsize 16, out_qsize 1\n",
            "2020-06-17 06:56:20,681 : INFO : EPOCH 22 - PROGRESS: at 42.78% examples, 339792 words/s, in_qsize 15, out_qsize 0\n",
            "2020-06-17 06:56:21,694 : INFO : EPOCH 22 - PROGRESS: at 46.89% examples, 339274 words/s, in_qsize 16, out_qsize 0\n",
            "2020-06-17 06:56:22,699 : INFO : EPOCH 22 - PROGRESS: at 50.56% examples, 336199 words/s, in_qsize 15, out_qsize 4\n",
            "2020-06-17 06:56:23,727 : INFO : EPOCH 22 - PROGRESS: at 54.46% examples, 334344 words/s, in_qsize 14, out_qsize 1\n",
            "2020-06-17 06:56:24,782 : INFO : EPOCH 22 - PROGRESS: at 58.58% examples, 333383 words/s, in_qsize 15, out_qsize 0\n",
            "2020-06-17 06:56:25,848 : INFO : EPOCH 22 - PROGRESS: at 63.22% examples, 335169 words/s, in_qsize 15, out_qsize 0\n",
            "2020-06-17 06:56:26,876 : INFO : EPOCH 22 - PROGRESS: at 67.66% examples, 336429 words/s, in_qsize 16, out_qsize 0\n",
            "2020-06-17 06:56:27,889 : INFO : EPOCH 22 - PROGRESS: at 71.78% examples, 336301 words/s, in_qsize 14, out_qsize 1\n",
            "2020-06-17 06:56:28,917 : INFO : EPOCH 22 - PROGRESS: at 76.11% examples, 336847 words/s, in_qsize 15, out_qsize 1\n",
            "2020-06-17 06:56:30,019 : INFO : EPOCH 22 - PROGRESS: at 81.01% examples, 338359 words/s, in_qsize 16, out_qsize 0\n",
            "2020-06-17 06:56:31,073 : INFO : EPOCH 22 - PROGRESS: at 85.34% examples, 338336 words/s, in_qsize 15, out_qsize 0\n",
            "2020-06-17 06:56:32,185 : INFO : EPOCH 22 - PROGRESS: at 89.89% examples, 338246 words/s, in_qsize 15, out_qsize 0\n",
            "2020-06-17 06:56:33,203 : INFO : EPOCH 22 - PROGRESS: at 94.25% examples, 338760 words/s, in_qsize 16, out_qsize 1\n",
            "2020-06-17 06:56:34,232 : INFO : EPOCH 22 - PROGRESS: at 98.58% examples, 339078 words/s, in_qsize 11, out_qsize 3\n",
            "2020-06-17 06:56:34,295 : INFO : worker thread finished; awaiting finish of 7 more threads\n",
            "2020-06-17 06:56:34,375 : INFO : worker thread finished; awaiting finish of 6 more threads\n",
            "2020-06-17 06:56:34,401 : INFO : worker thread finished; awaiting finish of 5 more threads\n",
            "2020-06-17 06:56:34,403 : INFO : worker thread finished; awaiting finish of 4 more threads\n",
            "2020-06-17 06:56:34,405 : INFO : worker thread finished; awaiting finish of 3 more threads\n",
            "2020-06-17 06:56:34,406 : INFO : worker thread finished; awaiting finish of 2 more threads\n",
            "2020-06-17 06:56:34,407 : INFO : worker thread finished; awaiting finish of 1 more threads\n",
            "2020-06-17 06:56:34,408 : INFO : worker thread finished; awaiting finish of 0 more threads\n",
            "2020-06-17 06:56:34,408 : INFO : EPOCH - 22 : training on 9227204 raw words (8223020 effective words) took 24.1s, 341447 effective words/s\n",
            "2020-06-17 06:56:35,486 : INFO : EPOCH 23 - PROGRESS: at 3.69% examples, 287251 words/s, in_qsize 15, out_qsize 2\n",
            "2020-06-17 06:56:36,520 : INFO : EPOCH 23 - PROGRESS: at 8.04% examples, 315605 words/s, in_qsize 15, out_qsize 0\n",
            "2020-06-17 06:56:37,523 : INFO : EPOCH 23 - PROGRESS: at 12.49% examples, 331424 words/s, in_qsize 13, out_qsize 1\n",
            "2020-06-17 06:56:38,525 : INFO : EPOCH 23 - PROGRESS: at 16.59% examples, 332888 words/s, in_qsize 13, out_qsize 2\n",
            "2020-06-17 06:56:39,589 : INFO : EPOCH 23 - PROGRESS: at 21.14% examples, 336776 words/s, in_qsize 15, out_qsize 0\n",
            "2020-06-17 06:56:40,628 : INFO : EPOCH 23 - PROGRESS: at 25.26% examples, 334933 words/s, in_qsize 13, out_qsize 4\n",
            "2020-06-17 06:56:41,647 : INFO : EPOCH 23 - PROGRESS: at 30.02% examples, 342005 words/s, in_qsize 13, out_qsize 0\n",
            "2020-06-17 06:56:42,683 : INFO : EPOCH 23 - PROGRESS: at 34.57% examples, 344408 words/s, in_qsize 15, out_qsize 0\n",
            "2020-06-17 06:56:43,712 : INFO : EPOCH 23 - PROGRESS: at 38.79% examples, 343669 words/s, in_qsize 15, out_qsize 0\n",
            "2020-06-17 06:56:44,752 : INFO : EPOCH 23 - PROGRESS: at 43.21% examples, 344403 words/s, in_qsize 15, out_qsize 0\n",
            "2020-06-17 06:56:45,835 : INFO : EPOCH 23 - PROGRESS: at 48.19% examples, 347641 words/s, in_qsize 15, out_qsize 0\n",
            "2020-06-17 06:56:46,836 : INFO : EPOCH 23 - PROGRESS: at 52.84% examples, 350491 words/s, in_qsize 15, out_qsize 0\n",
            "2020-06-17 06:56:47,878 : INFO : EPOCH 23 - PROGRESS: at 57.38% examples, 351174 words/s, in_qsize 16, out_qsize 0\n",
            "2020-06-17 06:56:48,926 : INFO : EPOCH 23 - PROGRESS: at 61.71% examples, 350380 words/s, in_qsize 14, out_qsize 1\n",
            "2020-06-17 06:56:49,937 : INFO : EPOCH 23 - PROGRESS: at 66.04% examples, 350490 words/s, in_qsize 14, out_qsize 1\n",
            "2020-06-17 06:56:51,012 : INFO : EPOCH 23 - PROGRESS: at 71.02% examples, 352501 words/s, in_qsize 15, out_qsize 0\n",
            "2020-06-17 06:56:52,045 : INFO : EPOCH 23 - PROGRESS: at 75.46% examples, 352550 words/s, in_qsize 13, out_qsize 2\n",
            "2020-06-17 06:56:53,094 : INFO : EPOCH 23 - PROGRESS: at 80.14% examples, 353269 words/s, in_qsize 15, out_qsize 0\n",
            "2020-06-17 06:56:54,144 : INFO : EPOCH 23 - PROGRESS: at 84.80% examples, 353884 words/s, in_qsize 14, out_qsize 1\n",
            "2020-06-17 06:56:55,145 : INFO : EPOCH 23 - PROGRESS: at 89.13% examples, 353983 words/s, in_qsize 12, out_qsize 3\n",
            "2020-06-17 06:56:56,249 : INFO : EPOCH 23 - PROGRESS: at 94.03% examples, 354420 words/s, in_qsize 16, out_qsize 1\n",
            "2020-06-17 06:56:57,261 : INFO : EPOCH 23 - PROGRESS: at 98.25% examples, 353910 words/s, in_qsize 11, out_qsize 4\n",
            "2020-06-17 06:56:57,418 : INFO : worker thread finished; awaiting finish of 7 more threads\n",
            "2020-06-17 06:56:57,423 : INFO : worker thread finished; awaiting finish of 6 more threads\n",
            "2020-06-17 06:56:57,426 : INFO : worker thread finished; awaiting finish of 5 more threads\n",
            "2020-06-17 06:56:57,451 : INFO : worker thread finished; awaiting finish of 4 more threads\n",
            "2020-06-17 06:56:57,453 : INFO : worker thread finished; awaiting finish of 3 more threads\n",
            "2020-06-17 06:56:57,454 : INFO : worker thread finished; awaiting finish of 2 more threads\n",
            "2020-06-17 06:56:57,492 : INFO : worker thread finished; awaiting finish of 1 more threads\n",
            "2020-06-17 06:56:57,495 : INFO : worker thread finished; awaiting finish of 0 more threads\n",
            "2020-06-17 06:56:57,500 : INFO : EPOCH - 23 : training on 9227204 raw words (8223432 effective words) took 23.1s, 356471 effective words/s\n",
            "2020-06-17 06:56:58,522 : INFO : EPOCH 24 - PROGRESS: at 4.12% examples, 336438 words/s, in_qsize 14, out_qsize 1\n",
            "2020-06-17 06:56:59,570 : INFO : EPOCH 24 - PROGRESS: at 8.47% examples, 338291 words/s, in_qsize 16, out_qsize 0\n",
            "2020-06-17 06:57:00,636 : INFO : EPOCH 24 - PROGRESS: at 12.82% examples, 336857 words/s, in_qsize 16, out_qsize 2\n",
            "2020-06-17 06:57:01,675 : INFO : EPOCH 24 - PROGRESS: at 17.57% examples, 346799 words/s, in_qsize 15, out_qsize 0\n",
            "2020-06-17 06:57:02,708 : INFO : EPOCH 24 - PROGRESS: at 22.11% examples, 349854 words/s, in_qsize 15, out_qsize 1\n",
            "2020-06-17 06:57:03,748 : INFO : EPOCH 24 - PROGRESS: at 26.67% examples, 351473 words/s, in_qsize 15, out_qsize 0\n",
            "2020-06-17 06:57:04,753 : INFO : EPOCH 24 - PROGRESS: at 30.89% examples, 350714 words/s, in_qsize 15, out_qsize 0\n",
            "2020-06-17 06:57:05,777 : INFO : EPOCH 24 - PROGRESS: at 35.21% examples, 350321 words/s, in_qsize 15, out_qsize 0\n",
            "2020-06-17 06:57:06,829 : INFO : EPOCH 24 - PROGRESS: at 40.08% examples, 353787 words/s, in_qsize 14, out_qsize 0\n",
            "2020-06-17 06:57:07,840 : INFO : EPOCH 24 - PROGRESS: at 44.29% examples, 352758 words/s, in_qsize 15, out_qsize 0\n",
            "2020-06-17 06:57:08,923 : INFO : EPOCH 24 - PROGRESS: at 48.62% examples, 350548 words/s, in_qsize 16, out_qsize 0\n",
            "2020-06-17 06:57:09,927 : INFO : EPOCH 24 - PROGRESS: at 53.16% examples, 352328 words/s, in_qsize 16, out_qsize 0\n",
            "2020-06-17 06:57:10,963 : INFO : EPOCH 24 - PROGRESS: at 57.49% examples, 351723 words/s, in_qsize 15, out_qsize 0\n",
            "2020-06-17 06:57:11,980 : INFO : EPOCH 24 - PROGRESS: at 61.82% examples, 351642 words/s, in_qsize 15, out_qsize 2\n",
            "2020-06-17 06:57:13,019 : INFO : EPOCH 24 - PROGRESS: at 66.80% examples, 354494 words/s, in_qsize 16, out_qsize 1\n",
            "2020-06-17 06:57:14,033 : INFO : EPOCH 24 - PROGRESS: at 71.35% examples, 355368 words/s, in_qsize 16, out_qsize 1\n",
            "2020-06-17 06:57:15,039 : INFO : EPOCH 24 - PROGRESS: at 75.02% examples, 352238 words/s, in_qsize 13, out_qsize 3\n",
            "2020-06-17 06:57:16,086 : INFO : EPOCH 24 - PROGRESS: at 79.60% examples, 352517 words/s, in_qsize 14, out_qsize 1\n",
            "2020-06-17 06:57:17,104 : INFO : EPOCH 24 - PROGRESS: at 84.04% examples, 352836 words/s, in_qsize 14, out_qsize 0\n",
            "2020-06-17 06:57:18,112 : INFO : EPOCH 24 - PROGRESS: at 88.05% examples, 351568 words/s, in_qsize 14, out_qsize 3\n",
            "2020-06-17 06:57:19,157 : INFO : EPOCH 24 - PROGRESS: at 92.61% examples, 351847 words/s, in_qsize 15, out_qsize 0\n",
            "2020-06-17 06:57:20,168 : INFO : EPOCH 24 - PROGRESS: at 96.85% examples, 351470 words/s, in_qsize 14, out_qsize 5\n",
            "2020-06-17 06:57:20,639 : INFO : worker thread finished; awaiting finish of 7 more threads\n",
            "2020-06-17 06:57:20,640 : INFO : worker thread finished; awaiting finish of 6 more threads\n",
            "2020-06-17 06:57:20,670 : INFO : worker thread finished; awaiting finish of 5 more threads\n",
            "2020-06-17 06:57:20,676 : INFO : worker thread finished; awaiting finish of 4 more threads\n",
            "2020-06-17 06:57:20,716 : INFO : worker thread finished; awaiting finish of 3 more threads\n",
            "2020-06-17 06:57:20,728 : INFO : worker thread finished; awaiting finish of 2 more threads\n",
            "2020-06-17 06:57:20,740 : INFO : worker thread finished; awaiting finish of 1 more threads\n",
            "2020-06-17 06:57:20,745 : INFO : worker thread finished; awaiting finish of 0 more threads\n",
            "2020-06-17 06:57:20,747 : INFO : EPOCH - 24 : training on 9227204 raw words (8220893 effective words) took 23.2s, 353886 effective words/s\n",
            "2020-06-17 06:57:21,795 : INFO : EPOCH 25 - PROGRESS: at 3.58% examples, 283840 words/s, in_qsize 15, out_qsize 0\n",
            "2020-06-17 06:57:22,863 : INFO : EPOCH 25 - PROGRESS: at 7.93% examples, 309152 words/s, in_qsize 15, out_qsize 0\n",
            "2020-06-17 06:57:23,938 : INFO : EPOCH 25 - PROGRESS: at 12.17% examples, 313909 words/s, in_qsize 15, out_qsize 0\n",
            "2020-06-17 06:57:24,964 : INFO : EPOCH 25 - PROGRESS: at 16.48% examples, 321991 words/s, in_qsize 15, out_qsize 0\n",
            "2020-06-17 06:57:25,993 : INFO : EPOCH 25 - PROGRESS: at 20.59% examples, 323287 words/s, in_qsize 14, out_qsize 1\n",
            "2020-06-17 06:57:27,022 : INFO : EPOCH 25 - PROGRESS: at 24.83% examples, 325700 words/s, in_qsize 15, out_qsize 4\n",
            "2020-06-17 06:57:28,030 : INFO : EPOCH 25 - PROGRESS: at 28.94% examples, 327124 words/s, in_qsize 15, out_qsize 0\n",
            "2020-06-17 06:57:29,086 : INFO : EPOCH 25 - PROGRESS: at 33.48% examples, 330531 words/s, in_qsize 16, out_qsize 0\n",
            "2020-06-17 06:57:30,125 : INFO : EPOCH 25 - PROGRESS: at 37.81% examples, 331914 words/s, in_qsize 16, out_qsize 0\n",
            "2020-06-17 06:57:31,169 : INFO : EPOCH 25 - PROGRESS: at 41.70% examples, 329412 words/s, in_qsize 15, out_qsize 0\n",
            "2020-06-17 06:57:32,236 : INFO : EPOCH 25 - PROGRESS: at 46.02% examples, 329845 words/s, in_qsize 15, out_qsize 1\n",
            "2020-06-17 06:57:33,331 : INFO : EPOCH 25 - PROGRESS: at 50.46% examples, 330182 words/s, in_qsize 15, out_qsize 0\n",
            "2020-06-17 06:57:34,341 : INFO : EPOCH 25 - PROGRESS: at 54.78% examples, 331883 words/s, in_qsize 15, out_qsize 0\n",
            "2020-06-17 06:57:35,378 : INFO : EPOCH 25 - PROGRESS: at 59.12% examples, 333039 words/s, in_qsize 16, out_qsize 3\n",
            "2020-06-17 06:57:36,376 : INFO : EPOCH 25 - PROGRESS: at 63.86% examples, 336572 words/s, in_qsize 16, out_qsize 1\n",
            "2020-06-17 06:57:37,433 : INFO : EPOCH 25 - PROGRESS: at 67.77% examples, 334446 words/s, in_qsize 15, out_qsize 0\n",
            "2020-06-17 06:57:38,449 : INFO : EPOCH 25 - PROGRESS: at 72.10% examples, 335377 words/s, in_qsize 12, out_qsize 1\n",
            "2020-06-17 06:57:39,486 : INFO : EPOCH 25 - PROGRESS: at 76.33% examples, 335358 words/s, in_qsize 15, out_qsize 0\n",
            "2020-06-17 06:57:40,551 : INFO : EPOCH 25 - PROGRESS: at 80.47% examples, 334409 words/s, in_qsize 8, out_qsize 7\n",
            "2020-06-17 06:57:41,570 : INFO : EPOCH 25 - PROGRESS: at 85.02% examples, 336005 words/s, in_qsize 15, out_qsize 0\n",
            "2020-06-17 06:57:42,597 : INFO : EPOCH 25 - PROGRESS: at 89.24% examples, 336292 words/s, in_qsize 15, out_qsize 1\n",
            "2020-06-17 06:57:43,704 : INFO : EPOCH 25 - PROGRESS: at 93.71% examples, 335794 words/s, in_qsize 14, out_qsize 3\n",
            "2020-06-17 06:57:44,736 : INFO : EPOCH 25 - PROGRESS: at 98.04% examples, 336180 words/s, in_qsize 14, out_qsize 3\n",
            "2020-06-17 06:57:44,969 : INFO : worker thread finished; awaiting finish of 7 more threads\n",
            "2020-06-17 06:57:44,971 : INFO : worker thread finished; awaiting finish of 6 more threads\n",
            "2020-06-17 06:57:44,975 : INFO : worker thread finished; awaiting finish of 5 more threads\n",
            "2020-06-17 06:57:44,982 : INFO : worker thread finished; awaiting finish of 4 more threads\n",
            "2020-06-17 06:57:45,001 : INFO : worker thread finished; awaiting finish of 3 more threads\n",
            "2020-06-17 06:57:45,004 : INFO : worker thread finished; awaiting finish of 2 more threads\n",
            "2020-06-17 06:57:45,026 : INFO : worker thread finished; awaiting finish of 1 more threads\n",
            "2020-06-17 06:57:45,037 : INFO : worker thread finished; awaiting finish of 0 more threads\n",
            "2020-06-17 06:57:45,038 : INFO : EPOCH - 25 : training on 9227204 raw words (8221980 effective words) took 24.3s, 338648 effective words/s\n",
            "2020-06-17 06:57:46,094 : INFO : EPOCH 26 - PROGRESS: at 3.80% examples, 304878 words/s, in_qsize 15, out_qsize 0\n",
            "2020-06-17 06:57:47,114 : INFO : EPOCH 26 - PROGRESS: at 7.93% examples, 315389 words/s, in_qsize 16, out_qsize 1\n",
            "2020-06-17 06:57:48,195 : INFO : EPOCH 26 - PROGRESS: at 12.39% examples, 323291 words/s, in_qsize 15, out_qsize 0\n",
            "2020-06-17 06:57:49,219 : INFO : EPOCH 26 - PROGRESS: at 16.70% examples, 329220 words/s, in_qsize 15, out_qsize 0\n",
            "2020-06-17 06:57:50,237 : INFO : EPOCH 26 - PROGRESS: at 21.14% examples, 335004 words/s, in_qsize 16, out_qsize 0\n",
            "2020-06-17 06:57:51,246 : INFO : EPOCH 26 - PROGRESS: at 25.26% examples, 335088 words/s, in_qsize 16, out_qsize 0\n",
            "2020-06-17 06:57:52,299 : INFO : EPOCH 26 - PROGRESS: at 29.81% examples, 338063 words/s, in_qsize 15, out_qsize 0\n",
            "2020-06-17 06:57:53,329 : INFO : EPOCH 26 - PROGRESS: at 34.35% examples, 341200 words/s, in_qsize 14, out_qsize 1\n",
            "2020-06-17 06:57:54,351 : INFO : EPOCH 26 - PROGRESS: at 38.89% examples, 343970 words/s, in_qsize 16, out_qsize 0\n",
            "2020-06-17 06:57:55,379 : INFO : EPOCH 26 - PROGRESS: at 43.21% examples, 344219 words/s, in_qsize 16, out_qsize 1\n",
            "2020-06-17 06:57:56,442 : INFO : EPOCH 26 - PROGRESS: at 47.76% examples, 344962 words/s, in_qsize 14, out_qsize 1\n",
            "2020-06-17 06:57:57,542 : INFO : EPOCH 26 - PROGRESS: at 52.73% examples, 347404 words/s, in_qsize 15, out_qsize 0\n",
            "2020-06-17 06:57:58,562 : INFO : EPOCH 26 - PROGRESS: at 57.49% examples, 350199 words/s, in_qsize 15, out_qsize 0\n",
            "2020-06-17 06:57:59,580 : INFO : EPOCH 26 - PROGRESS: at 61.82% examples, 350176 words/s, in_qsize 15, out_qsize 0\n",
            "2020-06-17 06:58:00,610 : INFO : EPOCH 26 - PROGRESS: at 66.36% examples, 351035 words/s, in_qsize 15, out_qsize 0\n",
            "2020-06-17 06:58:01,621 : INFO : EPOCH 26 - PROGRESS: at 71.13% examples, 353266 words/s, in_qsize 15, out_qsize 1\n",
            "2020-06-17 06:58:02,623 : INFO : EPOCH 26 - PROGRESS: at 75.67% examples, 354411 words/s, in_qsize 13, out_qsize 0\n",
            "2020-06-17 06:58:03,668 : INFO : EPOCH 26 - PROGRESS: at 80.14% examples, 354126 words/s, in_qsize 13, out_qsize 2\n",
            "2020-06-17 06:58:04,672 : INFO : EPOCH 26 - PROGRESS: at 84.59% examples, 354646 words/s, in_qsize 15, out_qsize 0\n",
            "2020-06-17 06:58:05,713 : INFO : EPOCH 26 - PROGRESS: at 89.23% examples, 355305 words/s, in_qsize 14, out_qsize 1\n",
            "2020-06-17 06:58:06,714 : INFO : EPOCH 26 - PROGRESS: at 93.59% examples, 355318 words/s, in_qsize 15, out_qsize 0\n",
            "2020-06-17 06:58:07,759 : INFO : EPOCH 26 - PROGRESS: at 98.25% examples, 355830 words/s, in_qsize 15, out_qsize 0\n",
            "2020-06-17 06:58:07,914 : INFO : worker thread finished; awaiting finish of 7 more threads\n",
            "2020-06-17 06:58:07,959 : INFO : worker thread finished; awaiting finish of 6 more threads\n",
            "2020-06-17 06:58:07,969 : INFO : worker thread finished; awaiting finish of 5 more threads\n",
            "2020-06-17 06:58:07,977 : INFO : worker thread finished; awaiting finish of 4 more threads\n",
            "2020-06-17 06:58:07,987 : INFO : worker thread finished; awaiting finish of 3 more threads\n",
            "2020-06-17 06:58:08,001 : INFO : worker thread finished; awaiting finish of 2 more threads\n",
            "2020-06-17 06:58:08,002 : INFO : worker thread finished; awaiting finish of 1 more threads\n",
            "2020-06-17 06:58:08,003 : INFO : worker thread finished; awaiting finish of 0 more threads\n",
            "2020-06-17 06:58:08,005 : INFO : EPOCH - 26 : training on 9227204 raw words (8223512 effective words) took 23.0s, 358271 effective words/s\n",
            "2020-06-17 06:58:09,054 : INFO : EPOCH 27 - PROGRESS: at 4.23% examples, 336237 words/s, in_qsize 14, out_qsize 1\n",
            "2020-06-17 06:58:10,062 : INFO : EPOCH 27 - PROGRESS: at 8.37% examples, 336064 words/s, in_qsize 12, out_qsize 3\n",
            "2020-06-17 06:58:11,074 : INFO : EPOCH 27 - PROGRESS: at 12.60% examples, 338550 words/s, in_qsize 15, out_qsize 2\n",
            "2020-06-17 06:58:12,164 : INFO : EPOCH 27 - PROGRESS: at 17.02% examples, 337593 words/s, in_qsize 15, out_qsize 0\n",
            "2020-06-17 06:58:13,168 : INFO : EPOCH 27 - PROGRESS: at 20.92% examples, 334067 words/s, in_qsize 15, out_qsize 0\n",
            "2020-06-17 06:58:14,253 : INFO : EPOCH 27 - PROGRESS: at 25.37% examples, 334525 words/s, in_qsize 15, out_qsize 0\n",
            "2020-06-17 06:58:15,256 : INFO : EPOCH 27 - PROGRESS: at 29.16% examples, 331269 words/s, in_qsize 15, out_qsize 1\n",
            "2020-06-17 06:58:16,272 : INFO : EPOCH 27 - PROGRESS: at 33.27% examples, 331458 words/s, in_qsize 15, out_qsize 0\n",
            "2020-06-17 06:58:17,284 : INFO : EPOCH 27 - PROGRESS: at 37.48% examples, 332780 words/s, in_qsize 15, out_qsize 0\n",
            "2020-06-17 06:58:18,330 : INFO : EPOCH 27 - PROGRESS: at 41.92% examples, 334417 words/s, in_qsize 16, out_qsize 0\n",
            "2020-06-17 06:58:19,380 : INFO : EPOCH 27 - PROGRESS: at 45.70% examples, 330922 words/s, in_qsize 16, out_qsize 0\n",
            "2020-06-17 06:58:20,515 : INFO : EPOCH 27 - PROGRESS: at 50.02% examples, 329409 words/s, in_qsize 14, out_qsize 2\n",
            "2020-06-17 06:58:21,541 : INFO : EPOCH 27 - PROGRESS: at 54.46% examples, 331469 words/s, in_qsize 14, out_qsize 0\n",
            "2020-06-17 06:58:22,563 : INFO : EPOCH 27 - PROGRESS: at 58.68% examples, 332055 words/s, in_qsize 15, out_qsize 0\n",
            "2020-06-17 06:58:23,573 : INFO : EPOCH 27 - PROGRESS: at 62.47% examples, 330560 words/s, in_qsize 16, out_qsize 0\n",
            "2020-06-17 06:58:24,606 : INFO : EPOCH 27 - PROGRESS: at 66.47% examples, 330369 words/s, in_qsize 15, out_qsize 0\n",
            "2020-06-17 06:58:25,706 : INFO : EPOCH 27 - PROGRESS: at 70.81% examples, 329460 words/s, in_qsize 15, out_qsize 0\n",
            "2020-06-17 06:58:26,740 : INFO : EPOCH 27 - PROGRESS: at 75.14% examples, 330302 words/s, in_qsize 15, out_qsize 0\n",
            "2020-06-17 06:58:27,757 : INFO : EPOCH 27 - PROGRESS: at 78.84% examples, 328617 words/s, in_qsize 14, out_qsize 3\n",
            "2020-06-17 06:58:28,828 : INFO : EPOCH 27 - PROGRESS: at 82.75% examples, 327667 words/s, in_qsize 15, out_qsize 6\n",
            "2020-06-17 06:58:29,840 : INFO : EPOCH 27 - PROGRESS: at 87.18% examples, 328675 words/s, in_qsize 14, out_qsize 1\n",
            "2020-06-17 06:58:30,858 : INFO : EPOCH 27 - PROGRESS: at 91.31% examples, 328832 words/s, in_qsize 16, out_qsize 1\n",
            "2020-06-17 06:58:31,897 : INFO : EPOCH 27 - PROGRESS: at 95.12% examples, 328114 words/s, in_qsize 13, out_qsize 5\n",
            "2020-06-17 06:58:32,866 : INFO : EPOCH 27 - PROGRESS: at 99.22% examples, 328430 words/s, in_qsize 8, out_qsize 0\n",
            "2020-06-17 06:58:32,882 : INFO : worker thread finished; awaiting finish of 7 more threads\n",
            "2020-06-17 06:58:32,896 : INFO : worker thread finished; awaiting finish of 6 more threads\n",
            "2020-06-17 06:58:32,897 : INFO : worker thread finished; awaiting finish of 5 more threads\n",
            "2020-06-17 06:58:32,900 : INFO : worker thread finished; awaiting finish of 4 more threads\n",
            "2020-06-17 06:58:32,913 : INFO : worker thread finished; awaiting finish of 3 more threads\n",
            "2020-06-17 06:58:32,945 : INFO : worker thread finished; awaiting finish of 2 more threads\n",
            "2020-06-17 06:58:32,953 : INFO : worker thread finished; awaiting finish of 1 more threads\n",
            "2020-06-17 06:58:32,961 : INFO : worker thread finished; awaiting finish of 0 more threads\n",
            "2020-06-17 06:58:32,962 : INFO : EPOCH - 27 : training on 9227204 raw words (8223038 effective words) took 24.9s, 329700 effective words/s\n",
            "2020-06-17 06:58:34,020 : INFO : EPOCH 28 - PROGRESS: at 3.58% examples, 290285 words/s, in_qsize 16, out_qsize 2\n",
            "2020-06-17 06:58:35,083 : INFO : EPOCH 28 - PROGRESS: at 7.71% examples, 300707 words/s, in_qsize 16, out_qsize 1\n",
            "2020-06-17 06:58:36,118 : INFO : EPOCH 28 - PROGRESS: at 11.73% examples, 306637 words/s, in_qsize 11, out_qsize 4\n",
            "2020-06-17 06:58:37,124 : INFO : EPOCH 28 - PROGRESS: at 15.84% examples, 313879 words/s, in_qsize 14, out_qsize 1\n",
            "2020-06-17 06:58:38,197 : INFO : EPOCH 28 - PROGRESS: at 20.38% examples, 321050 words/s, in_qsize 16, out_qsize 0\n",
            "2020-06-17 06:58:39,238 : INFO : EPOCH 28 - PROGRESS: at 24.50% examples, 321806 words/s, in_qsize 15, out_qsize 0\n",
            "2020-06-17 06:58:40,251 : INFO : EPOCH 28 - PROGRESS: at 28.40% examples, 321054 words/s, in_qsize 14, out_qsize 2\n",
            "2020-06-17 06:58:41,264 : INFO : EPOCH 28 - PROGRESS: at 32.84% examples, 325864 words/s, in_qsize 16, out_qsize 0\n",
            "2020-06-17 06:58:42,290 : INFO : EPOCH 28 - PROGRESS: at 36.40% examples, 321532 words/s, in_qsize 16, out_qsize 1\n",
            "2020-06-17 06:58:43,334 : INFO : EPOCH 28 - PROGRESS: at 40.73% examples, 324077 words/s, in_qsize 15, out_qsize 2\n",
            "2020-06-17 06:58:44,329 : INFO : EPOCH 28 - PROGRESS: at 44.62% examples, 323389 words/s, in_qsize 14, out_qsize 3\n",
            "2020-06-17 06:58:45,332 : INFO : EPOCH 28 - PROGRESS: at 48.73% examples, 324544 words/s, in_qsize 15, out_qsize 1\n",
            "2020-06-17 06:58:46,346 : INFO : EPOCH 28 - PROGRESS: at 52.95% examples, 325932 words/s, in_qsize 15, out_qsize 0\n",
            "2020-06-17 06:58:47,415 : INFO : EPOCH 28 - PROGRESS: at 57.38% examples, 327090 words/s, in_qsize 16, out_qsize 0\n",
            "2020-06-17 06:58:48,440 : INFO : EPOCH 28 - PROGRESS: at 61.82% examples, 329028 words/s, in_qsize 16, out_qsize 0\n",
            "2020-06-17 06:58:49,455 : INFO : EPOCH 28 - PROGRESS: at 65.72% examples, 328219 words/s, in_qsize 16, out_qsize 5\n",
            "2020-06-17 06:58:50,463 : INFO : EPOCH 28 - PROGRESS: at 70.48% examples, 331711 words/s, in_qsize 15, out_qsize 0\n",
            "2020-06-17 06:58:51,519 : INFO : EPOCH 28 - PROGRESS: at 74.92% examples, 332519 words/s, in_qsize 15, out_qsize 0\n",
            "2020-06-17 06:58:52,532 : INFO : EPOCH 28 - PROGRESS: at 79.71% examples, 335328 words/s, in_qsize 14, out_qsize 0\n",
            "2020-06-17 06:58:53,542 : INFO : EPOCH 28 - PROGRESS: at 83.94% examples, 335771 words/s, in_qsize 15, out_qsize 0\n",
            "2020-06-17 06:58:54,544 : INFO : EPOCH 28 - PROGRESS: at 88.05% examples, 335853 words/s, in_qsize 15, out_qsize 0\n",
            "2020-06-17 06:58:55,630 : INFO : EPOCH 28 - PROGRESS: at 92.83% examples, 337032 words/s, in_qsize 15, out_qsize 0\n",
            "2020-06-17 06:58:56,679 : INFO : EPOCH 28 - PROGRESS: at 97.39% examples, 337887 words/s, in_qsize 15, out_qsize 0\n",
            "2020-06-17 06:58:57,065 : INFO : worker thread finished; awaiting finish of 7 more threads\n",
            "2020-06-17 06:58:57,077 : INFO : worker thread finished; awaiting finish of 6 more threads\n",
            "2020-06-17 06:58:57,080 : INFO : worker thread finished; awaiting finish of 5 more threads\n",
            "2020-06-17 06:58:57,108 : INFO : worker thread finished; awaiting finish of 4 more threads\n",
            "2020-06-17 06:58:57,110 : INFO : worker thread finished; awaiting finish of 3 more threads\n",
            "2020-06-17 06:58:57,113 : INFO : worker thread finished; awaiting finish of 2 more threads\n",
            "2020-06-17 06:58:57,115 : INFO : worker thread finished; awaiting finish of 1 more threads\n",
            "2020-06-17 06:58:57,119 : INFO : worker thread finished; awaiting finish of 0 more threads\n",
            "2020-06-17 06:58:57,120 : INFO : EPOCH - 28 : training on 9227204 raw words (8222641 effective words) took 24.1s, 340617 effective words/s\n",
            "2020-06-17 06:58:58,186 : INFO : EPOCH 29 - PROGRESS: at 3.91% examples, 306149 words/s, in_qsize 14, out_qsize 1\n",
            "2020-06-17 06:58:59,202 : INFO : EPOCH 29 - PROGRESS: at 8.47% examples, 336762 words/s, in_qsize 15, out_qsize 0\n",
            "2020-06-17 06:59:00,260 : INFO : EPOCH 29 - PROGRESS: at 12.82% examples, 339334 words/s, in_qsize 15, out_qsize 0\n",
            "2020-06-17 06:59:01,345 : INFO : EPOCH 29 - PROGRESS: at 17.24% examples, 336663 words/s, in_qsize 16, out_qsize 2\n",
            "2020-06-17 06:59:02,365 : INFO : EPOCH 29 - PROGRESS: at 22.11% examples, 347695 words/s, in_qsize 15, out_qsize 0\n",
            "2020-06-17 06:59:03,376 : INFO : EPOCH 29 - PROGRESS: at 26.23% examples, 345610 words/s, in_qsize 14, out_qsize 3\n",
            "2020-06-17 06:59:04,380 : INFO : EPOCH 29 - PROGRESS: at 30.56% examples, 346911 words/s, in_qsize 16, out_qsize 0\n",
            "2020-06-17 06:59:05,424 : INFO : EPOCH 29 - PROGRESS: at 34.57% examples, 343473 words/s, in_qsize 15, out_qsize 3\n",
            "2020-06-17 06:59:06,414 : INFO : EPOCH 29 - PROGRESS: at 38.78% examples, 343809 words/s, in_qsize 14, out_qsize 1\n",
            "2020-06-17 06:59:07,420 : INFO : EPOCH 29 - PROGRESS: at 42.89% examples, 343126 words/s, in_qsize 14, out_qsize 2\n",
            "2020-06-17 06:59:08,468 : INFO : EPOCH 29 - PROGRESS: at 47.32% examples, 343615 words/s, in_qsize 13, out_qsize 4\n",
            "2020-06-17 06:59:09,577 : INFO : EPOCH 29 - PROGRESS: at 51.86% examples, 343095 words/s, in_qsize 16, out_qsize 1\n",
            "2020-06-17 06:59:10,615 : INFO : EPOCH 29 - PROGRESS: at 56.40% examples, 344441 words/s, in_qsize 15, out_qsize 0\n",
            "2020-06-17 06:59:11,683 : INFO : EPOCH 29 - PROGRESS: at 60.74% examples, 343645 words/s, in_qsize 15, out_qsize 0\n",
            "2020-06-17 06:59:12,699 : INFO : EPOCH 29 - PROGRESS: at 65.72% examples, 347532 words/s, in_qsize 16, out_qsize 0\n",
            "2020-06-17 06:59:13,707 : INFO : EPOCH 29 - PROGRESS: at 70.05% examples, 347912 words/s, in_qsize 15, out_qsize 0\n",
            "2020-06-17 06:59:14,722 : INFO : EPOCH 29 - PROGRESS: at 74.81% examples, 350100 words/s, in_qsize 15, out_qsize 0\n",
            "2020-06-17 06:59:15,725 : INFO : EPOCH 29 - PROGRESS: at 78.73% examples, 348465 words/s, in_qsize 16, out_qsize 7\n",
            "2020-06-17 06:59:16,763 : INFO : EPOCH 29 - PROGRESS: at 83.72% examples, 351231 words/s, in_qsize 15, out_qsize 0\n",
            "2020-06-17 06:59:17,823 : INFO : EPOCH 29 - PROGRESS: at 88.16% examples, 350580 words/s, in_qsize 14, out_qsize 3\n",
            "2020-06-17 06:59:18,827 : INFO : EPOCH 29 - PROGRESS: at 92.61% examples, 351165 words/s, in_qsize 14, out_qsize 3\n",
            "2020-06-17 06:59:19,861 : INFO : EPOCH 29 - PROGRESS: at 97.50% examples, 352833 words/s, in_qsize 15, out_qsize 0\n",
            "2020-06-17 06:59:20,212 : INFO : worker thread finished; awaiting finish of 7 more threads\n",
            "2020-06-17 06:59:20,225 : INFO : worker thread finished; awaiting finish of 6 more threads\n",
            "2020-06-17 06:59:20,279 : INFO : worker thread finished; awaiting finish of 5 more threads\n",
            "2020-06-17 06:59:20,290 : INFO : worker thread finished; awaiting finish of 4 more threads\n",
            "2020-06-17 06:59:20,296 : INFO : worker thread finished; awaiting finish of 3 more threads\n",
            "2020-06-17 06:59:20,311 : INFO : worker thread finished; awaiting finish of 2 more threads\n",
            "2020-06-17 06:59:20,321 : INFO : worker thread finished; awaiting finish of 1 more threads\n",
            "2020-06-17 06:59:20,325 : INFO : worker thread finished; awaiting finish of 0 more threads\n",
            "2020-06-17 06:59:20,326 : INFO : EPOCH - 29 : training on 9227204 raw words (8223202 effective words) took 23.2s, 354634 effective words/s\n",
            "2020-06-17 06:59:21,366 : INFO : EPOCH 30 - PROGRESS: at 4.13% examples, 329981 words/s, in_qsize 14, out_qsize 0\n",
            "2020-06-17 06:59:22,458 : INFO : EPOCH 30 - PROGRESS: at 8.80% examples, 340667 words/s, in_qsize 15, out_qsize 0\n",
            "2020-06-17 06:59:23,505 : INFO : EPOCH 30 - PROGRESS: at 13.36% examples, 346229 words/s, in_qsize 15, out_qsize 2\n",
            "2020-06-17 06:59:24,559 : INFO : EPOCH 30 - PROGRESS: at 18.32% examples, 356718 words/s, in_qsize 15, out_qsize 0\n",
            "2020-06-17 06:59:25,568 : INFO : EPOCH 30 - PROGRESS: at 22.54% examples, 354369 words/s, in_qsize 16, out_qsize 2\n",
            "2020-06-17 06:59:26,620 : INFO : EPOCH 30 - PROGRESS: at 27.43% examples, 358894 words/s, in_qsize 15, out_qsize 0\n",
            "2020-06-17 06:59:27,638 : INFO : EPOCH 30 - PROGRESS: at 32.08% examples, 361354 words/s, in_qsize 15, out_qsize 0\n",
            "2020-06-17 06:59:28,638 : INFO : EPOCH 30 - PROGRESS: at 36.40% examples, 360733 words/s, in_qsize 15, out_qsize 0\n",
            "2020-06-17 06:59:29,682 : INFO : EPOCH 30 - PROGRESS: at 41.05% examples, 361392 words/s, in_qsize 15, out_qsize 0\n",
            "2020-06-17 06:59:30,727 : INFO : EPOCH 30 - PROGRESS: at 45.81% examples, 362755 words/s, in_qsize 15, out_qsize 0\n",
            "2020-06-17 06:59:31,731 : INFO : EPOCH 30 - PROGRESS: at 50.78% examples, 366777 words/s, in_qsize 16, out_qsize 0\n",
            "2020-06-17 06:59:32,802 : INFO : EPOCH 30 - PROGRESS: at 55.10% examples, 363847 words/s, in_qsize 15, out_qsize 7\n",
            "2020-06-17 06:59:33,826 : INFO : EPOCH 30 - PROGRESS: at 59.98% examples, 365959 words/s, in_qsize 15, out_qsize 0\n",
            "2020-06-17 06:59:34,827 : INFO : EPOCH 30 - PROGRESS: at 64.51% examples, 366499 words/s, in_qsize 15, out_qsize 0\n",
            "2020-06-17 06:59:35,867 : INFO : EPOCH 30 - PROGRESS: at 69.18% examples, 366641 words/s, in_qsize 15, out_qsize 0\n",
            "2020-06-17 06:59:36,893 : INFO : EPOCH 30 - PROGRESS: at 73.62% examples, 365954 words/s, in_qsize 15, out_qsize 0\n",
            "2020-06-17 06:59:37,928 : INFO : EPOCH 30 - PROGRESS: at 78.40% examples, 366705 words/s, in_qsize 11, out_qsize 3\n",
            "2020-06-17 06:59:39,002 : INFO : EPOCH 30 - PROGRESS: at 82.74% examples, 364696 words/s, in_qsize 10, out_qsize 5\n",
            "2020-06-17 06:59:40,016 : INFO : EPOCH 30 - PROGRESS: at 86.96% examples, 363553 words/s, in_qsize 15, out_qsize 0\n",
            "2020-06-17 06:59:41,134 : INFO : EPOCH 30 - PROGRESS: at 91.63% examples, 362417 words/s, in_qsize 14, out_qsize 1\n",
            "2020-06-17 06:59:42,153 : INFO : EPOCH 30 - PROGRESS: at 95.99% examples, 361809 words/s, in_qsize 16, out_qsize 0\n",
            "2020-06-17 06:59:42,904 : INFO : worker thread finished; awaiting finish of 7 more threads\n",
            "2020-06-17 06:59:42,921 : INFO : worker thread finished; awaiting finish of 6 more threads\n",
            "2020-06-17 06:59:42,933 : INFO : worker thread finished; awaiting finish of 5 more threads\n",
            "2020-06-17 06:59:42,968 : INFO : worker thread finished; awaiting finish of 4 more threads\n",
            "2020-06-17 06:59:42,977 : INFO : worker thread finished; awaiting finish of 3 more threads\n",
            "2020-06-17 06:59:42,995 : INFO : worker thread finished; awaiting finish of 2 more threads\n",
            "2020-06-17 06:59:43,004 : INFO : worker thread finished; awaiting finish of 1 more threads\n",
            "2020-06-17 06:59:43,007 : INFO : worker thread finished; awaiting finish of 0 more threads\n",
            "2020-06-17 06:59:43,009 : INFO : EPOCH - 30 : training on 9227204 raw words (8222684 effective words) took 22.7s, 362717 effective words/s\n",
            "2020-06-17 06:59:44,051 : INFO : EPOCH 31 - PROGRESS: at 3.47% examples, 277385 words/s, in_qsize 15, out_qsize 0\n",
            "2020-06-17 06:59:45,102 : INFO : EPOCH 31 - PROGRESS: at 7.82% examples, 308527 words/s, in_qsize 13, out_qsize 4\n",
            "2020-06-17 06:59:46,147 : INFO : EPOCH 31 - PROGRESS: at 12.82% examples, 336607 words/s, in_qsize 15, out_qsize 0\n",
            "2020-06-17 06:59:47,154 : INFO : EPOCH 31 - PROGRESS: at 16.48% examples, 327773 words/s, in_qsize 16, out_qsize 1\n",
            "2020-06-17 06:59:48,163 : INFO : EPOCH 31 - PROGRESS: at 20.59% examples, 329328 words/s, in_qsize 15, out_qsize 0\n",
            "2020-06-17 06:59:49,168 : INFO : EPOCH 31 - PROGRESS: at 24.50% examples, 327692 words/s, in_qsize 15, out_qsize 1\n",
            "2020-06-17 06:59:50,181 : INFO : EPOCH 31 - PROGRESS: at 28.72% examples, 329865 words/s, in_qsize 13, out_qsize 2\n",
            "2020-06-17 06:59:51,254 : INFO : EPOCH 31 - PROGRESS: at 33.59% examples, 335516 words/s, in_qsize 15, out_qsize 0\n",
            "2020-06-17 06:59:52,298 : INFO : EPOCH 31 - PROGRESS: at 38.14% examples, 338137 words/s, in_qsize 15, out_qsize 0\n",
            "2020-06-17 06:59:53,321 : INFO : EPOCH 31 - PROGRESS: at 42.67% examples, 340862 words/s, in_qsize 15, out_qsize 0\n",
            "2020-06-17 06:59:54,383 : INFO : EPOCH 31 - PROGRESS: at 47.00% examples, 340350 words/s, in_qsize 16, out_qsize 1\n",
            "2020-06-17 06:59:55,392 : INFO : EPOCH 31 - PROGRESS: at 51.43% examples, 342138 words/s, in_qsize 16, out_qsize 1\n",
            "2020-06-17 06:59:56,450 : INFO : EPOCH 31 - PROGRESS: at 56.08% examples, 343730 words/s, in_qsize 15, out_qsize 0\n",
            "2020-06-17 06:59:57,466 : INFO : EPOCH 31 - PROGRESS: at 60.30% examples, 343615 words/s, in_qsize 12, out_qsize 3\n",
            "2020-06-17 06:59:58,581 : INFO : EPOCH 31 - PROGRESS: at 65.27% examples, 345311 words/s, in_qsize 15, out_qsize 0\n",
            "2020-06-17 06:59:59,593 : INFO : EPOCH 31 - PROGRESS: at 69.72% examples, 346271 words/s, in_qsize 16, out_qsize 0\n",
            "2020-06-17 07:00:00,606 : INFO : EPOCH 31 - PROGRESS: at 73.94% examples, 346056 words/s, in_qsize 15, out_qsize 0\n",
            "2020-06-17 07:00:01,662 : INFO : EPOCH 31 - PROGRESS: at 78.51% examples, 346519 words/s, in_qsize 15, out_qsize 0\n",
            "2020-06-17 07:00:02,695 : INFO : EPOCH 31 - PROGRESS: at 82.85% examples, 346422 words/s, in_qsize 16, out_qsize 1\n",
            "2020-06-17 07:00:03,715 : INFO : EPOCH 31 - PROGRESS: at 87.07% examples, 346329 words/s, in_qsize 15, out_qsize 1\n",
            "2020-06-17 07:00:04,771 : INFO : EPOCH 31 - PROGRESS: at 91.95% examples, 347741 words/s, in_qsize 15, out_qsize 0\n",
            "2020-06-17 07:00:05,784 : INFO : EPOCH 31 - PROGRESS: at 96.64% examples, 349085 words/s, in_qsize 15, out_qsize 0\n",
            "2020-06-17 07:00:06,319 : INFO : worker thread finished; awaiting finish of 7 more threads\n",
            "2020-06-17 07:00:06,328 : INFO : worker thread finished; awaiting finish of 6 more threads\n",
            "2020-06-17 07:00:06,346 : INFO : worker thread finished; awaiting finish of 5 more threads\n",
            "2020-06-17 07:00:06,350 : INFO : worker thread finished; awaiting finish of 4 more threads\n",
            "2020-06-17 07:00:06,358 : INFO : worker thread finished; awaiting finish of 3 more threads\n",
            "2020-06-17 07:00:06,410 : INFO : worker thread finished; awaiting finish of 2 more threads\n",
            "2020-06-17 07:00:06,413 : INFO : worker thread finished; awaiting finish of 1 more threads\n",
            "2020-06-17 07:00:06,416 : INFO : worker thread finished; awaiting finish of 0 more threads\n",
            "2020-06-17 07:00:06,417 : INFO : EPOCH - 31 : training on 9227204 raw words (8222725 effective words) took 23.4s, 351488 effective words/s\n",
            "2020-06-17 07:00:07,446 : INFO : EPOCH 32 - PROGRESS: at 4.45% examples, 359768 words/s, in_qsize 15, out_qsize 0\n",
            "2020-06-17 07:00:08,484 : INFO : EPOCH 32 - PROGRESS: at 8.90% examples, 355823 words/s, in_qsize 15, out_qsize 0\n",
            "2020-06-17 07:00:09,513 : INFO : EPOCH 32 - PROGRESS: at 13.25% examples, 352597 words/s, in_qsize 14, out_qsize 1\n",
            "2020-06-17 07:00:10,564 : INFO : EPOCH 32 - PROGRESS: at 18.11% examples, 359822 words/s, in_qsize 13, out_qsize 2\n",
            "2020-06-17 07:00:11,582 : INFO : EPOCH 32 - PROGRESS: at 22.65% examples, 361376 words/s, in_qsize 15, out_qsize 0\n",
            "2020-06-17 07:00:12,592 : INFO : EPOCH 32 - PROGRESS: at 27.42% examples, 365747 words/s, in_qsize 15, out_qsize 2\n",
            "2020-06-17 07:00:13,608 : INFO : EPOCH 32 - PROGRESS: at 31.97% examples, 366136 words/s, in_qsize 15, out_qsize 1\n",
            "2020-06-17 07:00:14,673 : INFO : EPOCH 32 - PROGRESS: at 36.61% examples, 365249 words/s, in_qsize 15, out_qsize 0\n",
            "2020-06-17 07:00:15,769 : INFO : EPOCH 32 - PROGRESS: at 41.59% examples, 366272 words/s, in_qsize 14, out_qsize 1\n",
            "2020-06-17 07:00:16,782 : INFO : EPOCH 32 - PROGRESS: at 46.35% examples, 368290 words/s, in_qsize 15, out_qsize 0\n",
            "2020-06-17 07:00:17,862 : INFO : EPOCH 32 - PROGRESS: at 50.89% examples, 366215 words/s, in_qsize 13, out_qsize 5\n",
            "2020-06-17 07:00:18,864 : INFO : EPOCH 32 - PROGRESS: at 55.97% examples, 370422 words/s, in_qsize 14, out_qsize 1\n",
            "2020-06-17 07:00:19,952 : INFO : EPOCH 32 - PROGRESS: at 60.52% examples, 368842 words/s, in_qsize 15, out_qsize 0\n",
            "2020-06-17 07:00:20,943 : INFO : EPOCH 32 - PROGRESS: at 65.27% examples, 370147 words/s, in_qsize 15, out_qsize 0\n",
            "2020-06-17 07:00:21,950 : INFO : EPOCH 32 - PROGRESS: at 69.50% examples, 368512 words/s, in_qsize 14, out_qsize 1\n",
            "2020-06-17 07:00:22,952 : INFO : EPOCH 32 - PROGRESS: at 73.83% examples, 367720 words/s, in_qsize 16, out_qsize 0\n",
            "2020-06-17 07:00:23,970 : INFO : EPOCH 32 - PROGRESS: at 78.84% examples, 369728 words/s, in_qsize 15, out_qsize 0\n",
            "2020-06-17 07:00:25,033 : INFO : EPOCH 32 - PROGRESS: at 83.40% examples, 368722 words/s, in_qsize 15, out_qsize 0\n",
            "2020-06-17 07:00:26,041 : INFO : EPOCH 32 - PROGRESS: at 87.83% examples, 368370 words/s, in_qsize 16, out_qsize 0\n",
            "2020-06-17 07:00:27,045 : INFO : EPOCH 32 - PROGRESS: at 92.18% examples, 367696 words/s, in_qsize 9, out_qsize 6\n",
            "2020-06-17 07:00:28,179 : INFO : EPOCH 32 - PROGRESS: at 97.18% examples, 367371 words/s, in_qsize 12, out_qsize 5\n",
            "2020-06-17 07:00:28,569 : INFO : worker thread finished; awaiting finish of 7 more threads\n",
            "2020-06-17 07:00:28,576 : INFO : worker thread finished; awaiting finish of 6 more threads\n",
            "2020-06-17 07:00:28,583 : INFO : worker thread finished; awaiting finish of 5 more threads\n",
            "2020-06-17 07:00:28,585 : INFO : worker thread finished; awaiting finish of 4 more threads\n",
            "2020-06-17 07:00:28,589 : INFO : worker thread finished; awaiting finish of 3 more threads\n",
            "2020-06-17 07:00:28,596 : INFO : worker thread finished; awaiting finish of 2 more threads\n",
            "2020-06-17 07:00:28,626 : INFO : worker thread finished; awaiting finish of 1 more threads\n",
            "2020-06-17 07:00:28,641 : INFO : worker thread finished; awaiting finish of 0 more threads\n",
            "2020-06-17 07:00:28,642 : INFO : EPOCH - 32 : training on 9227204 raw words (8222298 effective words) took 22.2s, 370192 effective words/s\n",
            "2020-06-17 07:00:28,643 : INFO : training on a 295270528 raw words (263128460 effective words) took 751.5s, 350144 effective words/s\n"
          ],
          "name": "stderr"
        },
        {
          "output_type": "stream",
          "text": [
            "CPU times: user 24min 6s, sys: 7.1 s, total: 24min 13s\n",
            "Wall time: 12min 31s\n"
          ],
          "name": "stdout"
        },
        {
          "output_type": "execute_result",
          "data": {
            "text/plain": [
              "(263128460, 295270528)"
            ]
          },
          "metadata": {
            "tags": []
          },
          "execution_count": 20
        }
      ]
    },
    {
      "cell_type": "code",
      "metadata": {
        "trusted": true,
        "_uuid": "27cc2651c74227115d8bfd8c40e5618048e05edd",
        "id": "2TmibKhQn6F1",
        "colab_type": "code",
        "colab": {
          "base_uri": "https://localhost:8080/",
          "height": 258
        },
        "outputId": "bdfdf495-d5ce-4df7-d55c-afe4b342f760"
      },
      "source": [
        "w2v_model.most_similar(\"love\")"
      ],
      "execution_count": null,
      "outputs": [
        {
          "output_type": "stream",
          "text": [
            "/usr/local/lib/python3.6/dist-packages/ipykernel_launcher.py:1: DeprecationWarning: Call to deprecated `most_similar` (Method will be removed in 4.0.0, use self.wv.most_similar() instead).\n",
            "  \"\"\"Entry point for launching an IPython kernel.\n",
            "2020-06-17 07:00:28,661 : INFO : precomputing L2-norms of word weight vectors\n"
          ],
          "name": "stderr"
        },
        {
          "output_type": "execute_result",
          "data": {
            "text/plain": [
              "[('luv', 0.5762284994125366),\n",
              " ('loves', 0.5525255799293518),\n",
              " ('loved', 0.5336202383041382),\n",
              " ('amazing', 0.5139838457107544),\n",
              " ('looove', 0.49729108810424805),\n",
              " ('adore', 0.49724483489990234),\n",
              " ('awesome', 0.46640318632125854),\n",
              " ('lovee', 0.46052104234695435),\n",
              " ('loveee', 0.4594479203224182),\n",
              " ('loove', 0.44123607873916626)]"
            ]
          },
          "metadata": {
            "tags": []
          },
          "execution_count": 21
        }
      ]
    },
    {
      "cell_type": "markdown",
      "metadata": {
        "_uuid": "e13563644468037258598637b49373ca96b9b879",
        "id": "1pSTPRl7n6F8",
        "colab_type": "text"
      },
      "source": [
        "### Tokenize Text"
      ]
    },
    {
      "cell_type": "code",
      "metadata": {
        "trusted": true,
        "_uuid": "6852bc709a7cd20173cbeeb218505078f8f37c57",
        "id": "Y8zF6cPRn6F9",
        "colab_type": "code",
        "colab": {
          "base_uri": "https://localhost:8080/",
          "height": 68
        },
        "outputId": "8343b825-6450-4f56-cfcb-fdb891dc6764"
      },
      "source": [
        "%%time\n",
        "tokenizer = Tokenizer()\n",
        "tokenizer.fit_on_texts(df_train.text)\n",
        "\n",
        "vocab_size = len(tokenizer.word_index) + 1\n",
        "print(\"Total words\", vocab_size)"
      ],
      "execution_count": null,
      "outputs": [
        {
          "output_type": "stream",
          "text": [
            "Total words 290419\n",
            "CPU times: user 18.1 s, sys: 148 ms, total: 18.3 s\n",
            "Wall time: 18.2 s\n"
          ],
          "name": "stdout"
        }
      ]
    },
    {
      "cell_type": "code",
      "metadata": {
        "trusted": true,
        "_uuid": "45de439df3015030c71f84c2d170346936a1d68f",
        "id": "5zfGOzJvn6GD",
        "colab_type": "code",
        "colab": {
          "base_uri": "https://localhost:8080/",
          "height": 51
        },
        "outputId": "a8705613-8a34-4235-a3ca-84fc81fc3e61"
      },
      "source": [
        "%%time\n",
        "x_train = pad_sequences(tokenizer.texts_to_sequences(df_train.text), maxlen=SEQUENCE_LENGTH)\n",
        "x_test = pad_sequences(tokenizer.texts_to_sequences(df_test.text), maxlen=SEQUENCE_LENGTH)"
      ],
      "execution_count": null,
      "outputs": [
        {
          "output_type": "stream",
          "text": [
            "CPU times: user 26.8 s, sys: 580 ms, total: 27.4 s\n",
            "Wall time: 27.4 s\n"
          ],
          "name": "stdout"
        }
      ]
    },
    {
      "cell_type": "markdown",
      "metadata": {
        "_uuid": "03b35903fc6260e190d6928d240ef7432de117fc",
        "id": "hiIkl-vhn6GL",
        "colab_type": "text"
      },
      "source": [
        "### Label Encoder "
      ]
    },
    {
      "cell_type": "code",
      "metadata": {
        "trusted": true,
        "_uuid": "33676e0efa39e97d89bd650b8b4eae933a22fbf0",
        "id": "ktqeNEmSn6GN",
        "colab_type": "code",
        "colab": {
          "base_uri": "https://localhost:8080/",
          "height": 34
        },
        "outputId": "b8a4b164-bbdb-4d80-d97e-df5a790dc745"
      },
      "source": [
        "labels = df_train.target.unique().tolist()\n",
        "labels.append(NEUTRAL)\n",
        "labels"
      ],
      "execution_count": null,
      "outputs": [
        {
          "output_type": "execute_result",
          "data": {
            "text/plain": [
              "['POSITIVE', 'NEGATIVE', 'NEUTRAL']"
            ]
          },
          "metadata": {
            "tags": []
          },
          "execution_count": 24
        }
      ]
    },
    {
      "cell_type": "code",
      "metadata": {
        "trusted": true,
        "_uuid": "04239a9bef76e7922fd86098a5601dfde8ee4665",
        "id": "sJRRj3yyn6GU",
        "colab_type": "code",
        "colab": {
          "base_uri": "https://localhost:8080/",
          "height": 51
        },
        "outputId": "1cafcbb2-345e-4f39-d97b-696d66f7aa81"
      },
      "source": [
        "encoder = LabelEncoder()\n",
        "encoder.fit(df_train.target.tolist())\n",
        "\n",
        "y_train = encoder.transform(df_train.target.tolist())\n",
        "y_test = encoder.transform(df_test.target.tolist())\n",
        "\n",
        "y_train = y_train.reshape(-1,1)\n",
        "y_test = y_test.reshape(-1,1)\n",
        "\n",
        "print(\"y_train\",y_train.shape)\n",
        "print(\"y_test\",y_test.shape)"
      ],
      "execution_count": null,
      "outputs": [
        {
          "output_type": "stream",
          "text": [
            "y_train (1280000, 1)\n",
            "y_test (320000, 1)\n"
          ],
          "name": "stdout"
        }
      ]
    },
    {
      "cell_type": "code",
      "metadata": {
        "trusted": true,
        "_uuid": "04299c886911ca135583ab64878f213939a2990c",
        "id": "Po6tAVlrn6Ge",
        "colab_type": "code",
        "colab": {
          "base_uri": "https://localhost:8080/",
          "height": 102
        },
        "outputId": "a60e9a09-fed3-485c-e108-ca67983d7e78"
      },
      "source": [
        "print(\"x_train\", x_train.shape)\n",
        "print(\"y_train\", y_train.shape)\n",
        "print()\n",
        "print(\"x_test\", x_test.shape)\n",
        "print(\"y_test\", y_test.shape)"
      ],
      "execution_count": null,
      "outputs": [
        {
          "output_type": "stream",
          "text": [
            "x_train (1280000, 300)\n",
            "y_train (1280000, 1)\n",
            "\n",
            "x_test (320000, 300)\n",
            "y_test (320000, 1)\n"
          ],
          "name": "stdout"
        }
      ]
    },
    {
      "cell_type": "code",
      "metadata": {
        "trusted": true,
        "_uuid": "232533fb27b7be99d9b8c2f8fb22c9c6bf121a6f",
        "id": "vvK6jIizn6Gj",
        "colab_type": "code",
        "colab": {
          "base_uri": "https://localhost:8080/",
          "height": 194
        },
        "outputId": "db7e0eed-b33c-468b-8261-6deac594f557"
      },
      "source": [
        "y_train[:10]"
      ],
      "execution_count": null,
      "outputs": [
        {
          "output_type": "execute_result",
          "data": {
            "text/plain": [
              "array([[1],\n",
              "       [1],\n",
              "       [1],\n",
              "       [0],\n",
              "       [1],\n",
              "       [1],\n",
              "       [1],\n",
              "       [1],\n",
              "       [1],\n",
              "       [1]])"
            ]
          },
          "metadata": {
            "tags": []
          },
          "execution_count": 27
        }
      ]
    },
    {
      "cell_type": "markdown",
      "metadata": {
        "_uuid": "233c0ea94055a03e2e7df3e2a13d036ec963484f",
        "id": "o6jTkMqdn6Gm",
        "colab_type": "text"
      },
      "source": [
        "### Embedding layer"
      ]
    },
    {
      "cell_type": "code",
      "metadata": {
        "trusted": true,
        "_uuid": "9ab488374b59e3f30f8b1ea92767d853c4846bac",
        "id": "gTEWo0ovn6Gm",
        "colab_type": "code",
        "colab": {
          "base_uri": "https://localhost:8080/",
          "height": 34
        },
        "outputId": "3c0e36fe-602c-413a-a837-0dc7fb7f07e7"
      },
      "source": [
        "embedding_matrix = np.zeros((vocab_size, W2V_SIZE))\n",
        "for word, i in tokenizer.word_index.items():\n",
        "  if word in w2v_model.wv:\n",
        "    embedding_matrix[i] = w2v_model.wv[word]\n",
        "print(embedding_matrix.shape)"
      ],
      "execution_count": null,
      "outputs": [
        {
          "output_type": "stream",
          "text": [
            "(290419, 300)\n"
          ],
          "name": "stdout"
        }
      ]
    },
    {
      "cell_type": "code",
      "metadata": {
        "trusted": true,
        "_uuid": "833279d91e4286065968237fb5f2a0c2dd4d246c",
        "id": "82Pins5Kn6Gq",
        "colab_type": "code",
        "colab": {}
      },
      "source": [
        "embedding_layer = Embedding(vocab_size, W2V_SIZE, weights=[embedding_matrix], input_length=SEQUENCE_LENGTH, trainable=False)"
      ],
      "execution_count": null,
      "outputs": []
    },
    {
      "cell_type": "markdown",
      "metadata": {
        "_uuid": "b299ef78f94c2085942c993a2d58753a7476305a",
        "id": "Uzk74laZn6Gu",
        "colab_type": "text"
      },
      "source": [
        "### Build Model"
      ]
    },
    {
      "cell_type": "code",
      "metadata": {
        "trusted": true,
        "_uuid": "e775ef4f1b74e6412457181383c39f2df554ef3f",
        "id": "APDR86rSn6Gw",
        "colab_type": "code",
        "colab": {
          "base_uri": "https://localhost:8080/",
          "height": 301
        },
        "outputId": "53a93ed3-2bd1-49c6-c1ed-ab2bfdd32096"
      },
      "source": [
        "model = Sequential()\n",
        "model.add(embedding_layer)\n",
        "model.add(Dropout(0.5))\n",
        "model.add(LSTM(100, dropout=0.2, recurrent_dropout=0.2))\n",
        "model.add(Dense(1, activation='sigmoid'))\n",
        "\n",
        "model.summary()"
      ],
      "execution_count": null,
      "outputs": [
        {
          "output_type": "stream",
          "text": [
            "Model: \"sequential_1\"\n",
            "_________________________________________________________________\n",
            "Layer (type)                 Output Shape              Param #   \n",
            "=================================================================\n",
            "embedding_1 (Embedding)      (None, 300, 300)          87125700  \n",
            "_________________________________________________________________\n",
            "dropout_1 (Dropout)          (None, 300, 300)          0         \n",
            "_________________________________________________________________\n",
            "lstm_1 (LSTM)                (None, 100)               160400    \n",
            "_________________________________________________________________\n",
            "dense_1 (Dense)              (None, 1)                 101       \n",
            "=================================================================\n",
            "Total params: 87,286,201\n",
            "Trainable params: 160,501\n",
            "Non-trainable params: 87,125,700\n",
            "_________________________________________________________________\n"
          ],
          "name": "stdout"
        }
      ]
    },
    {
      "cell_type": "markdown",
      "metadata": {
        "_uuid": "28d22eafd0c7d798dcf3d742bc92fb8577939e6c",
        "id": "23NcwX6En6G2",
        "colab_type": "text"
      },
      "source": [
        "### Compile model"
      ]
    },
    {
      "cell_type": "code",
      "metadata": {
        "trusted": true,
        "_uuid": "1331e08d590bb2aa2033706c8faca217afc0f1c3",
        "id": "60grvEdWn6G4",
        "colab_type": "code",
        "colab": {}
      },
      "source": [
        "model.compile(loss='binary_crossentropy',\n",
        "              optimizer=\"adam\",\n",
        "              metrics=['accuracy'])"
      ],
      "execution_count": null,
      "outputs": []
    },
    {
      "cell_type": "markdown",
      "metadata": {
        "_uuid": "c7733127cb8b380e0c807268903bf4d03ef92542",
        "id": "JG1VNCgHn6G-",
        "colab_type": "text"
      },
      "source": [
        "### Callbacks"
      ]
    },
    {
      "cell_type": "code",
      "metadata": {
        "trusted": true,
        "_uuid": "a688df590386f5748da6fe00b01904fe6c71619e",
        "id": "YRt03k_Kn6HA",
        "colab_type": "code",
        "colab": {}
      },
      "source": [
        "callbacks = [ ReduceLROnPlateau(monitor='val_loss', patience=5, cooldown=0),\n",
        "              EarlyStopping(monitor='val_accuracy', min_delta=1e-4, patience=5)]"
      ],
      "execution_count": null,
      "outputs": []
    },
    {
      "cell_type": "markdown",
      "metadata": {
        "_uuid": "8d0873633dd49179c8cae17377641b97d323ef3b",
        "id": "_myADnY5n6HE",
        "colab_type": "text"
      },
      "source": [
        "### Train"
      ]
    },
    {
      "cell_type": "code",
      "metadata": {
        "trusted": true,
        "_uuid": "2b659d390c6577dc5cdb6b6297934279b4e801d5",
        "id": "HbX4bVyin6HE",
        "colab_type": "code",
        "colab": {
          "base_uri": "https://localhost:8080/",
          "height": 354
        },
        "outputId": "148b3fb2-4c68-43ac-cfb8-32f96745df4e"
      },
      "source": [
        "%%time\n",
        "history = model.fit(x_train, y_train,\n",
        "                    batch_size=BATCH_SIZE,\n",
        "                    epochs=EPOCHS,\n",
        "                    validation_split=0.1,\n",
        "                    verbose=1,\n",
        "                    callbacks=callbacks)"
      ],
      "execution_count": null,
      "outputs": [
        {
          "output_type": "stream",
          "text": [
            "Train on 1152000 samples, validate on 128000 samples\n",
            "Epoch 1/8\n",
            "1152000/1152000 [==============================] - 1174s 1ms/step - loss: 0.5101 - accuracy: 0.7463 - val_loss: 0.4659 - val_accuracy: 0.7791\n",
            "Epoch 2/8\n",
            "1152000/1152000 [==============================] - 1150s 998us/step - loss: 0.4846 - accuracy: 0.7639 - val_loss: 0.4570 - val_accuracy: 0.7835\n",
            "Epoch 3/8\n",
            "1152000/1152000 [==============================] - 1161s 1ms/step - loss: 0.4858 - accuracy: 0.7633 - val_loss: 0.4559 - val_accuracy: 0.7841\n",
            "Epoch 4/8\n",
            "1152000/1152000 [==============================] - 1163s 1ms/step - loss: 0.4784 - accuracy: 0.7675 - val_loss: 0.4522 - val_accuracy: 0.7866\n",
            "Epoch 5/8\n",
            "1152000/1152000 [==============================] - 1126s 977us/step - loss: 0.4804 - accuracy: 0.7663 - val_loss: 0.4525 - val_accuracy: 0.7862\n",
            "Epoch 6/8\n",
            "1152000/1152000 [==============================] - 1145s 994us/step - loss: 0.4749 - accuracy: 0.7696 - val_loss: 0.4500 - val_accuracy: 0.7871\n",
            "Epoch 7/8\n",
            "1152000/1152000 [==============================] - 1153s 1ms/step - loss: 0.4720 - accuracy: 0.7715 - val_loss: 0.4490 - val_accuracy: 0.7885\n",
            "Epoch 8/8\n",
            "1152000/1152000 [==============================] - 1147s 996us/step - loss: 0.4701 - accuracy: 0.7729 - val_loss: 0.4471 - val_accuracy: 0.7894\n",
            "CPU times: user 3h 33min 43s, sys: 32min 21s, total: 4h 6min 4s\n",
            "Wall time: 2h 33min 40s\n"
          ],
          "name": "stdout"
        }
      ]
    },
    {
      "cell_type": "markdown",
      "metadata": {
        "_uuid": "267258196d96796ac69a7b8c466314bcf5d6ee42",
        "id": "i6IliBgAn6HH",
        "colab_type": "text"
      },
      "source": [
        "### Evaluate"
      ]
    },
    {
      "cell_type": "code",
      "metadata": {
        "trusted": true,
        "_uuid": "98ecd8f1b8b74594c3ea775dd68a094e92458022",
        "id": "UzyElSRAn6HI",
        "colab_type": "code",
        "colab": {
          "base_uri": "https://localhost:8080/",
          "height": 123
        },
        "outputId": "fe4cecfe-daa1-4c57-8ab7-fc0e4f1c8adf"
      },
      "source": [
        "%%time\n",
        "score = model.evaluate(x_test, y_test, batch_size=BATCH_SIZE)\n",
        "print()\n",
        "print(\"ACCURACY:\",score[1])\n",
        "print(\"LOSS:\",score[0])"
      ],
      "execution_count": null,
      "outputs": [
        {
          "output_type": "stream",
          "text": [
            "320000/320000 [==============================] - 60s 188us/step\n",
            "\n",
            "ACCURACY: 0.7886562347412109\n",
            "LOSS: 0.446568314743042\n",
            "CPU times: user 39 s, sys: 13.5 s, total: 52.5 s\n",
            "Wall time: 1min\n"
          ],
          "name": "stdout"
        }
      ]
    },
    {
      "cell_type": "code",
      "metadata": {
        "trusted": true,
        "_uuid": "40c72cd1e9d6c4fd799cbba7c813765ac4039dfc",
        "id": "ud8ps5Vxn6HO",
        "colab_type": "code",
        "colab": {
          "base_uri": "https://localhost:8080/",
          "height": 545
        },
        "outputId": "b382d074-b339-432d-a9f9-269144d820ef"
      },
      "source": [
        "acc = history.history['accuracy']\n",
        "val_acc = history.history['val_accuracy']\n",
        "loss = history.history['loss']\n",
        "val_loss = history.history['val_loss']\n",
        " \n",
        "epochs = range(len(acc))\n",
        " \n",
        "plt.plot(epochs, acc, 'b', label='Training acc')\n",
        "plt.plot(epochs, val_acc, 'r', label='Validation acc')\n",
        "plt.title('Training and validation accuracy')\n",
        "plt.legend()\n",
        " \n",
        "plt.figure()\n",
        " \n",
        "plt.plot(epochs, loss, 'b', label='Training loss')\n",
        "plt.plot(epochs, val_loss, 'r', label='Validation loss')\n",
        "plt.title('Training and validation loss')\n",
        "plt.legend()\n",
        " \n",
        "plt.show()"
      ],
      "execution_count": null,
      "outputs": [
        {
          "output_type": "display_data",
          "data": {
            "image/png": "[encoded data removed]",
            "text/plain": [
              "<Figure size 432x288 with 1 Axes>"
            ]
          },
          "metadata": {
            "tags": [],
            "needs_background": "light"
          }
        },
        {
          "output_type": "display_data",
          "data": {
            "image/png": "[encoded data removed]",
            "text/plain": [
              "<Figure size 432x288 with 1 Axes>"
            ]
          },
          "metadata": {
            "tags": [],
            "needs_background": "light"
          }
        }
      ]
    },
    {
      "cell_type": "markdown",
      "metadata": {
        "_uuid": "6bdfc0f6a6af5bebc0271d83dd7432c91001409b",
        "id": "lglzR-B_n6HV",
        "colab_type": "text"
      },
      "source": [
        "### Predict"
      ]
    },
    {
      "cell_type": "code",
      "metadata": {
        "trusted": true,
        "_uuid": "f0b0fa3d4b1bb14b3f5e3d169a369f3ebef29ae1",
        "id": "EVOA41vbn6HX",
        "colab_type": "code",
        "colab": {}
      },
      "source": [
        "def decode_sentiment(score, include_neutral=True):\n",
        "    if include_neutral:        \n",
        "        label = NEUTRAL\n",
        "        if score <= SENTIMENT_THRESHOLDS[0]:\n",
        "            label = NEGATIVE\n",
        "        elif score >= SENTIMENT_THRESHOLDS[1]:\n",
        "            label = POSITIVE\n",
        "\n",
        "        return label\n",
        "    else:\n",
        "        return NEGATIVE if score < 0.5 else POSITIVE"
      ],
      "execution_count": null,
      "outputs": []
    },
    {
      "cell_type": "code",
      "metadata": {
        "trusted": true,
        "_uuid": "ed4086d651f2f8cbed11d3c909a8873607d29a06",
        "id": "ucfCZ68bn6Hb",
        "colab_type": "code",
        "colab": {}
      },
      "source": [
        "def predict(text, include_neutral=True):\n",
        "    start_at = time.time()\n",
        "    # Tokenize text\n",
        "    x_test = pad_sequences(tokenizer.texts_to_sequences([text]), maxlen=SEQUENCE_LENGTH)\n",
        "    # Predict\n",
        "    score = model.predict([x_test])[0]\n",
        "    # Decode sentiment\n",
        "    label = decode_sentiment(score, include_neutral=include_neutral)\n",
        "    \n",
        "\n",
        "    return {\"label\": label, \"score\": float(score),\n",
        "       \"elapsed_time\": time.time()-start_at}  "
      ],
      "execution_count": null,
      "outputs": []
    },
    {
      "cell_type": "code",
      "metadata": {
        "trusted": true,
        "_uuid": "ca38b1e6c9b5acfed7467de2cf02a78333108872",
        "id": "uhqEcbyJn6He",
        "colab_type": "code",
        "colab": {
          "base_uri": "https://localhost:8080/",
          "height": 68
        },
        "outputId": "da5f174d-0cb8-40c4-ebd1-93a5224c0688"
      },
      "source": [
        "predict(\"I love the music\")"
      ],
      "execution_count": null,
      "outputs": [
        {
          "output_type": "execute_result",
          "data": {
            "text/plain": [
              "{'elapsed_time': 0.23691129684448242,\n",
              " 'label': 'POSITIVE',\n",
              " 'score': 0.9686787724494934}"
            ]
          },
          "metadata": {
            "tags": []
          },
          "execution_count": 38
        }
      ]
    },
    {
      "cell_type": "code",
      "metadata": {
        "trusted": true,
        "_uuid": "0e5fe647533be0148850de349fea6ef6f71303d1",
        "id": "2F-Qb9qXn6Hk",
        "colab_type": "code",
        "colab": {
          "base_uri": "https://localhost:8080/",
          "height": 68
        },
        "outputId": "99935bc2-1f5a-41d8-bde8-0b5e56f873ed"
      },
      "source": [
        "predict(\"I hate the rain\")"
      ],
      "execution_count": null,
      "outputs": [
        {
          "output_type": "execute_result",
          "data": {
            "text/plain": [
              "{'elapsed_time': 0.08937788009643555,\n",
              " 'label': 'NEGATIVE',\n",
              " 'score': 0.009826162829995155}"
            ]
          },
          "metadata": {
            "tags": []
          },
          "execution_count": 39
        }
      ]
    },
    {
      "cell_type": "code",
      "metadata": {
        "trusted": true,
        "_uuid": "37064dffcc8920d34ccd54fac7c8b50e583a8269",
        "id": "sYUEWhymn6H0",
        "colab_type": "code",
        "colab": {
          "base_uri": "https://localhost:8080/",
          "height": 68
        },
        "outputId": "a84952a2-89f3-425e-c30e-9a8a7c327588"
      },
      "source": [
        "predict(\"i don't know what i'm doing\")"
      ],
      "execution_count": null,
      "outputs": [
        {
          "output_type": "execute_result",
          "data": {
            "text/plain": [
              "{'elapsed_time': 0.07268142700195312,\n",
              " 'label': 'NEGATIVE',\n",
              " 'score': 0.34426000714302063}"
            ]
          },
          "metadata": {
            "tags": []
          },
          "execution_count": 40
        }
      ]
    },
    {
      "cell_type": "markdown",
      "metadata": {
        "_uuid": "3ee72e47f84b6dbc32e02a783de5ec1661f157e1",
        "id": "Gnhd7VS8n6H5",
        "colab_type": "text"
      },
      "source": [
        "### Confusion Matrix"
      ]
    },
    {
      "cell_type": "code",
      "metadata": {
        "trusted": true,
        "_uuid": "0e920173eb05f04aecdd735bc5dff0f5be5f8d15",
        "id": "EH-Pobccn6H6",
        "colab_type": "code",
        "colab": {
          "base_uri": "https://localhost:8080/",
          "height": 70
        },
        "outputId": "fb08f02c-432c-494a-d815-a5e623602123"
      },
      "source": [
        "%%time\n",
        "y_pred_1d = []\n",
        "y_test_1d = list(df_test.target)\n",
        "scores = model.predict(x_test, verbose=1, batch_size=4000)\n",
        "y_pred_1d = [decode_sentiment(score, include_neutral=False) for score in scores]"
      ],
      "execution_count": null,
      "outputs": [
        {
          "output_type": "stream",
          "text": [
            "320000/320000 [==============================] - 49s 154us/step\n",
            "CPU times: user 30.2 s, sys: 20 s, total: 50.2 s\n",
            "Wall time: 50 s\n"
          ],
          "name": "stdout"
        }
      ]
    },
    {
      "cell_type": "code",
      "metadata": {
        "trusted": true,
        "_uuid": "b3575191bb425ab871f3f41e83812ee84bb7e595",
        "id": "7mojhxfdn6IF",
        "colab_type": "code",
        "colab": {}
      },
      "source": [
        "def plot_confusion_matrix(cm, classes,\n",
        "                          title='Confusion matrix',\n",
        "                          cmap=plt.cm.Blues):\n",
        "    \"\"\"\n",
        "    This function prints and plots the confusion matrix.\n",
        "    Normalization can be applied by setting `normalize=True`.\n",
        "    \"\"\"\n",
        "\n",
        "    cm = cm.astype('float') / cm.sum(axis=1)[:, np.newaxis]\n",
        "\n",
        "    plt.imshow(cm, interpolation='nearest', cmap=cmap)\n",
        "    plt.title(title, fontsize=30)\n",
        "    plt.colorbar()\n",
        "    tick_marks = np.arange(len(classes))\n",
        "    plt.xticks(tick_marks, classes, rotation=90, fontsize=22)\n",
        "    plt.yticks(tick_marks, classes, fontsize=22)\n",
        "\n",
        "    fmt = '.2f'\n",
        "    thresh = cm.max() / 2.\n",
        "    for i, j in itertools.product(range(cm.shape[0]), range(cm.shape[1])):\n",
        "        plt.text(j, i, format(cm[i, j], fmt),\n",
        "                 horizontalalignment=\"center\",\n",
        "                 color=\"white\" if cm[i, j] > thresh else \"black\")\n",
        "\n",
        "    plt.ylabel('True label', fontsize=25)\n",
        "    plt.xlabel('Predicted label', fontsize=25)"
      ],
      "execution_count": null,
      "outputs": []
    },
    {
      "cell_type": "code",
      "metadata": {
        "trusted": true,
        "_uuid": "a57dc6f6211c144491a70f533225edfa95a2dc66",
        "id": "O0i7hIXKn6IL",
        "colab_type": "code",
        "colab": {
          "base_uri": "https://localhost:8080/",
          "height": 803
        },
        "outputId": "d1e9ebdf-5f51-4559-95e0-5caeac50774b"
      },
      "source": [
        "%%time\n",
        "\n",
        "cnf_matrix = confusion_matrix(y_test_1d, y_pred_1d)\n",
        "plt.figure(figsize=(12,12))\n",
        "plot_confusion_matrix(cnf_matrix, classes=df_train.target.unique(), title=\"Confusion matrix\")\n",
        "plt.show()"
      ],
      "execution_count": null,
      "outputs": [
        {
          "output_type": "display_data",
          "data": {
            "image/png": "[encoded data removed]",
            "text/plain": [
              "<Figure size 864x864 with 2 Axes>"
            ]
          },
          "metadata": {
            "tags": [],
            "needs_background": "light"
          }
        },
        {
          "output_type": "stream",
          "text": [
            "CPU times: user 1.2 s, sys: 3.1 ms, total: 1.21 s\n",
            "Wall time: 1.22 s\n"
          ],
          "name": "stdout"
        }
      ]
    },
    {
      "cell_type": "markdown",
      "metadata": {
        "_uuid": "e23b957348dcc084249d3cc7538b972da471c2cd",
        "id": "i2oNUkVNn6IV",
        "colab_type": "text"
      },
      "source": [
        "### Classification Report"
      ]
    },
    {
      "cell_type": "code",
      "metadata": {
        "trusted": true,
        "_uuid": "a7fe05b7caa1c984ff1deb0be2f7c6bc043df9f5",
        "id": "VKR-bWaon6IX",
        "colab_type": "code",
        "colab": {
          "base_uri": "https://localhost:8080/",
          "height": 170
        },
        "outputId": "b9e7411c-1ef2-45e3-c249-1235426add10"
      },
      "source": [
        "print(classification_report(y_test_1d, y_pred_1d))"
      ],
      "execution_count": null,
      "outputs": [
        {
          "output_type": "stream",
          "text": [
            "              precision    recall  f1-score   support\n",
            "\n",
            "    NEGATIVE       0.79      0.78      0.79    159494\n",
            "    POSITIVE       0.79      0.79      0.79    160506\n",
            "\n",
            "    accuracy                           0.79    320000\n",
            "   macro avg       0.79      0.79      0.79    320000\n",
            "weighted avg       0.79      0.79      0.79    320000\n",
            "\n"
          ],
          "name": "stdout"
        }
      ]
    },
    {
      "cell_type": "markdown",
      "metadata": {
        "_uuid": "4eb300f0c6693a618587c7dcf32f77f5416cbfb9",
        "id": "P8wqRUF6n6Ii",
        "colab_type": "text"
      },
      "source": [
        "### Accuracy Score"
      ]
    },
    {
      "cell_type": "code",
      "metadata": {
        "trusted": true,
        "_uuid": "5cf76e6e09f8a60ed25947932b94c772eda44d23",
        "id": "IAfDAeKon6Ij",
        "colab_type": "code",
        "colab": {
          "base_uri": "https://localhost:8080/",
          "height": 34
        },
        "outputId": "82947746-7df6-4039-cb11-a193d80ac674"
      },
      "source": [
        "accuracy_score(y_test_1d, y_pred_1d)"
      ],
      "execution_count": null,
      "outputs": [
        {
          "output_type": "execute_result",
          "data": {
            "text/plain": [
              "0.78865625"
            ]
          },
          "metadata": {
            "tags": []
          },
          "execution_count": 46
        }
      ]
    },
    {
      "cell_type": "markdown",
      "metadata": {
        "_uuid": "4f014c32f3833db282e1a075c526604f34e3158c",
        "id": "1LTmyhw9n6Io",
        "colab_type": "text"
      },
      "source": [
        "### Save model"
      ]
    },
    {
      "cell_type": "code",
      "metadata": {
        "trusted": true,
        "_uuid": "3b2b3ad5b592977b404acfa1c9ad303a62837255",
        "id": "6faYcFSAn6Iq",
        "colab_type": "code",
        "colab": {}
      },
      "source": [
        "model.save(KERAS_MODEL)"
      ],
      "execution_count": null,
      "outputs": []
    },
    {
      "cell_type": "code",
      "metadata": {
        "trusted": true,
        "_uuid": "cc363c54782894757f5ea8820c6a170f2e16ef93",
        "id": "U6HHl4Son6Iv",
        "colab_type": "code",
        "colab": {}
      },
      "source": [
        ""
      ],
      "execution_count": null,
      "outputs": []
    }
  ]
}